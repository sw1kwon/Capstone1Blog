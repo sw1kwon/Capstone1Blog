{
 "cells": [
  {
   "cell_type": "raw",
   "id": "eeb73706-f90e-4d46-bc50-bc8f426b9549",
   "metadata": {
    "vscode": {
     "languageId": "raw"
    }
   },
   "source": [
    "---\n",
    "title: \"Statistical Reasoning and Statistical Inference – Utilizing Frameworks for Problem Solving\"\n",
    "author: \"sw1kwon\"\n",
    "date: \"03/23/2025\"\n",
    "---"
   ]
  },
  {
   "cell_type": "markdown",
   "id": "5b225768-22f1-497d-a824-b615b031760e",
   "metadata": {},
   "source": [
    "# Logical Reasoning Method Comparison\n",
    "\n",
    "| Reasoning Method      | Description                                       | Advantages                                      | Disadvantages                                 |\n",
    "|----------------------|-------------------------------------------------|------------------------------------------------|----------------------------------------------|\n",
    "| Deductive Reasoning | General principles → Specific conclusion        | Ensures logical certainty                      | Errors occur if premises are incorrect       |\n",
    "| Inductive Reasoning | Specific cases → General principle              | Useful for scientific research and data analysis | Difficult to ensure absolute certainty      |\n",
    "| Abductive Reasoning | Selecting the most plausible explanation        | Useful for solving real-world problems         | Possibility of errors                        |\n",
    "| Probabilistic Reasoning | Drawing conclusions using probability        | Useful for AI and data analysis                | No 100% certainty                            |\n",
    "| Intuitive Reasoning | Quick judgment based on experience              | Experts can make quick decisions               | Risk of subjective errors                    |\n",
    "| Emotional Reasoning | Judgment influenced by emotions                 | Allows human-centered judgment                 | Can lead to irrational conclusions           |\n",
    "| Dialectical Reasoning | Resolving conflicts between opposing concepts | Useful for philosophical debates               | Difficult to experimentally verify          |"
   ]
  },
  {
   "cell_type": "markdown",
   "id": "29e7f710-daec-4d79-96fa-b30d7fead957",
   "metadata": {},
   "source": [
    "## Conclusion\n",
    "\n",
    "- Reasoning is divided into **logical reasoning** (e.g., deduction, induction, abduction) and **non-logical reasoning** (e.g., intuition, emotion, dialectical reasoning).  \n",
    "Each method is appropriately used depending on the **context and purpose**.\n",
    "\n",
    "- Reasoning plays a **crucial role** in various fields, including **scientific exploration, data analysis, legal arguments, artificial intelligence, and political debates**."
   ]
  },
  {
   "cell_type": "markdown",
   "id": "1bd1c16a-f1e4-4e26-a3e0-6f65df4413b4",
   "metadata": {},
   "source": [
    "# Statistical Reasoning vs Statistical Inference\n",
    "\n",
    "| Category                | Statistical Reasoning                     | Statistical Inference                          |\n",
    "|-------------------------|------------------------------------------|-----------------------------------------------|\n",
    "| Focus                  | Logically interpreting data for decision-making | Drawing conclusions about the population using samples |\n",
    "| Process                | Intuitive understanding, subjective reasoning, logical evaluation | Using mathematical methods (estimation, hypothesis testing) |\n",
    "| Consideration of Uncertainty | Attempts to judge intuitively | Uses probability and statistical principles for precise analysis |\n",
    "| Example of Application | \"Is this data reliable?\"                 | \"The population mean is within the 95% confidence interval\" |\n",
    "| Required Skills        | Logical thinking, data interpretation skills | Understanding and applying statistical methods |\n",
    "\n",
    "## Summary & Conclusion\n",
    "\n",
    "- **Statistical reasoning** is the process of interpreting and logically evaluating data.  \n",
    "- **Statistical inference** is the mathematical process of drawing conclusions about a population based on sample data.  \n",
    "- To perform **statistical inference** effectively, **statistical reasoning** must first be well developed.  \n",
    "- In **data analysis**, both concepts must be applied together to reach accurate conclusions.  \n"
   ]
  },
  {
   "cell_type": "markdown",
   "id": "f6c6e3fb-be1f-4e9c-b97e-b79ad5da5a0f",
   "metadata": {},
   "source": [
    "# Framework\n",
    "\n",
    "A **framework** is a systematic approach to solving specific problems and has continuously evolved alongside statistical problem-solving and data analysis.  \n",
    "Initially developed through **scientific methodologies**, frameworks have integrated with **statistics, data analysis, and machine learning**, leading to continuous advancements.  \n",
    "Today, methodologies such as **PPDAC, CRISP-DM, and DMAIC** are widely used, and in the future, frameworks may expand further into **AI-driven decision-making**.\n",
    "\n",
    "## Historical Development of Frameworks\n",
    "\n",
    "| Era           | Major Developments                                  | Representative Concepts                      |\n",
    "|--------------|--------------------------------------------------|---------------------------------------------|\n",
    "| 17th~18th Century | Emergence of the scientific method              | Inductive reasoning, deductive reasoning   |\n",
    "| 19th Century  | Development of probability theory and statistics | Bayesian probability, hypothesis testing  |\n",
    "| Early 20th Century | Experimental design and quality control       | DOE (Design of Experiments), Six Sigma    |\n",
    "| Mid 20th Century | Computer-based statistical analysis            | SPSS, SAS                                 |\n",
    "| 1990s        | Introduction of data mining concepts              | CRISP-DM, DMAIC                           |\n",
    "| 2000s        | Expansion of statistics and data science          | PPDAC, GAISE, DDDM                        |\n",
    "| 2010s and beyond | Big data and AI-driven analysis                 | Automated data analysis                    |"
   ]
  },
  {
   "cell_type": "markdown",
   "id": "0188e2e1-5442-4557-91b0-10109c38f535",
   "metadata": {},
   "source": [
    "## 1. PPDAC Framework\n",
    "\n",
    "**(Problem, Plan, Data, Analysis, Conclusion)**  \n",
    "\n",
    "The PPDAC framework is a representative statistical problem-solving framework that focuses on data-driven problem resolution.\n",
    "\n",
    "### PPDAC Process\n",
    "\n",
    "| Stage       | Description                                      |\n",
    "|------------|--------------------------------------------------|\n",
    "| **Problem**  | Define the statistical problem to be solved      |\n",
    "| **Plan**     | Design the data collection and analysis methods  |\n",
    "| **Data**     | Collect appropriate data                         |\n",
    "| **Analysis** | Analyze the data using statistical methods       |\n",
    "| **Conclusion** | Interpret analysis results and make decisions    |\n",
    "\n",
    "### Key Features:\n",
    "- The **most standardized statistical problem-solving process**  \n",
    "- Widely used in **data analysis projects** across various domains"
   ]
  },
  {
   "cell_type": "markdown",
   "id": "b1ab5f9b-9e0c-471d-84e3-facfc1d9e0e3",
   "metadata": {},
   "source": [
    "## 2. GAISE Framework\n",
    "\n",
    "**(Guidelines for Assessment and Instruction in Statistics Education)**  \n",
    "\n",
    "The GAISE framework is a step-by-step approach to statistical education proposed by the **American Statistical Association (ASA)**.\n",
    "\n",
    "### GAISE Process\n",
    "\n",
    "| Stage                    | Description                                      |\n",
    "|--------------------------|--------------------------------------------------|\n",
    "| **Formulate Questions**  | Define the research problem                      |\n",
    "| **Collect Data**         | Gather relevant data                             |\n",
    "| **Analyze Data**         | Explore the data and apply statistical methods   |\n",
    "| **Interpret Results**    | Make decisions based on the analysis results     |\n",
    "\n",
    "### Key Features:\n",
    "- **Similar to PPDAC**, but simplified to fit educational purposes  \n"
   ]
  },
  {
   "cell_type": "markdown",
   "id": "a36cbfbd-00c7-4575-88e0-20cfed318028",
   "metadata": {},
   "source": [
    "## 3. Data-Driven Decision Making (DDDM) Framework\n",
    "\n",
    "The DDDM framework is a statistical approach to making decisions based on data analysis.\n",
    "\n",
    "### DDDM Process\n",
    "\n",
    "| Stage                      | Description                                      |\n",
    "|----------------------------|--------------------------------------------------|\n",
    "| **Identify Problem**        | Define the problem that needs to be solved      |\n",
    "| **Collect & Prepare Data**  | Gather and preprocess relevant data             |\n",
    "| **Analyze Data**            | Apply statistical methods and data modeling     |\n",
    "| **Interpret & Apply**       | Make decisions based on analysis results        |\n",
    "| **Monitor & Adjust**        | Continuously track data and optimize decisions  |\n",
    "\n",
    "### Key Features:\n",
    "- **Used in business and policy decision-making**  \n",
    "- **Relies on statistical methods for practical decision-making**  \n"
   ]
  },
  {
   "cell_type": "markdown",
   "id": "f5e1f562-0e8d-44ce-9658-5f53e93bc5d1",
   "metadata": {},
   "source": [
    "## 4. Hypothesis Testing Process\n",
    "\n",
    "Hypothesis testing is a process used to evaluate research questions through statistical inference.\n",
    "\n",
    "### Hypothesis Testing Steps\n",
    "\n",
    "| Stage                      | Description                                      |\n",
    "|----------------------------|--------------------------------------------------|\n",
    "| **State Hypotheses**        | Define the null hypothesis $(H_0)$ and alternative hypothesis $(H_1)$ |\n",
    "| **Choose Significance Level** | Determine the significance level $(\\alpha)$            |\n",
    "| **Collect & Analyze Data**  | Gather sample data and compute test statistics  |\n",
    "| **Make a Decision**         | Conduct significance testing and either accept or reject the hypothesis |\n",
    "| **Interpret & Report**      | Apply the results to research or policy decisions |\n",
    "\n",
    "### Key Features:\n",
    "- Applied in **research and experimental design**  \n",
    "- Closely related to the **analysis and conclusion phases of the PPDAC framework**  \n"
   ]
  },
  {
   "cell_type": "markdown",
   "id": "81b11ab6-22c8-4f92-beed-857da0befe94",
   "metadata": {},
   "source": [
    "## 5. Design of Experiments (DOE)\n",
    "\n",
    "The DOE framework is a statistical approach to drawing conclusions based on experimental data.\n",
    "\n",
    "### DOE Process\n",
    "\n",
    "| Stage                   | Description                                      |\n",
    "|-------------------------|--------------------------------------------------|\n",
    "| **Define Objective**     | Establish experiment objectives and hypotheses  |\n",
    "| **Design Experiment**    | Determine factors and levels for the experiment |\n",
    "| **Collect Data**         | Conduct the experiment and record data          |\n",
    "| **Analyze Data**         | Evaluate factor effects using statistical tests |\n",
    "| **Draw Conclusions**     | Make decisions based on experimental results    |\n",
    "\n",
    "### Key Features:\n",
    "- Applied in **industrial process optimization, A/B testing, and clinical trials**  \n",
    "- **Similar to PPDAC** but emphasizes an **experimental approach**  \n"
   ]
  },
  {
   "cell_type": "markdown",
   "id": "5e601455-6c0d-429c-a116-bf3b1fd18d8a",
   "metadata": {},
   "source": [
    "## 6. CRISP-DM (Cross Industry Standard Process for Data Mining)\n",
    "\n",
    "CRISP-DM is a widely used framework in **data analysis and data mining projects**.\n",
    "\n",
    "### CRISP-DM Process\n",
    "\n",
    "| Stage                      | Description                                      |\n",
    "|----------------------------|--------------------------------------------------|\n",
    "| **Business Understanding**  | Define analysis objectives and goals            |\n",
    "| **Data Understanding**      | Identify key characteristics of the data        |\n",
    "| **Data Preparation**        | Clean and preprocess the data                   |\n",
    "| **Modeling**                | Apply statistical methods and machine learning  |\n",
    "| **Evaluation**              | Assess model performance and analysis results   |\n",
    "| **Deployment**              | Implement the analysis results in business applications |\n",
    "\n",
    "### Key Features:\n",
    "- **Similar to PPDAC**, but focuses on **data mining and machine learning applications**  \n"
   ]
  },
  {
   "cell_type": "markdown",
   "id": "82b346ae-208d-4b3d-85ea-ee6a14d670f3",
   "metadata": {},
   "source": [
    "## 7. DCOVA Framework\n",
    "\n",
    "**(Define, Collect, Organize, Visualize, Analyze)**  \n",
    "\n",
    "DCOVA is a structured framework for solving problems through data analysis.\n",
    "\n",
    "### DCOVA Process\n",
    "\n",
    "| Stage                     | Description                                      |\n",
    "|---------------------------|--------------------------------------------------|\n",
    "| **Define**                | Define the problem to be solved                  |\n",
    "| **Collect**               | Gather the necessary data                        |\n",
    "| **Organize**              | Structure and clean the data                     |\n",
    "| **Visualize**             | Explore patterns through data visualization      |\n",
    "| **Analyze**               | Apply statistical analysis and modeling          |\n",
    "\n",
    "### Key Features:\n",
    "- **Highly similar to PPDAC**, but with an **emphasis on data visualization**  \n"
   ]
  },
  {
   "cell_type": "markdown",
   "id": "266fa07f-55e8-4ea7-8820-8520734a353c",
   "metadata": {},
   "source": [
    "## Comparison of Frameworks Similar to PPDAC\n",
    "\n",
    "| Framework   | Key Features                                       | Differences from PPDAC                  |\n",
    "|------------|--------------------------------------------------|--------------------------------------|\n",
    "| **GAISE**  | Step-by-step approach for statistical education | Focuses on education and practice  |\n",
    "| **DDDM**   | Data-driven decision-making process             | Optimized for business analysis    |\n",
    "| **Hypothesis Testing Process** | Solves problems through statistical hypothesis testing | Focuses on specific testing methods |\n",
    "| **DOE (Design of Experiments)** | Statistical validation through experiments | Emphasizes experimental data       |\n",
    "| **CRISP-DM** | Applies data mining and machine learning      | Strong focus on modeling processes |\n",
    "| **DCOVA**   | Includes data analysis and visualization       | Emphasizes visualization processes |"
   ]
  },
  {
   "cell_type": "markdown",
   "id": "5fba37d3-6f3e-4264-9f9a-cc963d0aab26",
   "metadata": {},
   "source": [
    "## Conclusion\n",
    "\n",
    "PPDAC is the **most general statistical problem-solving process**, but different frameworks can be utilized depending on specific purposes such as education, business, experimental design, or machine learning.\n",
    "\n",
    "- **Education and research purposes**: GAISE, Hypothesis Testing Process  \n",
    "- **Business analysis and optimization**: DDDM, DCOVA  \n",
    "- **Experiment and test-based analysis**: DOE  \n",
    "- **Machine learning and data mining**: CRISP-DM  \n",
    "\n",
    "> In statistical problem-solving, **PPDAC is the most versatile framework**, but it is essential to use other frameworks as needed!\n"
   ]
  }
 ],
 "metadata": {
  "kernelspec": {
   "display_name": "Python 3 (ipykernel)",
   "language": "python",
   "name": "python3"
  },
  "language_info": {
   "codemirror_mode": {
    "name": "ipython",
    "version": 3
   },
   "file_extension": ".py",
   "mimetype": "text/x-python",
   "name": "python",
   "nbconvert_exporter": "python",
   "pygments_lexer": "ipython3",
   "version": "3.11.11"
  }
 },
 "nbformat": 4,
 "nbformat_minor": 5
}
