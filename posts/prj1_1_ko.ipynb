{
 "cells": [
  {
   "cell_type": "raw",
   "id": "bf32751a-ad6b-467c-8fe7-24a2ba706cab",
   "metadata": {
    "vscode": {
     "languageId": "raw"
    }
   },
   "source": [
    "---\n",
    "title: \"Web Crawling Project (ko)\"\n",
    "author: \"sw1kwon\"\n",
    "date: \"04/07/2025\"\n",
    "---"
   ]
  },
  {
   "cell_type": "markdown",
   "id": "8a2fe0ea-65b1-420c-9754-6c01ce87c88b",
   "metadata": {},
   "source": [
    "# Problem"
   ]
  },
  {
   "cell_type": "markdown",
   "id": "76d49c12-baf4-4b5d-9ee7-88176c4268ed",
   "metadata": {},
   "source": [
    "## 목표"
   ]
  },
  {
   "cell_type": "markdown",
   "id": "6c802648-7621-4e58-8bbe-d52947fa90a9",
   "metadata": {},
   "source": [
    "- 조선시대 국왕들이 대중매체(드라마, 영화 등)에서 어떻게 재현되고 있는지를 확인하기 위해, 위키백과로부터 관련 데이터를 크롤링"
   ]
  },
  {
   "cell_type": "markdown",
   "id": "1ace0fc4-c76b-43f6-866b-ac94f415d11a",
   "metadata": {},
   "source": [
    "## 구체적 목표"
   ]
  },
  {
   "cell_type": "markdown",
   "id": "3e3f77b6-334b-4a67-b993-6c24793fb40b",
   "metadata": {},
   "source": [
    "- 전체 조선 국왕 개별 문서 내의\n",
    "- '대중문화 속 등장' 관련 항목에 등장하는\n",
    "- **작품 제목, 연도, 출연 배우 등**의 정보를 크롤링 후\n",
    "- 하나의 통일된 형태로 전처리 후 분석\n",
    "- (확장) 조선왕조실록의 텍스트도 크롤링하여 함께 분석"
   ]
  },
  {
   "cell_type": "markdown",
   "id": "73e6a4d3-b891-4565-9d07-540e4181dfc0",
   "metadata": {},
   "source": [
    "## 관련 질문"
   ]
  },
  {
   "cell_type": "markdown",
   "id": "b9e9af3c-2fae-4c53-8bbc-7da1bd4338c9",
   "metadata": {},
   "source": [
    "- 현재 대중문화에서 조선의 왕들은 어떻게 재현되고 있는가?\n",
    "- 특정 왕을 맡은 배우들의 이미지를 일반화할 수 있는가?\n",
    "- 어떤 배우가 자주 왕 역할을 맡는 경향이 있는가?\n",
    "- (확장) 왕이 재현된 이미지와 사료(예: 조선왕조실록) 속 실제 묘사는 얼마나 일치하는가?"
   ]
  },
  {
   "cell_type": "markdown",
   "id": "ed699576-e072-4c75-a4d2-c477a188575e",
   "metadata": {},
   "source": [
    "# Plan"
   ]
  },
  {
   "cell_type": "markdown",
   "id": "112b0177-cc09-40b8-b5fc-f652351df41c",
   "metadata": {},
   "source": [
    "## 데이터 수집"
   ]
  },
  {
   "cell_type": "markdown",
   "id": "5b2a41d5-7f86-4f67-b6bf-91d1f2d1840b",
   "metadata": {},
   "source": [
    "- 위키백과에 정리된 조선시대 국왕들의 표를 통해 개별 국왕 문서에 접속\n",
    "    - [https://ko.wikipedia.org/wiki/%EC%A1%B0%EC%84%A0_%EA%B5%AD%EC%99%95#%EC%8B%A4%EC%A0%9C_%EC%A6%89%EC%9C%84%ED%95%9C_%EA%B5%AD%EC%99%95_%EB%AA%A9%EB%A1%9D](https://ko.wikipedia.org/wiki/%EC%A1%B0%EC%84%A0_%EA%B5%AD%EC%99%95#%EC%8B%A4%EC%A0%9C_%EC%A6%89%EC%9C%84%ED%95%9C_%EA%B5%AD%EC%99%95_%EB%AA%A9%EB%A1%9D)\n",
    "- 각 국왕들의 문서 중에는 대중문화에서 나타난 국왕(드라마, 영화 등)과 관련한 문서 존재\n",
    "    - (예시) [https://ko.wikipedia.org/wiki/%ED%83%9C%EC%A1%B0_(%EC%A1%B0%EC%84%A0)#%EB%8C%80%EC%A4%91_%EB%AC%B8%ED%99%94%EC%86%8D%EC%97%90_%EB%82%98%ED%83%80%EB%82%98%EB%8A%94_%ED%83%9C%EC%A1%B0](https://ko.wikipedia.org/wiki/%ED%83%9C%EC%A1%B0_(%EC%A1%B0%EC%84%A0)#%EB%8C%80%EC%A4%91_%EB%AC%B8%ED%99%94%EC%86%8D%EC%97%90_%EB%82%98%ED%83%80%EB%82%98%EB%8A%94_%ED%83%9C%EC%A1%B0)\n",
    "- 배우 이름이 위키백과에 링크되어 있다면 함께 수집하여 추후 분석에 활용\n",
    "- R을 활용하여 정적 웹크롤링 진행, 같은 조원은 Python으로 진행 (중간에 지속적으로 내용 공유)\n",
    "- (확장) 조선왕조실록\n",
    "    - [https://sillok.history.go.kr/main/main.do](https://sillok.history.go.kr/main/main.do)\n",
    "    - 전체를 크롤링하기보다 분석 주제 관련 단어를 검색 후 나온 내용들을 원문과 함께 크롤링\n",
    "    - 동적 웹크롤링 예상"
   ]
  },
  {
   "cell_type": "markdown",
   "id": "ecfde6df-24c2-47ef-ad39-5ad29cdd78ca",
   "metadata": {},
   "source": [
    "## 분석 방법 (초안)"
   ]
  },
  {
   "cell_type": "markdown",
   "id": "bbd0498a-c0f2-40ea-99d1-a067022e4ee3",
   "metadata": {},
   "source": [
    "- 국왕 대중문화 관련 데이터 활용\n",
    "    - 등장 횟수가 많은 왕\n",
    "    - 2명 이상 왕 역할을 한 배우, 같은 왕 역할을 2번 이상 맡은 배우 등 (연결 링크로 동명이인 구분)\n",
    "    - 드라마/영화 방영 연도 분포, 시대별 왕 묘사 빈도 변화 확인\n",
    "- 국왕 대중문화 관련 데이터 + 배우 문서 활용\n",
    "    - 함께 크롤링한 배우 문서 링크로 배우 이미지, 평가 등을 파악\n",
    "    - 배우들의 이미지를 일반화할 수 있는지 확인 (텍스트 분석?)\n",
    "    - 현재 대중문화에서 묘사되는 왕의 모습과 연결\n",
    "- (확장) 조선왕조실록 활용\n",
    "    - 왕들의 이미지와 관련된 단어(예시: 성격 관련 단어)를 포함한 실록 내용 분석 \n",
    "    - 한자 단어로 검색 후 나온 결과를 크롤링 후 분석\n",
    "        - 같은 단어도 한자로 검색했을 때 검색 결과가 많음\n",
    "        - 실록의 한계 중 하나로 지적되는 번역 문제 보완\n",
    "    - 이를 현재 대중문화에서 묘사되는 왕의 이미지와 비교"
   ]
  },
  {
   "cell_type": "markdown",
   "id": "8f844ba5-dea0-4ceb-b925-47bcf6b22cba",
   "metadata": {},
   "source": [
    "# Data"
   ]
  },
  {
   "cell_type": "markdown",
   "id": "af700c78-e88d-4a34-ad93-af2dfc3a7e24",
   "metadata": {},
   "source": [
    "## 위키백과 1차"
   ]
  },
  {
   "cell_type": "markdown",
   "id": "c82ac43f-4886-47c2-a863-62bf8f5a48eb",
   "metadata": {},
   "source": [
    "- 수집 전 생각한 규칙\n",
    "    - 문서에 있는 내용 (영화, 드라마) 그대로 수집\n",
    "    - 가능하다면 처음 열에 영화, 드라마 구분\n",
    "    - 마지막 열에 배우 문서 연결 링크 추가\n",
    "    - 한 배역에 배우가 2명 이상이어도 한 칸에 다 수집 (링크도 마찬가지)\n",
    "    - 한 명의 왕을 기준으로 코드를 짠 뒤 전체 왕에게 적용하고 이후 안되는 왕 중 1명을 기준으로 코드를 짠 뒤 전부 적용하는 과정을 반복"
   ]
  },
  {
   "cell_type": "markdown",
   "id": "21076184",
   "metadata": {},
   "source": [
    "- 과정 및 크롤링 결과   \n",
    "    - [https://like-quotation-d12.notion.site/1-1ce4bf8cbb7480bab26cf8a31a6e421e](https://like-quotation-d12.notion.site/1-1ce4bf8cbb7480bab26cf8a31a6e421e)"
   ]
  },
  {
   "cell_type": "markdown",
   "id": "e382252a",
   "metadata": {},
   "source": [
    "> **코드 정리**"
   ]
  },
  {
   "cell_type": "markdown",
   "id": "e752e413-e292-4b5f-9502-b71990207e2d",
   "metadata": {},
   "source": [
    "- 코드 정리는 전부 하지 못하고 태조 기준 코드만 정리"
   ]
  },
  {
   "cell_type": "markdown",
   "id": "7ee6b873-831b-409f-93d8-9a054999f0cf",
   "metadata": {},
   "source": [
    "```r\n",
    "library(rvest)\n",
    "library(httr)\n",
    "library(dplyr)\n",
    "library(purrr)\n",
    "library(stringr)\n",
    "\n",
    "# 국왕 리스트\n",
    "kings <- list(\n",
    "  list(name = \"태조\", url = \"https://ko.wikipedia.org/wiki/태조_(조선)\", rank = 1, gunho = \"태조\"),\n",
    "  list(name = \"정종\", url = \"https://ko.wikipedia.org/wiki/정종_(조선)\", rank = 2, gunho = \"정종\"),\n",
    "  list(name = \"태종\", url = \"https://ko.wikipedia.org/wiki/태종_(조선)\", rank = 3, gunho = \"태종\"),\n",
    "  list(name = \"세종\", url = \"https://ko.wikipedia.org/wiki/세종_(조선)\", rank = 4, gunho = \"세종\"),\n",
    "  list(name = \"문종\", url = \"https://ko.wikipedia.org/wiki/문종\", rank = 5, gunho = \"문종\"),\n",
    "  list(name = \"단종\", url = \"https://ko.wikipedia.org/wiki/단종\", rank = 6, gunho = \"단종\"),\n",
    "  list(name = \"세조\", url = \"https://ko.wikipedia.org/wiki/세조\", rank = 7, gunho = \"세조\"),\n",
    "  list(name = \"예종\", url = \"https://ko.wikipedia.org/wiki/예종_(조선)\", rank = 8, gunho = \"예종\"),\n",
    "  list(name = \"성종\", url = \"https://ko.wikipedia.org/wiki/성종_(조선)\", rank = 9, gunho = \"성종\"),\n",
    "  list(name = \"연산군\", url = \"https://ko.wikipedia.org/wiki/연산군\", rank = 10, gunho = \"연산군\"),\n",
    "  list(name = \"중종\", url = \"https://ko.wikipedia.org/wiki/중종_(조선)\", rank = 11, gunho = \"중종\"),\n",
    "  list(name = \"인종\", url = \"https://ko.wikipedia.org/wiki/인종_(조선)\", rank = 12, gunho = \"인종\"),\n",
    "  list(name = \"명종\", url = \"https://ko.wikipedia.org/wiki/명종_(조선)\", rank = 13, gunho = \"명종\"),\n",
    "  list(name = \"선조\", url = \"https://ko.wikipedia.org/wiki/선조\", rank = 14, gunho = \"선조\"),\n",
    "  list(name = \"광해군\", url = \"https://ko.wikipedia.org/wiki/광해군\", rank = 15, gunho = \"광해군\"),\n",
    "  list(name = \"인조\", url = \"https://ko.wikipedia.org/wiki/인조\", rank = 16, gunho = \"인조\"),\n",
    "  list(name = \"효종\", url = \"https://ko.wikipedia.org/wiki/효종\", rank = 17, gunho = \"효종\"),\n",
    "  list(name = \"현종\", url = \"https://ko.wikipedia.org/wiki/현종\", rank = 18, gunho = \"현종\"),\n",
    "  list(name = \"숙종\", url = \"https://ko.wikipedia.org/wiki/숙종\", rank = 19, gunho = \"숙종\"),\n",
    "  list(name = \"경종\", url = \"https://ko.wikipedia.org/wiki/경종\", rank = 20, gunho = \"경종\"),\n",
    "  list(name = \"영조\", url = \"https://ko.wikipedia.org/wiki/영조\", rank = 21, gunho = \"영조\"),\n",
    "  list(name = \"정조\", url = \"https://ko.wikipedia.org/wiki/정조\", rank = 22, gunho = \"정조\"),\n",
    "  list(name = \"순조\", url = \"https://ko.wikipedia.org/wiki/순조\", rank = 23, gunho = \"순조\"),\n",
    "  list(name = \"헌종\", url = \"https://ko.wikipedia.org/wiki/헌종\", rank = 24, gunho = \"헌종\"),\n",
    "  list(name = \"철종\", url = \"https://ko.wikipedia.org/wiki/철종\", rank = 25, gunho = \"철종\"),\n",
    "  list(name = \"고종\", url = \"https://ko.wikipedia.org/wiki/고종_(조선)\", rank = 26, gunho = \"고종\")\n",
    ")\n",
    "\n",
    "\n",
    "# 배우 정보 포함된 표 파싱 함수\n",
    "parse_actor_tables <- function(king) {\n",
    "  res <- tryCatch(GET(king$url, user_agent(\"Mozilla/5.0\")), error = function(e) return(NULL))\n",
    "  if (is.null(res) || http_error(res)) return(NULL)\n",
    "  \n",
    "  page <- tryCatch(read_html(content(res, as = \"text\", encoding = \"UTF-8\")), error = function(e) return(NULL))\n",
    "  if (is.null(page)) return(NULL)\n",
    "  \n",
    "  tables <- page %>% html_nodes(\"table.wikitable\")\n",
    "  result <- list()\n",
    "  \n",
    "  for (i in seq_along(tables)) {\n",
    "    table <- tables[[i]]\n",
    "    \n",
    "    headers <- table %>% html_nodes(\"th\") %>% html_text(trim = TRUE)\n",
    "    if (!all(c(\"연도\", \"제목\", \"배우\") %in% headers)) next\n",
    "    \n",
    "    df <- table %>% html_table(fill = TRUE)\n",
    "    actor_col_idx <- which(headers == \"배우\")\n",
    "    if (length(actor_col_idx) == 0 || nrow(df) == 0) next\n",
    "    \n",
    "    actor_links <- table %>%\n",
    "      html_nodes(\"tr\") %>%\n",
    "      .[-1] %>%\n",
    "      map_chr(function(row) {\n",
    "        tds <- html_nodes(row, \"td\")\n",
    "        if (length(tds) < actor_col_idx) return(NA)\n",
    "        \n",
    "        actor_cell <- tds[[actor_col_idx]]\n",
    "        links <- html_nodes(actor_cell, \"a\")\n",
    "        \n",
    "        if (length(links) == 0) return(NA)\n",
    "        \n",
    "        names <- html_text(links, trim = TRUE)\n",
    "        hrefs <- html_attr(links, \"href\")\n",
    "        valid <- !is.na(hrefs) & str_starts(hrefs, \"/wiki/\")\n",
    "        \n",
    "        names <- names[valid]\n",
    "        hrefs <- hrefs[valid]\n",
    "        full_links <- paste0(\"https://ko.wikipedia.org\", hrefs)\n",
    "        \n",
    "        paste0(names, \" (\", full_links, \")\", collapse = \"; \")\n",
    "      })\n",
    "    \n",
    "    df$배우_링크 <- actor_links[seq_len(nrow(df))]\n",
    "    result[[length(result) + 1]] <- df\n",
    "  }\n",
    "  \n",
    "  if (length(result) == 0) return(NULL) else return(result)\n",
    "}\n",
    "\n",
    "# 크롤링 실행\n",
    "results <- list()\n",
    "errors <- list()\n",
    "\n",
    "for (king in kings) {\n",
    "  message(king$name, \" 처리 중...\")\n",
    "  \n",
    "  result <- tryCatch({\n",
    "    parse_actor_tables(king)\n",
    "  }, error = function(e) {\n",
    "    message(king$name, \" 처리 중 오류 발생: \", e$message)\n",
    "    return(NULL)\n",
    "  })\n",
    "  \n",
    "  if (is.null(result)) {\n",
    "    errors[[length(errors) + 1]] <- king$name\n",
    "  } else {\n",
    "    results[[king$name]] <- result\n",
    "  }\n",
    "}\n",
    "\n",
    "# 결과 요약 출력\n",
    "cat(\"\\n성공한 문서 수:\", length(results), \"\\n\")\n",
    "cat(\"실패한 문서 목록:\\n\")\n",
    "print(errors)\n",
    "\n",
    "View(results)\n",
    "```"
   ]
  },
  {
   "cell_type": "markdown",
   "id": "fcb27d96-7912-426a-8253-56c7811dd7fa",
   "metadata": {},
   "source": [
    "> **세부 작업 단계 설명**"
   ]
  },
  {
   "cell_type": "markdown",
   "id": "cb89d1bb-3f1d-4903-92e5-3b540506bacd",
   "metadata": {},
   "source": [
    "1. **패키지 로드**\n",
    "```r\n",
    "library(rvest)     # HTML 파싱\n",
    "library(httr)      # HTTP 요청 (User-Agent 포함)\n",
    "library(dplyr)     # 데이터 가공\n",
    "library(purrr)     # 반복문 map 함수\n",
    "library(stringr)   # 문자열 조작\n",
    "```"
   ]
  },
  {
   "cell_type": "markdown",
   "id": "103c2aad-d058-4297-af00-dc4b3811add1",
   "metadata": {},
   "source": [
    "2. **함수 `parse_actor_tables(king)` 정의**\n",
    "\n",
    "왕 한 명의 위키백과 문서에서 조건에 맞는 표를 찾아 배우 정보를 수집하는 함수\n",
    "\n",
    "- 입력\n",
    "    - `king`: 리스트로 `king$name`, `king$url` 속성 포함\n",
    "\n",
    "- 처리 절차\n",
    "    - 1. **HTTP 요청**  \n",
    "       - `GET(king$url)`로 페이지 요청\n",
    "       - `User-Agent` 지정으로 Wikipedia 서버 차단 회피\n",
    "       - 에러가 나거나 404면 `NULL` 반환\n",
    "\n",
    "    - 2. **HTML 파싱**  \n",
    "       - `html_nodes(\"table.wikitable\")`로 class가 `wikitable`인 표 모두 수집\n",
    "\n",
    "    - 3. **표 필터링**\n",
    "       - `th` 태그(헤더)에 `\"연도\"`, `\"제목\"`, `\"배우\"` 3가지 열이 모두 있는 경우만 통과\n",
    "\n",
    "    - 4. **배우 링크 추출**\n",
    "       - `\"배우\"` 열에 들어 있는 `<a>` 태그를 찾아 이름과 `href`를 추출\n",
    "       - `/wiki/`로 시작하는 링크만 유효하다고 판단\n",
    "       - `\"이름 (링크)\"` 형태로 결합해 `배우_링크` 열 생성\n",
    "\n",
    "    - 5. **결과 반환**\n",
    "       - 위 조건을 만족한 모든 표를 `data.frame` 리스트 형태로 반환\n",
    "       - 조건을 만족하는 표가 하나도 없으면 `NULL`"
   ]
  },
  {
   "cell_type": "markdown",
   "id": "780a917d-be46-4393-9ae1-9bd47147c8a9",
   "metadata": {},
   "source": [
    "3. **왕들에 대해 반복 수행**\n",
    "```r\n",
    "for (king in kings) {\n",
    "  result <- parse_actor_tables(king)\n",
    "  ...\n",
    "}\n",
    "```\n",
    "\n",
    "- 반복적으로 `parse_actor_tables()` 호출\n",
    "- 결과가 있으면 `results[[king$name]]`에 저장\n",
    "- 실패하거나 조건을 만족하는 표가 없으면 `errors`에 이름만 저장"
   ]
  },
  {
   "cell_type": "markdown",
   "id": "13166ad4-6cb8-42fe-a67b-2b7cf1358dc0",
   "metadata": {},
   "source": [
    "4. **결과 요약 출력**"
   ]
  },
  {
   "cell_type": "markdown",
   "id": "a22fedb2-0970-453f-b6c4-fe4b0d26f5ee",
   "metadata": {},
   "source": [
    "```r\n",
    "cat(\"성공한 문서 수:\", length(results))\n",
    "cat(\"실패한 문서 목록:\")\n",
    "print(errors)\n",
    "```\n",
    "\n",
    "- 수집 성공한 문서 개수 출력\n",
    "- 실패하거나 데이터가 없는 문서 이름 출력"
   ]
  },
  {
   "cell_type": "markdown",
   "id": "de3cd403-eb84-4958-90d7-4da012e86c78",
   "metadata": {},
   "source": [
    "5. **최종 결과 형태**\n",
    "\n",
    "- `results` 리스트:\n",
    "    - 구조: `results[[\"세종\"]] → list of data.frames`\n",
    "    - 각 data.frame에는 `\"연도\"`, `\"제목\"`, `\"배우\"`, `\"배우_링크\"` 컬럼 포함\n",
    "\n",
    "- `errors` 리스트:\n",
    "    - 구조: `c(\"정종\", \"예종\", ...)`\n",
    "    - 이유: 문서 없음 / 표 없음 / HTML 파싱 실패 등"
   ]
  },
  {
   "cell_type": "markdown",
   "id": "059a007a-366d-4786-a552-bf409e6a042c",
   "metadata": {},
   "source": [
    "6. **View(results) 사용**\n",
    "- RStudio에서는 `View(results)`로 리스트 전체 구조 탐색 가능  \n",
    "- 단, 이 결과는 리스트이므로 **`bind_rows()`로 병합 후 분석**하는 것이 일반적"
   ]
  },
  {
   "cell_type": "markdown",
   "id": "54c5bac3-0f7d-4d2b-84ec-63e93cf6ef77",
   "metadata": {},
   "source": [
    "> **후기**"
   ]
  },
  {
   "cell_type": "markdown",
   "id": "031242e7",
   "metadata": {},
   "source": [
    "\n",
    "- 관련 문서가 없는 헌종 제외 모든 왕의 관련 대중매체(영화, 드라마) 문서를 크롤링하긴 하였으나\n",
    "- 전처리는 하나도 안함 (방법에 따라 형식도 제각각, 많은 시간 필요 예상)\n",
    "- 배우 링크도 크롤링은 거의 다 했으나 안된 부분도 있고 2명이 있는데 1명의 링크만 있는 경우 하나하나 확인 및 수작업 필요 예상\n",
    "- 일반화된 방법이 필요하다고 생각하여 위 방식의 시도는 중단\n",
    "- 그래도 이 과정에서 데이터들을 전체적으로 살펴봤기 때문에 의미는 있었음"
   ]
  },
  {
   "cell_type": "markdown",
   "id": "d625d455-7248-44b1-9963-5e692193ed8b",
   "metadata": {},
   "source": [
    "## 위키백과 2차"
   ]
  },
  {
   "cell_type": "markdown",
   "id": "4e1db296-648b-4bce-92a5-95f3e75219d4",
   "metadata": {},
   "source": [
    "- 위의 코드로 크롤링 되지 않았던 문종을 기준으로 다시 코드를 작성\n",
    "- 모든 왕에게 적용하려면 많은 작업이 필요하겠지만 위 방식보다는 깔끔하게 데이터를 수집할 수 있을 것으로 예상"
   ]
  },
  {
   "cell_type": "markdown",
   "id": "6add93b8-cf04-4dda-9cf5-f599c3fa4868",
   "metadata": {},
   "source": [
    "```r\n",
    "library(rvest)\n",
    "library(httr)\n",
    "library(xml2)\n",
    "\n",
    "# URL 설정\n",
    "url <- \"https://ko.wikipedia.org/wiki/%EB%AC%B8%EC%A2%85_(%EC%A1%B0%EC%84%A0)\"\n",
    "\n",
    "# HTML 읽기\n",
    "page <- read_html(url)\n",
    "\n",
    "# 모든 표 추출 (table 태그 기준)\n",
    "tables <- page %>% html_elements(\"table\")\n",
    "\n",
    "# 표 수 확인\n",
    "cat(\"총 표 개수:\", length(tables), \"\\n\")\n",
    "\n",
    "# 표들을 데이터프레임 리스트로 변환\n",
    "table_list <- lapply(tables, function(tbl) {\n",
    "  tryCatch({\n",
    "    html_table(tbl, fill = TRUE)\n",
    "  }, error = function(e) NULL)\n",
    "})\n",
    "\n",
    "# 유효한 표만 필터링\n",
    "table_list <- Filter(Negate(is.null), table_list)\n",
    "\n",
    "# 표 수 확인\n",
    "cat(\"총 유용한 표 개수:\", length(table_list), \"\\n\")\n",
    "\n",
    "\n",
    "# 첫 번째 표 출력\n",
    "print(table_list[[1]])\n",
    "\n",
    "# 관심있는 표 출력\n",
    "View(table_list[[10]])\n",
    "\n",
    "\n",
    "###\n",
    "raw_table <- table_list[[10]]\n",
    "\n",
    "library(dplyr)\n",
    "library(tidyr)\n",
    "library(stringr)\n",
    "\n",
    "# 원본 데이터\n",
    "raw_table <- table_list[[10]]\n",
    "\n",
    "# X1과 X2 따로 처리\n",
    "df1 <- tibble(X = str_split(raw_table$X1, \"\\n\")) %>%\n",
    "  unnest(X) %>%\n",
    "  mutate(type = \"드라마\")\n",
    "\n",
    "df2 <- tibble(X = str_split(raw_table$X2, \"\\n\")) %>%\n",
    "  unnest(X) %>%\n",
    "  mutate(type = \"영화\")\n",
    "\n",
    "# 두 개 합치기\n",
    "df_combined <- bind_rows(df1, df2)\n",
    "\n",
    "# 결과 확인\n",
    "View(df_combined)\n",
    "\n",
    "###\n",
    "\n",
    "# 추가 팁: 각 줄에서 드라마 제목, 방송사, 연도, 배우를 정규식으로 분리하고 싶다면?\n",
    "\n",
    "df_combined <- df_combined %>%\n",
    "  mutate(\n",
    "    title = str_extract(X, \"《[^》]+》\") %>% str_remove_all(\"《|》\"),\n",
    "    year = str_extract(X, \"\\\\d{4}\"),\n",
    "    actor = str_extract(X, \"배우[:：]\\\\s*[^)]+\") %>% str_remove(\"배우[:：]\\\\s*\")\n",
    "  )\n",
    "\n",
    "# 결과 확인\n",
    "View(df_combined)\n",
    "\n",
    "\n",
    "###\n",
    "# 해당 표를 다시 가져옴 (예: 대중문화 표)\n",
    "target_table <- page %>% html_elements(\"table\") %>% .[[10]]\n",
    "\n",
    "# a 태그 전체 추출\n",
    "actor_links <- target_table %>%\n",
    "  html_elements(\"a\")\n",
    "\n",
    "# 이름 추출\n",
    "actor_names <- actor_links %>% html_text()\n",
    "\n",
    "# 링크 추출\n",
    "actor_urls <- actor_links %>% html_attr(\"href\") %>% paste0(\"https://ko.wikipedia.org\", .)\n",
    "\n",
    "# 데이터프레임으로 정리\n",
    "actor_df <- data.frame(\n",
    "  name = actor_names,\n",
    "  url = actor_urls,\n",
    "  stringsAsFactors = FALSE\n",
    ")\n",
    "\n",
    "# View로 확인\n",
    "View(actor_df)\n",
    "\n",
    "###\n",
    "\n",
    "# 한글 이름만 남기기 (정규식 활용, 2~4자 한글)\n",
    "actor_df_filtered <- actor_df %>%\n",
    "  filter(str_detect(name, \"^[가-힣]{2,4}$\"))\n",
    "\n",
    "View(actor_df_filtered)\n",
    "```"
   ]
  }
 ],
 "metadata": {
  "kernelspec": {
   "display_name": "R",
   "language": "R",
   "name": "ir"
  },
  "language_info": {
   "codemirror_mode": "r",
   "file_extension": ".r",
   "mimetype": "text/x-r-source",
   "name": "R",
   "pygments_lexer": "r",
   "version": "4.3.1"
  }
 },
 "nbformat": 4,
 "nbformat_minor": 5
}
