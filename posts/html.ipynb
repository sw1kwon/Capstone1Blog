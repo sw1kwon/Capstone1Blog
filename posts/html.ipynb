{
 "cells": [
  {
   "cell_type": "raw",
   "id": "ee6ac55b-af28-4862-8594-f725b6746679",
   "metadata": {
    "vscode": {
     "languageId": "raw"
    }
   },
   "source": [
    "---\n",
    "title: \"HTML & Markdown\"\n",
    "author: \"sw1kwon\"\n",
    "date: \"03/30/2025\"\n",
    "---"
   ]
  },
  {
   "cell_type": "markdown",
   "id": "d220d6f5-cb86-4463-8294-87f84b826cc4",
   "metadata": {},
   "source": [
    "# Why Understanding HTML and Markdown Is Important in Web Scraping"
   ]
  },
  {
   "cell_type": "markdown",
   "id": "0676b754-db05-4ac8-a512-0f9c008e7579",
   "metadata": {},
   "source": [
    "## 1. Why You Need to Understand HTML  \n",
    "HTML is a markup language that defines the structure of web pages, so understanding the HTML structure is essential for accurately extracting data during web scraping.\n",
    "\n",
    "- Understanding Tags and Hierarchy  \n",
    "    - Knowing the roles of HTML tags such as `<div>`, `<span>`, `<table>`, `<ul>`, and `<li>` makes it easier to locate the desired data.  \n",
    "    - You can use attributes such as `id`, `class`, `name`, and `href` to select specific elements.\n",
    "\n",
    "- Using XPath and CSS Selectors  \n",
    "    - Libraries like BeautifulSoup (Python) and rvest (R) use CSS selectors or XPath to find specific elements.  \n",
    "    - Example: `soup.select('div.article > p')` (BeautifulSoup) or `html_nodes(doc, \"div.article > p\")` (rvest)\n",
    "\n",
    "- Handling Dynamic Web Pages (Understanding JavaScript Rendering)  \n",
    "    - Some websites use JavaScript to load data dynamically, so tools like Selenium or Playwright are needed."
   ]
  },
  {
   "cell_type": "markdown",
   "id": "5539cb15-af7f-4c32-a75d-f01d34f82bff",
   "metadata": {},
   "source": [
    "## 2. Why You Need to Understand Markdown  \n",
    "Markdown is mainly used for documentation, blog posts, and API docs, and you may need to handle it when extracting data from the web.\n",
    "\n",
    "- Handling Web Pages with Markdown  \n",
    "    - You may need to retrieve data stored in Markdown format from websites (e.g., GitHub, Jupyter Notebook, blogs) and convert it to HTML.  \n",
    "    - You might also need to restore Markdown after extracting only text from HTML using `BeautifulSoup.get_text()`.\n",
    "\n",
    "- Cleaning and Converting Markdown Data  \n",
    "    - For example, you may need to crawl text saved in Markdown from a web page and convert it to another format (HTML, LaTeX, etc.).  \n",
    "    - You can use `markdown2`, `mistune` (Python), or `markdown` (R package) for conversion."
   ]
  },
  {
   "cell_type": "markdown",
   "id": "45da02a8-9a7c-4983-870d-05324f24d7b2",
   "metadata": {},
   "source": [
    "# 1. HTML Key Concepts"
   ]
  },
  {
   "cell_type": "markdown",
   "id": "50124d59-05d6-4a78-a72a-15aacacf75a2",
   "metadata": {},
   "source": [
    "## What is HTML?\n",
    "- **HTML (HyperText Markup Language)** is used to structure content on the web.\n",
    "- Uses tags to structure content (text, images, links, etc.).\n",
    "- A basic web page typically includes HTML, CSS, and JavaScript."
   ]
  },
  {
   "cell_type": "markdown",
   "id": "6c6dfb6f-7228-40a5-8e7d-acc6e3f7bed9",
   "metadata": {},
   "source": [
    "## Basic structure\n",
    "- The basic structure of an HTML document includes: `<html> → <head> → <body>`"
   ]
  },
  {
   "cell_type": "markdown",
   "id": "1b1bc997-6787-46b9-bfa8-bc9602875e54",
   "metadata": {},
   "source": [
    "```html\n",
    "<!DOCTYPE html>\n",
    "<html>\n",
    "<head>\n",
    "  <title>Page Title</title>\n",
    "</head>\n",
    "<body>\n",
    "  <!-- Content goes here -->\n",
    "</body>\n",
    "</html>\n",
    "```"
   ]
  },
  {
   "cell_type": "markdown",
   "id": "2c68cb2f-c64a-46e1-abd5-8025efbf7c33",
   "metadata": {},
   "source": [
    "## Common HTML Tags\n",
    "\n",
    "- `<h1>` to `<h6>`: Headings (`<h1>` is the largest)\n",
    "```html\n",
    "  <h1>Main Title</h1>\n",
    "  <h2>Section Title</h2>\n",
    "```\n",
    "- `<p>`: Paragraph\n",
    "```html\n",
    "<p>This is a paragraph of text.</p>\n",
    "```\n",
    "- `<strong>`: Bold text\n",
    "```html\n",
    "<p>This is <strong>important</strong> information.</p>\n",
    "```\n",
    "- `<em>`: Italic text\n",
    "```html\n",
    "<p>This word is <em>emphasized</em>.</p>\n",
    "```\n",
    "- `<a href=\"URL\">`: Hyperlink\n",
    "```html\n",
    "<a href=\"https://example.com\">Visit Example</a>\n",
    "```\n",
    "- `<img src=\"path\" alt=\"description\">`: Image\n",
    "```html\n",
    "<img src=\"profile.jpg\" alt=\"Profile Photo\" width=\"200\">\n",
    "```\n",
    "- `<video controls>` + `<source src=\"file.mp4\" type=\"video/mp4\">`: Embed local video\n",
    "```html\n",
    "<video width=\"640\" height=\"360\" controls>\n",
    "  <source src=\"my_video.mp4\" type=\"video/mp4\">\n",
    "  Your browser does not support the video tag.\n",
    "</video>\n",
    "```\n",
    "- `<iframe src=\"https://www.youtube.com/embed/ID\">`: Embed YouTube video\n",
    "```html\n",
    "<iframe width=\"640\" height=\"360\"\n",
    "        src=\"https://www.youtube.com/embed/VIDEO_ID\"\n",
    "        frameborder=\"0\"\n",
    "        allowfullscreen>\n",
    "</iframe>\n",
    "```"
   ]
  },
  {
   "cell_type": "markdown",
   "id": "26366424-72e6-47cf-a577-1dce43e8facc",
   "metadata": {},
   "source": [
    "# 2. Lists, Tables, Forms in HTML\n",
    "\n",
    "## Lists in HTML (`<ul>`, `<ol>`)\n",
    "\n",
    "- Used to display a list of items on a webpage. Two main types:\n",
    "\n",
    "    - `<ul>`: Unordered list (with bullet points)\n",
    "    - `<ol>`: Ordered list (with numbers)\n",
    "    - `<li>`: List item"
   ]
  },
  {
   "cell_type": "markdown",
   "id": "db5b2d91-dd7b-4e26-9af3-902eed46e4c5",
   "metadata": {},
   "source": [
    "```html\n",
    "<h2>My Academic Interests</h2>\n",
    "<ul>\n",
    "  <li>Statistics</li>\n",
    "  <li>Data Analysis & Data Visualization</li>\n",
    "  <li>Sports Big Data</li>\n",
    "</ul>\n",
    "\n",
    "<h2>My Hobbies</h2>\n",
    "<ol>\n",
    "  <li>Piano</li>\n",
    "  <li>Soccer</li>\n",
    "  <li>Original Sound Track</li>\n",
    "</ol>\n",
    "```"
   ]
  },
  {
   "cell_type": "markdown",
   "id": "bcc3384e-9be4-4bb8-ac75-5cd629ff7f67",
   "metadata": {},
   "source": [
    "## Tables in HTML (`<table>`)\n",
    "\n",
    "Used to display structured data in a grid format.\n",
    "\n",
    "- `<table>`: Table container\n",
    "- `<tr>`: Table row\n",
    "- `<th>`: Table header cell (bold)\n",
    "- `<td>`: Table data cell\n",
    "```html\n",
    "<h2>My Profile</h2>\n",
    "<table border=\"1\">\n",
    "  <tr>\n",
    "    <th>Item</th>\n",
    "    <th>Details</th>\n",
    "  </tr>\n",
    "  <tr>\n",
    "    <td>Name</td>\n",
    "    <td>Soonwon KWON</td>\n",
    "  </tr>\n",
    "  <tr>\n",
    "    <td>Occupation</td>\n",
    "    <td>Fourth-year student</td>\n",
    "  </tr>\n",
    "</table>\n",
    "```"
   ]
  },
  {
   "cell_type": "markdown",
   "id": "f37df454-d5a5-4eb2-b8e0-ba88b7f0c4a2",
   "metadata": {},
   "source": [
    "## Forms in HTML (`<form>`)\n",
    "\n",
    "Used to collect user input.\n",
    "\n",
    "- `<form>`: Wraps the input elements\n",
    "- `<input>`: Single-line input field (e.g., text, checkbox, password)\n",
    "- `<textarea>`: Multi-line text input\n",
    "- `<button>`: Clickable button (submit, etc.)\n",
    "```html\n",
    "<h2>Leave a Message</h2>\n",
    "<form action=\"/submit\" method=\"POST\">\n",
    "  <label for=\"name\">Name:</label>\n",
    "  <input type=\"text\" id=\"name\" name=\"name\" required><br><br>\n",
    "\n",
    "  <label for=\"message\">Message:</label><br>\n",
    "  <textarea id=\"message\" name=\"message\" rows=\"4\" cols=\"40\"></textarea><br><br>\n",
    "\n",
    "  <button type=\"submit\">Submit</button>\n",
    "</form>\n",
    "```\n",
    "- `<label>`: Describes input field\n",
    "- `<input type=\"text\">`: Single-line text input\n",
    "- `<textarea>`: Multi-line text area\n",
    "- `<button type=\"submit\">`: Submit button"
   ]
  },
  {
   "cell_type": "markdown",
   "id": "4314b09f-3b18-45a8-8cfb-e7b9c382b7aa",
   "metadata": {},
   "source": [
    "# 3. CSS Basics & Webpage Styling"
   ]
  },
  {
   "cell_type": "markdown",
   "id": "c800b9c3-cf40-4a83-b3af-caab483753d8",
   "metadata": {},
   "source": [
    "## What is CSS?\n",
    "- CSS (Cascading Style Sheets) is a language that controls the **style and layout** of HTML elements.\n",
    "- While HTML creates the structure, CSS adjusts **colors**, **sizes**, and **layout**."
   ]
  },
  {
   "cell_type": "markdown",
   "id": "c046e6aa-d300-4a05-ae21-15f44195af45",
   "metadata": {},
   "source": [
    "## Three Ways to Apply CSS"
   ]
  },
  {
   "cell_type": "markdown",
   "id": "db29bc24-eef3-4ba7-810d-99ae6b9364bd",
   "metadata": {},
   "source": [
    "### Inline Style (using `style` attribute)\n",
    "```html\n",
    "<p style=\"color: blue;\">This text is blue.</p>\n",
    "```\n",
    "- Style applied directly to HTML elements  \n",
    "- Not recommended (hard to maintain, messy)"
   ]
  },
  {
   "cell_type": "markdown",
   "id": "d0a8cb92-09cd-472f-ad4a-ac284d13718c",
   "metadata": {},
   "source": [
    "### Internal Style (using `<style>` tag)\n",
    "```html\n",
    "<head>\n",
    "  <style>\n",
    "    p {\n",
    "      color: blue;\n",
    "      font-size: 18px;\n",
    "    }\n",
    "  </style>\n",
    "</head>\n",
    "```\n",
    "- CSS written inside the HTML document  \n",
    "- Useful for small projects"
   ]
  },
  {
   "cell_type": "markdown",
   "id": "99049f24-1140-4fa7-bd21-7b34b50fd284",
   "metadata": {},
   "source": [
    "### External Style (recommended)\n",
    "```html\n",
    "<head>\n",
    "  <link rel=\"stylesheet\" href=\"styles.css\">\n",
    "</head>\n",
    "```\n",
    "- CSS written in a separate `.css` file  \n",
    "- Easy to maintain and reuse across pages"
   ]
  },
  {
   "cell_type": "markdown",
   "id": "13ec4a0b-43bb-475a-bf21-be4a57e983cb",
   "metadata": {},
   "source": [
    "## CSS Syntax & Selectors"
   ]
  },
  {
   "cell_type": "markdown",
   "id": "44ba3b7c-12bd-489e-a000-b6470fc0b1ab",
   "metadata": {},
   "source": [
    "### Basic Syntax\n",
    "```css\n",
    "selector {\n",
    "  property: value;\n",
    "}\n",
    "```\n",
    "- **Selector**: targets an element  \n",
    "- **Property**: what you want to change  \n",
    "- **Value**: how you want it to look"
   ]
  },
  {
   "cell_type": "markdown",
   "id": "88742161-5101-4579-a02d-51448d1c6924",
   "metadata": {},
   "source": [
    "### Common CSS Selectors\n",
    "\n",
    "| Selector | Description                    | Example                      |\n",
    "|----------|--------------------------------|------------------------------|\n",
    "| `*`      | All elements                   | `* { margin: 0; }`           |\n",
    "| `h1`     | Tag name selector              | `h1 { color: red; }`         |\n",
    "| `.class` | Class selector                 | `.title { font-size: 20px; }`|\n",
    "| `#id`    | ID selector                    | `#header { background: black; }` |\n",
    "| `A, B`   | Multiple selectors             | `h1, p { color: blue; }`     |\n",
    "| `A B`    | Descendant selector (B inside A) | `div p { color: green; }`  |"
   ]
  },
  {
   "cell_type": "markdown",
   "id": "3c99a351-f8c9-4268-883a-d5846761610a",
   "metadata": {},
   "source": [
    "### Example CSS\n",
    "```css\n",
    "/* Apply to whole page */\n",
    "body {\n",
    "  font-family: Arial, sans-serif;\n",
    "  background-color: #f0f0f0;\n",
    "}\n",
    "\n",
    "/* Heading style */\n",
    "h1 {\n",
    "  color: darkblue;\n",
    "  text-align: center;\n",
    "}\n",
    "\n",
    "/* Paragraph style */\n",
    "p {\n",
    "  font-size: 18px;\n",
    "  color: gray;\n",
    "}\n",
    "```"
   ]
  },
  {
   "cell_type": "markdown",
   "id": "75bf2984-2550-442e-97b6-09fba3ffda9b",
   "metadata": {},
   "source": [
    "## CSS Box Model"
   ]
  },
  {
   "cell_type": "markdown",
   "id": "dfd34ba5-fe41-4a6c-9c0f-fccee726b694",
   "metadata": {},
   "source": [
    "### What is the Box Model?\n",
    "Every HTML element is treated as a rectangular box with:\n",
    "\n",
    "- **Content**: text or image inside\n",
    "- **Padding**: space between content and border\n",
    "- **Border**: line surrounding the box\n",
    "- **Margin**: space outside the border (separates from other elements)"
   ]
  },
  {
   "cell_type": "markdown",
   "id": "8f3a6ee8-4ed6-4957-866d-6936d5bebc1d",
   "metadata": {},
   "source": [
    "### Box Model Example\n",
    "```css\n",
    ".box {\n",
    "  width: 300px;\n",
    "  padding: 20px;\n",
    "  border: 2px solid black;\n",
    "  margin: 10px;\n",
    "}\n",
    "```\n",
    "\n",
    "```html\n",
    "<div class=\"box\">This is a box model example.</div>\n",
    "```"
   ]
  },
  {
   "cell_type": "markdown",
   "id": "4601b9cb-14bf-40dd-b2ce-97d9f89896f8",
   "metadata": {},
   "source": [
    "## CSS Layout: `display` & Flexbox"
   ]
  },
  {
   "cell_type": "markdown",
   "id": "9304b331-befe-4d2f-ab40-5a94061a4dbd",
   "metadata": {},
   "source": [
    "### `display` Property\n",
    "\n",
    "| Value   | Description                              |\n",
    "|---------|------------------------------------------|\n",
    "| `block` | Elements stack vertically (e.g., `<div>`) |\n",
    "| `inline` | Elements stay inline (e.g., `<span>`)    |\n",
    "| `flex`  | Flexible layout system for arrangement    |"
   ]
  },
  {
   "cell_type": "markdown",
   "id": "0713fc99-8464-4724-a997-70551bae1ea3",
   "metadata": {},
   "source": [
    "### Flexbox Basic Example\n",
    "```css\n",
    ".container {\n",
    "  display: flex;\n",
    "  justify-content: space-around;\n",
    "}\n",
    ".box {\n",
    "  width: 100px;\n",
    "  height: 100px;\n",
    "  background-color: lightblue;\n",
    "}\n",
    "```\n",
    "\n",
    "```html\n",
    "<div class=\"container\">\n",
    "  <div class=\"box\">1</div>\n",
    "  <div class=\"box\">2</div>\n",
    "  <div class=\"box\">3</div>\n",
    "</div>\n",
    "```"
   ]
  },
  {
   "cell_type": "markdown",
   "id": "56c0352d-5d2c-473a-bd18-878f6457c530",
   "metadata": {},
   "source": [
    "# 4. Markdown Basics"
   ]
  },
  {
   "cell_type": "markdown",
   "id": "05968967-d273-4fc4-a30b-075667e35cf5",
   "metadata": {},
   "source": [
    "## What is Markdown?\n",
    "\n",
    "- Markdown is a lightweight markup language for writing documents using plain text.\n",
    "- Easier than HTML and highly readable.\n",
    "- Widely used in platforms like GitHub, Jupyter Notebook, and RMarkdown.\n",
    "- In R, Markdown is used in `.Rmd` files to combine documentation and executable code."
   ]
  },
  {
   "cell_type": "markdown",
   "id": "14bdd6b6-5a6d-41a5-9e1c-72a2ef8128de",
   "metadata": {},
   "source": [
    "## Basic Markdown Syntax"
   ]
  },
  {
   "cell_type": "markdown",
   "id": "07e72df7-36fe-49e9-b9e9-108084faf932",
   "metadata": {},
   "source": [
    "### Headers\n",
    "\n",
    "```markdown\n",
    "# Header 1  \n",
    "## Header 2  \n",
    "### Header 3\n",
    "```"
   ]
  },
  {
   "cell_type": "markdown",
   "id": "30914c12-fdc4-44d1-b15b-4ac473baf7ad",
   "metadata": {},
   "source": [
    "### Emphasis\n",
    "\n",
    "```markdown\n",
    "*Italic* or _Italic_  \n",
    "**Bold** or __Bold__  \n",
    "~~Strikethrough~~\n",
    "```"
   ]
  },
  {
   "cell_type": "markdown",
   "id": "cd8afd44-9b0d-4691-933e-087b0dd0fd67",
   "metadata": {},
   "source": [
    "### Lists\n",
    "\n",
    "- **Unordered List:**\n",
    "```markdown\n",
    "- Item 1  \n",
    "  - Sub-item 1.1  \n",
    "  - Sub-item 1.2  \n",
    "- Item 2\n",
    "```\n",
    "\n",
    "- **Ordered List:**\n",
    "```markdown\n",
    "1. First item  \n",
    "2. Second item  \n",
    "3. Third item\n",
    "```"
   ]
  },
  {
   "cell_type": "markdown",
   "id": "001375c2-fae5-4e77-b52b-c78e2ca688ee",
   "metadata": {},
   "source": [
    "### Links\n",
    "\n",
    "```markdown\n",
    "[CRAN R Official Site](https://cran.r-project.org/)\n",
    "```"
   ]
  },
  {
   "cell_type": "markdown",
   "id": "e4c36ee0-d1c3-42c0-a828-63336cbf284c",
   "metadata": {},
   "source": [
    "[CRAN R Official Site](https://cran.r-project.org/)"
   ]
  },
  {
   "cell_type": "markdown",
   "id": "40a63f92-12d7-4bdd-ba5b-f038d3d6f265",
   "metadata": {},
   "source": [
    "### Images\n",
    "\n",
    "```markdown\n",
    "![R Logo](https://www.r-project.org/logo/Rlogo.png)\n",
    "```"
   ]
  },
  {
   "cell_type": "markdown",
   "id": "5c482a40-a06c-4890-9c57-803280b7ae46",
   "metadata": {},
   "source": [
    "![R Logo](https://www.r-project.org/logo/Rlogo.png)"
   ]
  },
  {
   "cell_type": "markdown",
   "id": "5567ebea-e390-40e2-a0cf-479d4bc421d2",
   "metadata": {},
   "source": [
    "# 5. Introduction to RMarkdown"
   ]
  },
  {
   "cell_type": "markdown",
   "id": "d72acc75-e1dd-4298-8719-96a2bf631209",
   "metadata": {},
   "source": [
    "## What is RMarkdown?\n",
    "\n",
    "- RMarkdown (`.Rmd`) is a document format that combines R code and narrative text.\n",
    "- Allows you to create documents with analysis results and interpretation together.\n",
    "- Output formats: **HTML, PDF, Word**.\n",
    "- Structure: **YAML Header + Markdown Text + R Code Chunks**"
   ]
  },
  {
   "cell_type": "markdown",
   "id": "09b2b4cb-397e-431d-a619-e1da09924747",
   "metadata": {},
   "source": [
    "## RMarkdown Document Structure"
   ]
  },
  {
   "cell_type": "markdown",
   "id": "2aeee151-f7ef-424f-b66f-b8723a5af74f",
   "metadata": {},
   "source": [
    "### 1. YAML Header"
   ]
  },
  {
   "cell_type": "markdown",
   "id": "2e29a884-c4eb-4387-8929-7f1d3efdc6fc",
   "metadata": {},
   "source": [
    "```yaml\n",
    "---\n",
    "title: \"RMarkdown Example\"\n",
    "author: \"Soonwon KWON\"\n",
    "date: \"`r Sys.Date()`\"\n",
    "output: html_document\n",
    "---\n",
    "```\n",
    "\n",
    "- Defines document title, author, date, and output format."
   ]
  },
  {
   "cell_type": "markdown",
   "id": "6aef6bd2-5f48-488c-bb7a-f246f12eb255",
   "metadata": {},
   "source": [
    "### 2. Markdown Text + R Code Chunk"
   ]
  },
  {
   "cell_type": "markdown",
   "id": "59b6a824-dd19-4fac-889d-c1ce2a89afba",
   "metadata": {},
   "source": [
    "```markdown\n",
    "## Data Analysis Results\n",
    "\n",
    "Here we compute some basic summary statistics.\n",
    "```"
   ]
  },
  {
   "cell_type": "markdown",
   "id": "ae4c0620-5a2e-4420-96d4-f6faa165f604",
   "metadata": {},
   "source": [
    "```{r}\n",
    "summary(cars)\n",
    "```"
   ]
  },
  {
   "cell_type": "markdown",
   "id": "f25e5848-54a9-4e61-9203-ddefb1532152",
   "metadata": {},
   "source": [
    "- **R code chunks (` ```{r} `)** allow you to run R code inside the document."
   ]
  },
  {
   "cell_type": "markdown",
   "id": "9f28b127-c1c6-4b73-9a6f-5f2823646acd",
   "metadata": {},
   "source": [
    "### 3. Output Formats: HTML, PDF, Word"
   ]
  },
  {
   "cell_type": "markdown",
   "id": "0e439c3e-a7f0-4ba0-a59e-174c403728fc",
   "metadata": {},
   "source": [
    "- After writing your `.Rmd` file, click the **Knit** button to render the document.\n",
    "- Requires the `rmarkdown` package."
   ]
  }
 ],
 "metadata": {
  "kernelspec": {
   "display_name": "Python 3 (ipykernel)",
   "language": "python",
   "name": "python3"
  },
  "language_info": {
   "codemirror_mode": {
    "name": "ipython",
    "version": 3
   },
   "file_extension": ".py",
   "mimetype": "text/x-python",
   "name": "python",
   "nbconvert_exporter": "python",
   "pygments_lexer": "ipython3",
   "version": "3.11.11"
  }
 },
 "nbformat": 4,
 "nbformat_minor": 5
}
