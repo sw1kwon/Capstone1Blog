{
 "cells": [
  {
   "cell_type": "raw",
   "id": "ee6ac55b-af28-4862-8594-f725b6746679",
   "metadata": {
    "vscode": {
     "languageId": "raw"
    }
   },
   "source": [
    "---\n",
    "title: \"HTML & Markdown\"\n",
    "author: \"sw1kwon\"\n",
    "date: \"03/30/2025\"\n",
    "---"
   ]
  },
  {
   "cell_type": "markdown",
   "id": "d220d6f5-cb86-4463-8294-87f84b826cc4",
   "metadata": {},
   "source": [
    "# Why Understanding HTML and Markdown Is Important in Web Scraping"
   ]
  },
  {
   "cell_type": "markdown",
   "id": "0676b754-db05-4ac8-a512-0f9c008e7579",
   "metadata": {},
   "source": [
    "## 1. Why You Need to Understand HTML  \n",
    "HTML is a markup language that defines the structure of web pages, so understanding the HTML structure is essential for accurately extracting data during web scraping.\n",
    "\n",
    "- Understanding Tags and Hierarchy  \n",
    "    - Knowing the roles of HTML tags such as `<div>`, `<span>`, `<table>`, `<ul>`, and `<li>` makes it easier to locate the desired data.  \n",
    "    - You can use attributes such as `id`, `class`, `name`, and `href` to select specific elements.\n",
    "\n",
    "- Using XPath and CSS Selectors  \n",
    "    - Libraries like BeautifulSoup (Python) and rvest (R) use CSS selectors or XPath to find specific elements.  \n",
    "    - Example: `soup.select('div.article > p')` (BeautifulSoup) or `html_nodes(doc, \"div.article > p\")` (rvest)\n",
    "\n",
    "- Handling Dynamic Web Pages (Understanding JavaScript Rendering)  \n",
    "    - Some websites use JavaScript to load data dynamically, so tools like Selenium or Playwright are needed."
   ]
  },
  {
   "cell_type": "markdown",
   "id": "5539cb15-af7f-4c32-a75d-f01d34f82bff",
   "metadata": {},
   "source": [
    "## 2. Why You Need to Understand Markdown  \n",
    "Markdown is mainly used for documentation, blog posts, and API docs, and you may need to handle it when extracting data from the web.\n",
    "\n",
    "- Handling Web Pages with Markdown  \n",
    "    - You may need to retrieve data stored in Markdown format from websites (e.g., GitHub, Jupyter Notebook, blogs) and convert it to HTML.  \n",
    "    - You might also need to restore Markdown after extracting only text from HTML using `BeautifulSoup.get_text()`.\n",
    "\n",
    "- Cleaning and Converting Markdown Data  \n",
    "    - For example, you may need to crawl text saved in Markdown from a web page and convert it to another format (HTML, LaTeX, etc.).  \n",
    "    - You can use `markdown2`, `mistune` (Python), or `markdown` (R package) for conversion."
   ]
  },
  {
   "cell_type": "markdown",
   "id": "45da02a8-9a7c-4983-870d-05324f24d7b2",
   "metadata": {},
   "source": [
    "# 1. HTML Key Concepts"
   ]
  },
  {
   "cell_type": "markdown",
   "id": "50124d59-05d6-4a78-a72a-15aacacf75a2",
   "metadata": {},
   "source": [
    "## What is HTML?\n",
    "- **HTML (HyperText Markup Language)** is used to structure content on the web.\n",
    "- Uses tags to structure content (text, images, links, etc.).\n",
    "- A basic web page typically includes HTML, CSS, and JavaScript."
   ]
  },
  {
   "cell_type": "markdown",
   "id": "6c6dfb6f-7228-40a5-8e7d-acc6e3f7bed9",
   "metadata": {},
   "source": [
    "## Basic structure\n",
    "- The basic structure of an HTML document includes: `<html> → <head> → <body>`"
   ]
  },
  {
   "cell_type": "markdown",
   "id": "1b1bc997-6787-46b9-bfa8-bc9602875e54",
   "metadata": {},
   "source": [
    "**HTML Example**\n",
    "```html\n",
    "<!DOCTYPE html>\n",
    "<html>\n",
    "<head>\n",
    "  <title>Page Title</title>\n",
    "</head>\n",
    "<body>\n",
    "  <!-- Content goes here -->\n",
    "</body>\n",
    "</html>\n",
    "```"
   ]
  },
  {
   "cell_type": "markdown",
   "id": "2c68cb2f-c64a-46e1-abd5-8025efbf7c33",
   "metadata": {},
   "source": [
    "## Common HTML Tags\n",
    "\n",
    "- `<h1>` to `<h6>`: Headings (`<h1>` is the largest)\n",
    "```html\n",
    "  <h1>Main Title</h1>\n",
    "  <h2>Section Title</h2>\n",
    "```\n",
    "- `<p>`: Paragraph\n",
    "```html\n",
    "<p>This is a paragraph of text.</p>\n",
    "```\n",
    "- `<strong>`: Bold text\n",
    "```html\n",
    "<p>This is <strong>important</strong> information.</p>\n",
    "```\n",
    "- `<em>`: Italic text\n",
    "```html\n",
    "<p>This word is <em>emphasized</em>.</p>\n",
    "```\n",
    "- `<a href=\"URL\">`: Hyperlink\n",
    "```html\n",
    "<a href=\"https://example.com\">Visit Example</a>\n",
    "```\n",
    "- `<img src=\"path\" alt=\"description\">`: Image\n",
    "```html\n",
    "<img src=\"profile.jpg\" alt=\"Profile Photo\" width=\"200\">\n",
    "```\n",
    "- `<video controls>` + `<source src=\"file.mp4\" type=\"video/mp4\">`: Embed local video\n",
    "```html\n",
    "<video width=\"640\" height=\"360\" controls>\n",
    "  <source src=\"my_video.mp4\" type=\"video/mp4\">\n",
    "  Your browser does not support the video tag.\n",
    "</video>\n",
    "```\n",
    "- `<iframe src=\"https://www.youtube.com/embed/ID\">`: Embed YouTube video\n",
    "```html\n",
    "<iframe width=\"640\" height=\"360\"\n",
    "        src=\"https://www.youtube.com/embed/VIDEO_ID\"\n",
    "        frameborder=\"0\"\n",
    "        allowfullscreen>\n",
    "</iframe>\n",
    "```"
   ]
  },
  {
   "cell_type": "markdown",
   "id": "26366424-72e6-47cf-a577-1dce43e8facc",
   "metadata": {},
   "source": [
    "# 2. Lists, Tables, Forms in HTML\n",
    "\n",
    "## Lists in HTML (`<ul>`, `<ol>`)\n",
    "\n",
    "- Used to display a list of items on a webpage. Two main types:\n",
    "\n",
    "    - `<ul>`: Unordered list (with bullet points)\n",
    "    - `<ol>`: Ordered list (with numbers)\n",
    "    - `<li>`: List item"
   ]
  },
  {
   "cell_type": "markdown",
   "id": "db5b2d91-dd7b-4e26-9af3-902eed46e4c5",
   "metadata": {},
   "source": [
    "**HTML Example**\n",
    "```html\n",
    "<h2>My Academic Interests</h2>\n",
    "<ul>\n",
    "  <li>Statistics</li>\n",
    "  <li>Data Analysis & Data Visualization</li>\n",
    "  <li>Sports Big Data</li>\n",
    "</ul>\n",
    "\n",
    "<h2>My Hobbies</h2>\n",
    "<ol>\n",
    "  <li>Piano</li>\n",
    "  <li>Soccer</li>\n",
    "  <li>Original Sound Track</li>\n",
    "</ol>\n",
    "```"
   ]
  },
  {
   "cell_type": "markdown",
   "id": "bcc3384e-9be4-4bb8-ac75-5cd629ff7f67",
   "metadata": {},
   "source": [
    "## Tables in HTML (`<table>`)\n",
    "\n",
    "Used to display structured data in a grid format.\n",
    "\n",
    "- `<table>`: Table container\n",
    "- `<tr>`: Table row\n",
    "- `<th>`: Table header cell (bold)\n",
    "- `<td>`: Table data cell\n",
    "\n",
    "**HTML Example**\n",
    "```html\n",
    "<h2>My Profile</h2>\n",
    "<table border=\"1\">\n",
    "  <tr>\n",
    "    <th>Item</th>\n",
    "    <th>Details</th>\n",
    "  </tr>\n",
    "  <tr>\n",
    "    <td>Name</td>\n",
    "    <td>Soonwon KWON</td>\n",
    "  </tr>\n",
    "  <tr>\n",
    "    <td>Occupation</td>\n",
    "    <td>Fourth-year student</td>\n",
    "  </tr>\n",
    "</table>\n",
    "```"
   ]
  },
  {
   "cell_type": "markdown",
   "id": "f37df454-d5a5-4eb2-b8e0-ba88b7f0c4a2",
   "metadata": {},
   "source": [
    "## Forms in HTML (`<form>`)\n",
    "\n",
    "Used to collect user input.\n",
    "\n",
    "- `<form>`: Wraps the input elements\n",
    "- `<input>`: Single-line input field (e.g., text, checkbox, password)\n",
    "- `<textarea>`: Multi-line text input\n",
    "- `<button>`: Clickable button (submit, etc.)\n",
    "\n",
    "**HTML Example**\n",
    "```html\n",
    "<h2>Leave a Message</h2>\n",
    "<form action=\"/submit\" method=\"POST\">\n",
    "  <label for=\"name\">Name:</label>\n",
    "  <input type=\"text\" id=\"name\" name=\"name\" required><br><br>\n",
    "\n",
    "  <label for=\"message\">Message:</label><br>\n",
    "  <textarea id=\"message\" name=\"message\" rows=\"4\" cols=\"40\"></textarea><br><br>\n",
    "\n",
    "  <button type=\"submit\">Submit</button>\n",
    "</form>\n",
    "```\n",
    "- `<label>`: Describes input field\n",
    "- `<input type=\"text\">`: Single-line text input\n",
    "- `<textarea>`: Multi-line text area\n",
    "- `<button type=\"submit\">`: Submit button"
   ]
  },
  {
   "cell_type": "markdown",
   "id": "4314b09f-3b18-45a8-8cfb-e7b9c382b7aa",
   "metadata": {},
   "source": [
    "# 3. CSS Basics & Webpage Styling"
   ]
  },
  {
   "cell_type": "markdown",
   "id": "c800b9c3-cf40-4a83-b3af-caab483753d8",
   "metadata": {},
   "source": [
    "## What is CSS?\n",
    "- CSS (Cascading Style Sheets) is a language that controls the **style and layout** of HTML elements.\n",
    "- While HTML creates the structure, CSS adjusts **colors**, **sizes**, and **layout**."
   ]
  },
  {
   "cell_type": "markdown",
   "id": "c046e6aa-d300-4a05-ae21-15f44195af45",
   "metadata": {},
   "source": [
    "## Three Ways to Apply CSS"
   ]
  },
  {
   "cell_type": "markdown",
   "id": "db29bc24-eef3-4ba7-810d-99ae6b9364bd",
   "metadata": {},
   "source": [
    "### Inline Style (using `style` attribute)\n",
    "**HTML Example**\n",
    "```html\n",
    "<p style=\"color: blue;\">This text is blue.</p>\n",
    "```\n",
    "- Style applied directly to HTML elements  \n",
    "- Not recommended (hard to maintain, messy)"
   ]
  },
  {
   "cell_type": "markdown",
   "id": "d0a8cb92-09cd-472f-ad4a-ac284d13718c",
   "metadata": {},
   "source": [
    "### Internal Style (using `<style>` tag)\n",
    "**HTML Example**\n",
    "```html\n",
    "<head>\n",
    "  <style>\n",
    "    p {\n",
    "      color: blue;\n",
    "      font-size: 18px;\n",
    "    }\n",
    "  </style>\n",
    "</head>\n",
    "```\n",
    "- CSS written inside the HTML document  \n",
    "- Useful for small projects"
   ]
  },
  {
   "cell_type": "markdown",
   "id": "99049f24-1140-4fa7-bd21-7b34b50fd284",
   "metadata": {},
   "source": [
    "### External Style (recommended)\n",
    "**HTML Example**\n",
    "```html\n",
    "<head>\n",
    "  <link rel=\"stylesheet\" href=\"styles.css\">\n",
    "</head>\n",
    "```\n",
    "- CSS written in a separate `.css` file  \n",
    "- Easy to maintain and reuse across pages"
   ]
  },
  {
   "cell_type": "markdown",
   "id": "13ec4a0b-43bb-475a-bf21-be4a57e983cb",
   "metadata": {},
   "source": [
    "## CSS Syntax & Selectors"
   ]
  },
  {
   "cell_type": "markdown",
   "id": "44ba3b7c-12bd-489e-a000-b6470fc0b1ab",
   "metadata": {},
   "source": [
    "### Basic Syntax\n",
    "**CSS Example**\n",
    "```css\n",
    "selector {\n",
    "  property: value;\n",
    "}\n",
    "```\n",
    "- **Selector**: targets an element  \n",
    "- **Property**: what you want to change  \n",
    "- **Value**: how you want it to look"
   ]
  },
  {
   "cell_type": "markdown",
   "id": "88742161-5101-4579-a02d-51448d1c6924",
   "metadata": {},
   "source": [
    "### Common CSS Selectors\n",
    "\n",
    "| Selector | Description                    | Example                      |\n",
    "|----------|--------------------------------|------------------------------|\n",
    "| `*`      | All elements                   | `* { margin: 0; }`           |\n",
    "| `h1`     | Tag name selector              | `h1 { color: red; }`         |\n",
    "| `.class` | Class selector                 | `.title { font-size: 20px; }`|\n",
    "| `#id`    | ID selector                    | `#header { background: black; }` |\n",
    "| `A, B`   | Multiple selectors             | `h1, p { color: blue; }`     |\n",
    "| `A B`    | Descendant selector (B inside A) | `div p { color: green; }`  |"
   ]
  },
  {
   "cell_type": "markdown",
   "id": "3c99a351-f8c9-4268-883a-d5846761610a",
   "metadata": {},
   "source": [
    "### Example CSS\n",
    "**CSS Example**\n",
    "```css\n",
    "/* Apply to whole page */\n",
    "body {\n",
    "  font-family: Arial, sans-serif;\n",
    "  background-color: #f0f0f0;\n",
    "}\n",
    "\n",
    "/* Heading style */\n",
    "h1 {\n",
    "  color: darkblue;\n",
    "  text-align: center;\n",
    "}\n",
    "\n",
    "/* Paragraph style */\n",
    "p {\n",
    "  font-size: 18px;\n",
    "  color: gray;\n",
    "}\n",
    "```"
   ]
  },
  {
   "cell_type": "markdown",
   "id": "75bf2984-2550-442e-97b6-09fba3ffda9b",
   "metadata": {},
   "source": [
    "## CSS Box Model"
   ]
  },
  {
   "cell_type": "markdown",
   "id": "dfd34ba5-fe41-4a6c-9c0f-fccee726b694",
   "metadata": {},
   "source": [
    "### What is the Box Model?\n",
    "Every HTML element is treated as a rectangular box with:\n",
    "\n",
    "- **Content**: text or image inside\n",
    "- **Padding**: space between content and border\n",
    "- **Border**: line surrounding the box\n",
    "- **Margin**: space outside the border (separates from other elements)"
   ]
  },
  {
   "cell_type": "markdown",
   "id": "8f3a6ee8-4ed6-4957-866d-6936d5bebc1d",
   "metadata": {},
   "source": [
    "### Box Model Example\n",
    "**CSS Example**\n",
    "```css\n",
    ".box {\n",
    "  width: 300px;\n",
    "  padding: 20px;\n",
    "  border: 2px solid black;\n",
    "  margin: 10px;\n",
    "}\n",
    "```\n",
    "\n",
    "```html\n",
    "<div class=\"box\">This is a box model example.</div>\n",
    "```"
   ]
  },
  {
   "cell_type": "markdown",
   "id": "4601b9cb-14bf-40dd-b2ce-97d9f89896f8",
   "metadata": {},
   "source": [
    "## CSS Layout: `display` & Flexbox"
   ]
  },
  {
   "cell_type": "markdown",
   "id": "9304b331-befe-4d2f-ab40-5a94061a4dbd",
   "metadata": {},
   "source": [
    "### `display` Property\n",
    "\n",
    "| Value   | Description                              |\n",
    "|---------|------------------------------------------|\n",
    "| `block` | Elements stack vertically (e.g., `<div>`) |\n",
    "| `inline` | Elements stay inline (e.g., `<span>`)    |\n",
    "| `flex`  | Flexible layout system for arrangement    |"
   ]
  },
  {
   "cell_type": "markdown",
   "id": "0713fc99-8464-4724-a997-70551bae1ea3",
   "metadata": {},
   "source": [
    "### Flexbox Basic Example\n",
    "**CSS Example**\n",
    "```css\n",
    ".container {\n",
    "  display: flex;\n",
    "  justify-content: space-around;\n",
    "}\n",
    ".box {\n",
    "  width: 100px;\n",
    "  height: 100px;\n",
    "  background-color: lightblue;\n",
    "}\n",
    "```\n",
    "\n",
    "```html\n",
    "<div class=\"container\">\n",
    "  <div class=\"box\">1</div>\n",
    "  <div class=\"box\">2</div>\n",
    "  <div class=\"box\">3</div>\n",
    "</div>\n",
    "```"
   ]
  },
  {
   "cell_type": "markdown",
   "id": "56c0352d-5d2c-473a-bd18-878f6457c530",
   "metadata": {},
   "source": [
    "# 4. Markdown Basics"
   ]
  },
  {
   "cell_type": "markdown",
   "id": "05968967-d273-4fc4-a30b-075667e35cf5",
   "metadata": {},
   "source": [
    "## What is Markdown?\n",
    "\n",
    "- Markdown is a lightweight markup language for writing documents using plain text.\n",
    "- Easier than HTML and highly readable.\n",
    "- Widely used in platforms like GitHub, Jupyter Notebook, and RMarkdown.\n",
    "- In R, Markdown is used in `.Rmd` files to combine documentation and executable code."
   ]
  },
  {
   "cell_type": "markdown",
   "id": "14bdd6b6-5a6d-41a5-9e1c-72a2ef8128de",
   "metadata": {},
   "source": [
    "## Basic Markdown Syntax"
   ]
  },
  {
   "cell_type": "markdown",
   "id": "07e72df7-36fe-49e9-b9e9-108084faf932",
   "metadata": {},
   "source": [
    "### Headers\n",
    "```markdown\n",
    "# Header 1  \n",
    "## Header 2  \n",
    "### Header 3\n",
    "```"
   ]
  },
  {
   "cell_type": "markdown",
   "id": "30914c12-fdc4-44d1-b15b-4ac473baf7ad",
   "metadata": {
    "jp-MarkdownHeadingCollapsed": true
   },
   "source": [
    "### Emphasis\n",
    "```markdown\n",
    "*Italic* or _Italic_  \n",
    "**Bold** or __Bold__  \n",
    "~~Strikethrough~~\n",
    "```\n",
    "*Italic* , **Bold**, ~~Strikethrough~~"
   ]
  },
  {
   "cell_type": "markdown",
   "id": "cd8afd44-9b0d-4691-933e-087b0dd0fd67",
   "metadata": {},
   "source": [
    "### Lists\n",
    "\n",
    "- **Unordered List:**\n",
    "```markdown\n",
    "- Item 1  \n",
    "  - Sub-item 1.1  \n",
    "  - Sub-item 1.2  \n",
    "- Item 2\n",
    "```\n",
    "\n",
    "- **Ordered List:**\n",
    "```markdown\n",
    "1. First item  \n",
    "2. Second item  \n",
    "3. Third item\n",
    "```"
   ]
  },
  {
   "cell_type": "markdown",
   "id": "001375c2-fae5-4e77-b52b-c78e2ca688ee",
   "metadata": {},
   "source": [
    "### Links\n",
    "\n",
    "```markdown\n",
    "[CRAN R Official Site](https://cran.r-project.org/)\n",
    "```"
   ]
  },
  {
   "cell_type": "markdown",
   "id": "e4c36ee0-d1c3-42c0-a828-63336cbf284c",
   "metadata": {},
   "source": [
    "[CRAN R Official Site](https://cran.r-project.org/)"
   ]
  },
  {
   "cell_type": "markdown",
   "id": "40a63f92-12d7-4bdd-ba5b-f038d3d6f265",
   "metadata": {},
   "source": [
    "### Images\n",
    "\n",
    "```markdown\n",
    "![R Logo](https://www.r-project.org/logo/Rlogo.png)\n",
    "```"
   ]
  },
  {
   "cell_type": "markdown",
   "id": "5c482a40-a06c-4890-9c57-803280b7ae46",
   "metadata": {},
   "source": [
    "![R Logo](https://www.r-project.org/logo/Rlogo.png)"
   ]
  },
  {
   "cell_type": "markdown",
   "id": "5567ebea-e390-40e2-a0cf-479d4bc421d2",
   "metadata": {},
   "source": [
    "# 5. Introduction to RMarkdown"
   ]
  },
  {
   "cell_type": "markdown",
   "id": "d72acc75-e1dd-4298-8719-96a2bf631209",
   "metadata": {},
   "source": [
    "## What is RMarkdown?\n",
    "\n",
    "- RMarkdown (`.Rmd`) is a document format that combines R code and narrative text.\n",
    "- Allows you to create documents with analysis results and interpretation together.\n",
    "- Output formats: **HTML, PDF, Word**.\n",
    "- Structure: **YAML Header + Markdown Text + R Code Chunks**"
   ]
  },
  {
   "cell_type": "markdown",
   "id": "09b2b4cb-397e-431d-a619-e1da09924747",
   "metadata": {},
   "source": [
    "## RMarkdown Document Structure"
   ]
  },
  {
   "cell_type": "markdown",
   "id": "2aeee151-f7ef-424f-b66f-b8723a5af74f",
   "metadata": {},
   "source": [
    "### 1. YAML Header"
   ]
  },
  {
   "cell_type": "markdown",
   "id": "2e29a884-c4eb-4387-8929-7f1d3efdc6fc",
   "metadata": {},
   "source": [
    "**YAML Header Example**\n",
    "\n",
    "```yaml\n",
    "---\n",
    "title: \"RMarkdown Example\"\n",
    "author: \"Soonwon KWON\"\n",
    "date: \"`r Sys.Date()`\"\n",
    "output: html_document\n",
    "---\n",
    "```\n",
    "\n",
    "- Defines document title, author, date, and output format."
   ]
  },
  {
   "cell_type": "markdown",
   "id": "6aef6bd2-5f48-488c-bb7a-f246f12eb255",
   "metadata": {},
   "source": [
    "### 2. Markdown Text + R Code Chunk"
   ]
  },
  {
   "cell_type": "markdown",
   "id": "74f15fbe-f24b-49dc-a7e7-d51a9cec247f",
   "metadata": {},
   "source": [
    "**Markdown Example**\n",
    "````markdown\n",
    "## Data Analysis Results\n",
    "\n",
    "Here we compute some basic summary statistics.\n",
    "\n",
    "```{r}\n",
    "summary(cars)\n",
    "```\n",
    "````"
   ]
  },
  {
   "cell_type": "markdown",
   "id": "f25e5848-54a9-4e61-9203-ddefb1532152",
   "metadata": {},
   "source": [
    "- **R code chunks (` ```{r} `)** allow you to run R code inside the document."
   ]
  },
  {
   "cell_type": "markdown",
   "id": "9f28b127-c1c6-4b73-9a6f-5f2823646acd",
   "metadata": {},
   "source": [
    "### 3. Output Formats: HTML, PDF, Word"
   ]
  },
  {
   "cell_type": "markdown",
   "id": "0e439c3e-a7f0-4ba0-a59e-174c403728fc",
   "metadata": {},
   "source": [
    "- After writing your `.Rmd` file, click the **Knit** button to render the document.\n",
    "- Requires the `rmarkdown` package."
   ]
  },
  {
   "cell_type": "markdown",
   "id": "d36b39b7-9e00-4088-8f10-f76cc5aaddf9",
   "metadata": {},
   "source": [
    "# 6. Using Markdown & RMarkdown: Tables, Code Blocks, Math"
   ]
  },
  {
   "cell_type": "markdown",
   "id": "9a829dcc-d0af-4cfa-965b-5fc2efd7d324",
   "metadata": {},
   "source": [
    "## Tables, Code Blocks, and Math in Markdown"
   ]
  },
  {
   "cell_type": "markdown",
   "id": "400a478b-efa7-40f8-b822-b54c450ffecb",
   "metadata": {},
   "source": [
    "### 1. Creating Tables in Markdown"
   ]
  },
  {
   "cell_type": "markdown",
   "id": "dc516738-ee12-4f9c-b7ed-b68f5946bc23",
   "metadata": {},
   "source": [
    "Markdown uses pipes `|` and hyphens `-` to format tables.\n",
    "\n",
    "**Basic Table Example:**\n",
    "\n",
    "```markdown\n",
    "| Name         | Date of Birth | Nationality   |\n",
    "|--------------|----------------|----------------|\n",
    "| Luka Modrić  | 1985-09-09     | Croatia        |\n",
    "| Eden Hazard  | 1991-01-07     | Belgium        |\n",
    "```"
   ]
  },
  {
   "cell_type": "markdown",
   "id": "a752bbfb-d19d-40b7-acc8-8fa4e1e6e890",
   "metadata": {},
   "source": [
    "| Name         | Date of Birth | Nationality   |\n",
    "|--------------|----------------|----------------|\n",
    "| Luka Modrić  | 1985-09-09     | Croatia        |\n",
    "| Eden Hazard  | 1991-01-07     | Belgium        |"
   ]
  },
  {
   "cell_type": "markdown",
   "id": "7996d4a2-66cf-49ef-869e-1181c70032c4",
   "metadata": {},
   "source": [
    "### 2. Writing Code Blocks\n",
    "\n",
    "Useful for displaying analysis code or command-line instructions clearly.\n",
    "\n",
    "- **Inline Code:**  \n",
    "  ```markdown\n",
    "  `summary(mtcars)`\n",
    "  ```\n",
    "\n",
    "- **Multi-line Code Block (R):**  \n",
    "  ````markdown\n",
    "  ```r\n",
    "  summary(mtcars)\n",
    "  ```\n",
    "  ````"
   ]
  },
  {
   "cell_type": "markdown",
   "id": "b819576b-19a8-49a2-bb92-d7fb258c0a3b",
   "metadata": {},
   "source": [
    "### 3. Writing Math with LaTeX"
   ]
  },
  {
   "cell_type": "markdown",
   "id": "7d5dd838-fd67-4ea2-9193-bc1e5faddfaf",
   "metadata": {},
   "source": [
    "In RMarkdown, you can use LaTeX syntax to render math equations.\n",
    "\n",
    "- **Inline Math:**\n",
    "```markdown\n",
    "`$ f(x) = \\frac{1}{\\sqrt{2\\pi\\sigma^2}} \\exp\\left( -\\frac{(x - \\mu)^2}{2\\sigma^2} \\right) $`\n",
    "```\n",
    "\n",
    "$f(x) = \\frac{1}{\\sqrt{2\\pi\\sigma^2}} \\exp\\left( -\\frac{(x - \\mu)^2}{2\\sigma^2} \\right)$"
   ]
  },
  {
   "cell_type": "markdown",
   "id": "ff2f7090-dfc9-4e93-840d-607363a0b3a2",
   "metadata": {},
   "source": [
    "- **Block Math:**  \n",
    "```markdown\n",
    "$$\n",
    "f(x) = \\frac{1}{\\sqrt{2\\pi\\sigma^2}} \\exp\\left( -\\frac{(x - \\mu)^2}{2\\sigma^2} \\right)\n",
    "$$\n",
    "```\n",
    "\n",
    "$$f(x) = \\frac{1}{\\sqrt{2\\pi\\sigma^2}} \\exp\\left( -\\frac{(x - \\mu)^2}{2\\sigma^2} \\right)$$"
   ]
  },
  {
   "cell_type": "markdown",
   "id": "4ff65be0-e031-48bb-8b0f-28d84eb7016f",
   "metadata": {},
   "source": [
    "## Using ggplot2 and Data Tables in RMarkdown"
   ]
  },
  {
   "cell_type": "markdown",
   "id": "b99a5ee1-e40d-461c-9a6e-8fa7f0f23f20",
   "metadata": {},
   "source": [
    "### Inserting ggplot2 Plots\n",
    "\n",
    "R code chunks can include plots using `ggplot2`.\n",
    "\n",
    "**Basic ggplot2 Example:**\n",
    "\n",
    "````markdown\n",
    "```{r, echo=FALSE}\n",
    "library(ggplot2)\n",
    "ggplot(mtcars, aes(x = mpg, y = hp, color = factor(cyl))) +\n",
    "  geom_point() +\n",
    "  theme_minimal()\n",
    "```\n",
    "````"
   ]
  },
  {
   "cell_type": "markdown",
   "id": "ec9f215e-6da8-41ce-a460-4d8d4a3f4bb8",
   "metadata": {},
   "source": [
    "### Printing Clean Tables with `kable()`\n",
    "\n",
    "Use `knitr::kable()` in RMarkdown to generate clean and formatted tables.\n",
    "\n",
    "**Basic kable Table Example:**\n",
    "\n",
    "````markdown\n",
    "```{r}\n",
    "library(knitr)\n",
    "kable(head(mtcars))\n",
    "```\n",
    "````"
   ]
  },
  {
   "cell_type": "markdown",
   "id": "606c8d72-beb7-47cd-a60f-77d18fb7e47f",
   "metadata": {},
   "source": [
    "# 7. Advanced Use of RMarkdown"
   ]
  },
  {
   "cell_type": "markdown",
   "id": "2df9cd6a-dda0-4690-8046-a0d83a9e4ce3",
   "metadata": {},
   "source": [
    "## Document Format Conversion in RMarkdown\n",
    "\n",
    "### Output Format Options\n",
    "\n",
    "RMarkdown supports rendering into various formats:\n",
    "\n",
    "- HTML document (`html_document`)\n",
    "- PDF document (`pdf_document`)\n",
    "- Word document (`word_document`)\n",
    "\n",
    "**Basic YAML Header Example:**\n",
    "\n",
    "```yaml\n",
    "---\n",
    "title: \"Analysis Report\"\n",
    "author: \"Soonwon KWON\"\n",
    "date: \"`r Sys.Date()`\"\n",
    "output:\n",
    "  html_document:\n",
    "    toc: true\n",
    "    number_sections: true\n",
    "---\n",
    "```\n",
    "\n",
    "- `toc: true`: Adds a table of contents  \n",
    "- `number_sections: true`: Adds numbered headings"
   ]
  },
  {
   "cell_type": "markdown",
   "id": "9b4680c0-91dd-4e52-9ee9-1a4f92a9b9ca",
   "metadata": {},
   "source": [
    "## Creating Interactive Documents"
   ]
  },
  {
   "cell_type": "markdown",
   "id": "b21802c4-7d23-436b-ade9-ad657e1f37fa",
   "metadata": {},
   "source": [
    "### Using Shiny in RMarkdown"
   ]
  },
  {
   "cell_type": "markdown",
   "id": "006bdb58-0514-4005-bb09-fdaab049d243",
   "metadata": {},
   "source": [
    "- You can add interactive features by setting `runtime: shiny` in the YAML header.\n",
    "\n",
    "**Shiny Document Example:**\n",
    "\n",
    "```yaml\n",
    "---\n",
    "title: \"Interactive Shiny Document\"\n",
    "output: html_document\n",
    "runtime: shiny\n",
    "---\n",
    "```"
   ]
  },
  {
   "cell_type": "markdown",
   "id": "a0e34364-64f8-42a5-9737-8588873dc2d4",
   "metadata": {},
   "source": [
    "**Markdown Example**\n",
    "````markdown\n",
    "## Summary Based on Input\n",
    "\n",
    "```{r, echo=FALSE}\n",
    "library(shiny)\n",
    "\n",
    "sliderInput(\"obs\", \"Number of observations to show:\", min = 1, max = 100, value = 10)\n",
    "\n",
    "renderPrint({\n",
    "  summary(mtcars[1:input$obs, ])\n",
    "})\n",
    "```\n",
    "````"
   ]
  },
  {
   "cell_type": "markdown",
   "id": "8ec39124-a67d-4673-ae08-a8abb6599f63",
   "metadata": {},
   "source": [
    "### Introduction to Flexdashboard\n",
    "\n",
    "- **Flexdashboard** is a package built on RMarkdown to easily create dashboards.\n",
    "- It is useful for displaying multiple visualizations in a single screen layout."
   ]
  },
  {
   "cell_type": "markdown",
   "id": "30b446e4-a731-40d1-8018-9e2e5d3d0bd3",
   "metadata": {},
   "source": [
    "**Basic Flexdashboard YAML Header:**\n",
    "\n",
    "```yaml\n",
    "---\n",
    "title: \"Flexdashboard Example\"\n",
    "output: flexdashboard::flex_dashboard\n",
    "---\n",
    "```"
   ]
  },
  {
   "cell_type": "markdown",
   "id": "d22d4e84-1472-451d-aa9f-754ee2f1a097",
   "metadata": {},
   "source": [
    "**Flexdashboard Example Layout:**\n",
    "\n",
    "````markdown\n",
    "Column {data-width=650}\n",
    "-------------------------------------\n",
    "\n",
    "### ggplot2 Scatter Plot\n",
    "\n",
    "```{r}\n",
    "library(ggplot2)\n",
    "ggplot(mtcars, aes(x = mpg, y = hp, color = factor(cyl))) +\n",
    "  geom_point()\n",
    "```\n",
    "\n",
    "Column {data-width=350}\n",
    "-------------------------------------\n",
    "\n",
    "### Data Table\n",
    "\n",
    "```{r}\n",
    "library(DT)\n",
    "datatable(mtcars)\n",
    "```\n",
    "````"
   ]
  },
  {
   "cell_type": "markdown",
   "id": "e9f912f6-9905-4a39-a75a-9024de0f1245",
   "metadata": {},
   "source": [
    "# 8. Writing Practical Reports & Automating Analysis with RMarkdown"
   ]
  },
  {
   "cell_type": "markdown",
   "id": "8e255553-ca67-4278-b8fd-84a6cf3a8981",
   "metadata": {},
   "source": [
    "## Writing a Practical Report"
   ]
  },
  {
   "cell_type": "markdown",
   "id": "d0b7ade8-42af-4454-ab96-b2f51b2a1cc4",
   "metadata": {},
   "source": [
    "### Key Components of a Good Report\n",
    "\n",
    "- Set title, author, and date using a YAML header  \n",
    "- Include a table of contents (`toc: true`) and section numbering (`number_sections: true`)  \n",
    "- Summarize data, visualize results, and report key statistics  \n",
    "- Present conclusions and directions for further analysis  "
   ]
  },
  {
   "cell_type": "markdown",
   "id": "e8863362-92ce-402a-8482-f9bb3aa4afe9",
   "metadata": {},
   "source": [
    "### Example Report Template"
   ]
  },
  {
   "cell_type": "markdown",
   "id": "5c8556be-eb78-4875-85da-7716968d34f6",
   "metadata": {},
   "source": [
    "**YAML Header Example:**\n",
    "\n",
    "```yaml\n",
    "---\n",
    "title: \"Customer Data Analysis Report\"\n",
    "author: \"Soonwon KWON\"\n",
    "date: \"`r Sys.Date()`\"\n",
    "output:\n",
    "  html_document:\n",
    "    toc: true\n",
    "    number_sections: true\n",
    "---\n",
    "```"
   ]
  },
  {
   "cell_type": "markdown",
   "id": "14d55376-b042-4e4b-984e-59e318258a94",
   "metadata": {},
   "source": [
    "**Markdown Example:**\n",
    "\n",
    "````markdown\n",
    "## 1. Data Overview\n",
    "\n",
    "This report presents an analysis of customer data.\n",
    "\n",
    "```{r}\n",
    "library(dplyr)\n",
    "data <- mtcars %>% group_by(cyl) %>% summarise(avg_mpg = mean(mpg))\n",
    "knitr::kable(data)\n",
    "```\n",
    "\n",
    "## 2. Visualization\n",
    "\n",
    "```{r}\n",
    "library(ggplot2)\n",
    "ggplot(mtcars, aes(x = mpg, y = hp, color = factor(cyl))) +\n",
    "  geom_point() +\n",
    "  theme_minimal()\n",
    "```\n",
    "\n",
    "## 3. Conclusion & Insights\n",
    "\n",
    "- Cars with a higher number of cylinders (`cyl`) tend to have lower fuel efficiency (`mpg`).  \n",
    "- Further data collection and analysis are recommended.\n",
    "````"
   ]
  },
  {
   "cell_type": "markdown",
   "id": "242a7778-1ccd-4796-af9a-7bb225a7687b",
   "metadata": {},
   "source": [
    "## Repetitive Analysis & Automated Report Generation"
   ]
  },
  {
   "cell_type": "markdown",
   "id": "97d6e1ee-8547-4bb8-9f0b-e2cd36b7039d",
   "metadata": {},
   "source": [
    "### Parameterized Reports"
   ]
  },
  {
   "cell_type": "markdown",
   "id": "ab131a22-563d-4890-91f7-ad41288c8e96",
   "metadata": {},
   "source": [
    "- Useful when applying the same analysis to different datasets  \n",
    "- You can use `params` to dynamically insert input values and automate report generation"
   ]
  },
  {
   "cell_type": "markdown",
   "id": "82ec5e6c-5a7f-45bb-ba48-374fa29963b9",
   "metadata": {},
   "source": [
    "### Example of a Parameterized Report Using `params`"
   ]
  },
  {
   "cell_type": "markdown",
   "id": "c34a22c9-6afb-40dc-abc5-fb2596711f99",
   "metadata": {},
   "source": [
    "**YAML Header Example:**\n",
    "\n",
    "```yaml\n",
    "---\n",
    "title: \"Automated Analysis Report\"\n",
    "output: html_document\n",
    "params:\n",
    "  dataset: \"mtcars\"\n",
    "---\n",
    "```"
   ]
  },
  {
   "cell_type": "markdown",
   "id": "ae4f987a-edb2-4491-9306-31454c566597",
   "metadata": {},
   "source": [
    "**Markdown Example:**\n",
    "\n",
    "````markdown\n",
    "## Data Summary\n",
    "\n",
    "Target dataset: `r params$dataset`\n",
    "\n",
    "```{r}\n",
    "dataset <- get(params$dataset)\n",
    "summary(dataset)\n",
    "```\n",
    "````"
   ]
  },
  {
   "cell_type": "markdown",
   "id": "d296049c-5518-4fc6-b1d4-08bd9f14e71e",
   "metadata": {},
   "source": [
    "# 9. Using Markdown on GitHub"
   ]
  },
  {
   "cell_type": "markdown",
   "id": "c986fb9f-bc00-4fc5-a720-14addbc9e706",
   "metadata": {},
   "source": [
    "## The Role of Markdown on GitHub"
   ]
  },
  {
   "cell_type": "markdown",
   "id": "fd64fe90-96b1-4880-b767-f1431493da8f",
   "metadata": {},
   "source": [
    "### Why Markdown is Important on GitHub\n",
    "- GitHub uses **Markdown (.md files)** as the default format for writing project documents  \n",
    "- Markdown is useful for explaining project details, installation steps, and usage examples  \n",
    "- It also enhances formatting inside **GitHub Issues** and **Pull Requests (PRs)**"
   ]
  },
  {
   "cell_type": "markdown",
   "id": "676c9e16-cb98-454b-92ae-5bbdc07637c6",
   "metadata": {},
   "source": [
    "### Common Use Cases\n",
    "\n",
    "- `README.md` – Describe the project, how to install/use it  \n",
    "- `CONTRIBUTING.md` – Guide for contributing to the project  \n",
    "- Issues / Pull Requests – Report bugs, request features, summarize changes  "
   ]
  },
  {
   "cell_type": "markdown",
   "id": "0e639835-8875-40b0-b1b5-2f00b1054923",
   "metadata": {},
   "source": [
    "## Writing a README.md File"
   ]
  },
  {
   "cell_type": "markdown",
   "id": "6e90ce56-d5bd-467d-b866-299720148959",
   "metadata": {},
   "source": [
    "### Basic README.md Template"
   ]
  },
  {
   "cell_type": "markdown",
   "id": "c46ef05f-edca-4b3f-ad04-54dbcc40073a",
   "metadata": {},
   "source": [
    "````markdown\n",
    "# Project Title\n",
    "\n",
    "## Introduction\n",
    "This project is an example to learn **how to use Markdown on GitHub**.\n",
    "\n",
    "## Installation\n",
    "1. Clone this repository:\n",
    "   ```\n",
    "   git clone https://github.com/username/repository.git\n",
    "   ```\n",
    "2. Install the required packages  \n",
    "3. Run the project  \n",
    "\n",
    "## Usage Example\n",
    "```r\n",
    "print(\"Hello, GitHub Markdown!\")\n",
    "```\n",
    "\n",
    "## How to Contribute\n",
    "1. Open an issue  \n",
    "2. Create a branch and make your changes  \n",
    "3. Submit a Pull Request (PR)  \n",
    "\n",
    "## License\n",
    "MIT License\n",
    "````"
   ]
  },
  {
   "cell_type": "markdown",
   "id": "9f6ad177-e36f-4421-8d0f-6729859f3e6c",
   "metadata": {},
   "source": [
    "- Use `#` for section headings  \n",
    "- Use `**bold**` to emphasize text  \n",
    "- Use backticks for `inline code` and code blocks  "
   ]
  },
  {
   "cell_type": "markdown",
   "id": "6097e9ee-f64b-4e93-97af-ee89c4a32ea1",
   "metadata": {},
   "source": [
    "## Using Markdown in GitHub Issues & Pull Requests"
   ]
  },
  {
   "cell_type": "markdown",
   "id": "58f72b77-ff1c-4f45-bb58-b9cd3c4077c1",
   "metadata": {},
   "source": [
    "### Markdown in Issues"
   ]
  },
  {
   "cell_type": "markdown",
   "id": "b51865ad-eb8a-46d4-8933-3b26ad0589d3",
   "metadata": {},
   "source": [
    "- Use Markdown to clearly format bug reports, feature requests, and tasks  \n",
    "- Use checklists, mentions (`@username`), and issue references (`#issue-number`)"
   ]
  },
  {
   "cell_type": "markdown",
   "id": "5614f1eb-c645-4e64-87b8-d8a7e79b5a86",
   "metadata": {},
   "source": [
    "### Issue Template Example"
   ]
  },
  {
   "cell_type": "markdown",
   "id": "398551e5-595a-40a7-bd8a-dccda7e2b787",
   "metadata": {},
   "source": [
    "````markdown\n",
    "## 🐞 Bug Report\n",
    "\n",
    "### Description\n",
    "- [ ] Behavior is different from expected  \n",
    "- [ ] Certain feature is not working  \n",
    "\n",
    "### Steps to Reproduce\n",
    "1. Run this command: `python script.py`  \n",
    "2. Error message:  \n",
    "   ```\n",
    "   Error: File not found.\n",
    "   ```\n",
    "\n",
    "### Expected Result\n",
    "It should run without errors.\n",
    "\n",
    "### Environment\n",
    "- OS: Ubuntu 22.04  \n",
    "- R Version: 4.1.2\n",
    "````"
   ]
  },
  {
   "cell_type": "markdown",
   "id": "8e1490ef-f94e-40d1-87d4-60d4594fec2e",
   "metadata": {},
   "source": [
    "### Markdown in Pull Requests (PRs)"
   ]
  },
  {
   "cell_type": "markdown",
   "id": "f591c410-2dc7-4ce5-95a5-f3ab70115d3f",
   "metadata": {},
   "source": [
    "- Use Markdown to document changes, summarize commits, and list test results  \n",
    "- Include checklists to guide code review"
   ]
  },
  {
   "cell_type": "markdown",
   "id": "91dd29b2-7884-4abf-b77a-7615d185af63",
   "metadata": {},
   "source": [
    "### Pull Request Template Example"
   ]
  },
  {
   "cell_type": "markdown",
   "id": "7328d057-31cd-4cbb-a02b-bbe6fde01115",
   "metadata": {},
   "source": [
    "```markdown\n",
    "## Changes Made\n",
    "- Added new feature (`feature-branch`)  \n",
    "- Refactored existing code  \n",
    "\n",
    "## Checklist\n",
    "- [x] Code successfully runs  \n",
    "- [x] Documentation updated  \n",
    "- [ ] Additional tests needed  \n",
    "\n",
    "## Screenshots\n",
    "(Include UI or output images if applicable)\n",
    "\n",
    "## Related Issues\n",
    "Fixes #12\n",
    "```"
   ]
  }
 ],
 "metadata": {
  "kernelspec": {
   "display_name": "Python 3 (ipykernel)",
   "language": "python",
   "name": "python3"
  },
  "language_info": {
   "codemirror_mode": {
    "name": "ipython",
    "version": 3
   },
   "file_extension": ".py",
   "mimetype": "text/x-python",
   "name": "python",
   "nbconvert_exporter": "python",
   "pygments_lexer": "ipython3",
   "version": "3.11.11"
  }
 },
 "nbformat": 4,
 "nbformat_minor": 5
}
