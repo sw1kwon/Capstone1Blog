{
 "cells": [
  {
   "cell_type": "raw",
   "id": "b48aaf3b",
   "metadata": {
    "vscode": {
     "languageId": "raw"
    }
   },
   "source": [
    "---\n",
    "title: \"1.9 (p14)\"\n",
    "author: \"sw1kwon\"\n",
    "date: \"17/03/2025\"\n",
    "---"
   ]
  },
  {
   "cell_type": "markdown",
   "id": "80213c7a-8a1b-4215-bfd5-1142ba6cdc92",
   "metadata": {},
   "source": [
    "# 과제 1.1"
   ]
  },
  {
   "cell_type": "markdown",
   "id": "f24a3f3e-54bb-4beb-bd3f-94ab95ab141a",
   "metadata": {},
   "source": [
    "주사위 두 개를 굴려서 나온 눈의 수를 사용해서 두 자리 숫자를 크게 만드는 사람이 이기는 게임이다. 주사위를 처음 굴려서 나온 눈의 수를 10의 자리와 1의 자리 중 어느 곳에 사용할 지 먼저 결정해야 한다. 그런 다음 두 번째로 주사위를 굴려서 나온 눈의 수는 자동으로 남은 자리의 숫자로 사용된다.\n",
    "\n",
    "예를 들어, 첫 번째 주사위가 3인데 10의 자리로 결정했고, 두 번째 6이 나왔다면 결과는 36이 된다.  \n",
    "\n",
    "어떤 전략을 사용해야 게임에 이길 가능성이 가장 클까?"
   ]
  },
  {
   "cell_type": "markdown",
   "id": "04a41815-8152-4394-824a-288a95cf90fc",
   "metadata": {},
   "source": [
    "## 1."
   ]
  },
  {
   "cell_type": "markdown",
   "id": "0302f923-e681-4f33-99f4-d18e899acf47",
   "metadata": {},
   "source": [
    "최선이라고 선택한 전략의 \"two_dice.csv\" 파일 총점수 및 평균"
   ]
  },
  {
   "cell_type": "code",
   "execution_count": 1,
   "id": "9ceb1997-2dbb-4b4b-8bce-af5b997dea34",
   "metadata": {
    "vscode": {
     "languageId": "r"
    }
   },
   "outputs": [],
   "source": [
    "# data 불러오기\n",
    "two_dice <- read.csv(\"https://raw.githubusercontent.com/sw1kwon/Capstone1/refs/heads/main/two_dice.csv\", header=TRUE)"
   ]
  },
  {
   "cell_type": "code",
   "execution_count": 2,
   "id": "9c3a3f97-fea8-485d-8e25-e78c22d89027",
   "metadata": {
    "vscode": {
     "languageId": "r"
    }
   },
   "outputs": [
    {
     "data": {
      "text/html": [
       "<table class=\"dataframe\">\n",
       "<caption>A data.frame: 6 × 2</caption>\n",
       "<thead>\n",
       "\t<tr><th></th><th scope=col>dice1</th><th scope=col>dice2</th></tr>\n",
       "\t<tr><th></th><th scope=col>&lt;int&gt;</th><th scope=col>&lt;int&gt;</th></tr>\n",
       "</thead>\n",
       "<tbody>\n",
       "\t<tr><th scope=row>1</th><td>1</td><td>4</td></tr>\n",
       "\t<tr><th scope=row>2</th><td>1</td><td>2</td></tr>\n",
       "\t<tr><th scope=row>3</th><td>5</td><td>3</td></tr>\n",
       "\t<tr><th scope=row>4</th><td>6</td><td>2</td></tr>\n",
       "\t<tr><th scope=row>5</th><td>3</td><td>3</td></tr>\n",
       "\t<tr><th scope=row>6</th><td>1</td><td>5</td></tr>\n",
       "</tbody>\n",
       "</table>\n"
      ],
      "text/latex": [
       "A data.frame: 6 × 2\n",
       "\\begin{tabular}{r|ll}\n",
       "  & dice1 & dice2\\\\\n",
       "  & <int> & <int>\\\\\n",
       "\\hline\n",
       "\t1 & 1 & 4\\\\\n",
       "\t2 & 1 & 2\\\\\n",
       "\t3 & 5 & 3\\\\\n",
       "\t4 & 6 & 2\\\\\n",
       "\t5 & 3 & 3\\\\\n",
       "\t6 & 1 & 5\\\\\n",
       "\\end{tabular}\n"
      ],
      "text/markdown": [
       "\n",
       "A data.frame: 6 × 2\n",
       "\n",
       "| <!--/--> | dice1 &lt;int&gt; | dice2 &lt;int&gt; |\n",
       "|---|---|---|\n",
       "| 1 | 1 | 4 |\n",
       "| 2 | 1 | 2 |\n",
       "| 3 | 5 | 3 |\n",
       "| 4 | 6 | 2 |\n",
       "| 5 | 3 | 3 |\n",
       "| 6 | 1 | 5 |\n",
       "\n"
      ],
      "text/plain": [
       "  dice1 dice2\n",
       "1 1     4    \n",
       "2 1     2    \n",
       "3 5     3    \n",
       "4 6     2    \n",
       "5 3     3    \n",
       "6 1     5    "
      ]
     },
     "metadata": {},
     "output_type": "display_data"
    }
   ],
   "source": [
    "head(two_dice) # data 형태"
   ]
  },
  {
   "cell_type": "code",
   "execution_count": 3,
   "id": "fe2e4081-d2dd-43c0-81b2-7abb6399fa14",
   "metadata": {
    "vscode": {
     "languageId": "r"
    }
   },
   "outputs": [
    {
     "data": {
      "text/html": [
       "1000000"
      ],
      "text/latex": [
       "1000000"
      ],
      "text/markdown": [
       "1000000"
      ],
      "text/plain": [
       "[1] 1000000"
      ]
     },
     "metadata": {},
     "output_type": "display_data"
    }
   ],
   "source": [
    "nrow(two_dice) # data 길이"
   ]
  },
  {
   "cell_type": "markdown",
   "id": "9bad4938-ca5d-444a-aef6-1e17771bb003",
   "metadata": {},
   "source": [
    "- 전략 1: 문제를 보자마자 떠오른 전략\n",
    "  - 첫 번째 주사위가 3 이하이면 1의 자리, 4 이상이면 10의 자리에 배치\n",
    "  - 이유: 주사위 눈이 총 6개이고 주사위를 총 2번 던지므로 1에서 6까지 반절씩 나누면 괜찮을 것 같음"
   ]
  },
  {
   "cell_type": "markdown",
   "id": "85c80531-862e-43f9-a04d-7ab0bd152efa",
   "metadata": {},
   "source": [
    "- 전략 2\n",
    "  - 첫 번째 주사위가 4 이하면 1의 자리, 5 이상이면 10의 자리에 배치"
   ]
  },
  {
   "cell_type": "markdown",
   "id": "94abd148-4f6b-4724-a9f0-e4d36ced3572",
   "metadata": {},
   "source": [
    "- 전략 3\n",
    "  - 첫 번째 주사위가 2 이하면 1의 자리, 3 이상이면 10의 자리에 배치"
   ]
  },
  {
   "cell_type": "markdown",
   "id": "97588d5e-2117-4a9c-8641-a78f3d2f40f3",
   "metadata": {},
   "source": [
    "### 전략 1"
   ]
  },
  {
   "cell_type": "code",
   "execution_count": 4,
   "id": "99240385-4da8-4dde-8ca1-f6655146b2be",
   "metadata": {
    "vscode": {
     "languageId": "r"
    }
   },
   "outputs": [],
   "source": [
    "# dice1이 3 이하이면 dice2를 10의 자리로, 4 이상이면 dice1을 10의 자리로 배치\n",
    "two_dice$result1 <- ifelse(two_dice$dice1 <= 3, two_dice$dice1 + two_dice$dice2 * 10, two_dice$dice1 * 10 + two_dice$dice2)"
   ]
  },
  {
   "cell_type": "code",
   "execution_count": 5,
   "id": "f8bd92a0-43e0-4ffb-9717-485c42e5bb99",
   "metadata": {
    "vscode": {
     "languageId": "r"
    }
   },
   "outputs": [
    {
     "data": {
      "text/html": [
       "<table class=\"dataframe\">\n",
       "<caption>A data.frame: 6 × 3</caption>\n",
       "<thead>\n",
       "\t<tr><th></th><th scope=col>dice1</th><th scope=col>dice2</th><th scope=col>result1</th></tr>\n",
       "\t<tr><th></th><th scope=col>&lt;int&gt;</th><th scope=col>&lt;int&gt;</th><th scope=col>&lt;dbl&gt;</th></tr>\n",
       "</thead>\n",
       "<tbody>\n",
       "\t<tr><th scope=row>1</th><td>1</td><td>4</td><td>41</td></tr>\n",
       "\t<tr><th scope=row>2</th><td>1</td><td>2</td><td>21</td></tr>\n",
       "\t<tr><th scope=row>3</th><td>5</td><td>3</td><td>53</td></tr>\n",
       "\t<tr><th scope=row>4</th><td>6</td><td>2</td><td>62</td></tr>\n",
       "\t<tr><th scope=row>5</th><td>3</td><td>3</td><td>33</td></tr>\n",
       "\t<tr><th scope=row>6</th><td>1</td><td>5</td><td>51</td></tr>\n",
       "</tbody>\n",
       "</table>\n"
      ],
      "text/latex": [
       "A data.frame: 6 × 3\n",
       "\\begin{tabular}{r|lll}\n",
       "  & dice1 & dice2 & result1\\\\\n",
       "  & <int> & <int> & <dbl>\\\\\n",
       "\\hline\n",
       "\t1 & 1 & 4 & 41\\\\\n",
       "\t2 & 1 & 2 & 21\\\\\n",
       "\t3 & 5 & 3 & 53\\\\\n",
       "\t4 & 6 & 2 & 62\\\\\n",
       "\t5 & 3 & 3 & 33\\\\\n",
       "\t6 & 1 & 5 & 51\\\\\n",
       "\\end{tabular}\n"
      ],
      "text/markdown": [
       "\n",
       "A data.frame: 6 × 3\n",
       "\n",
       "| <!--/--> | dice1 &lt;int&gt; | dice2 &lt;int&gt; | result1 &lt;dbl&gt; |\n",
       "|---|---|---|---|\n",
       "| 1 | 1 | 4 | 41 |\n",
       "| 2 | 1 | 2 | 21 |\n",
       "| 3 | 5 | 3 | 53 |\n",
       "| 4 | 6 | 2 | 62 |\n",
       "| 5 | 3 | 3 | 33 |\n",
       "| 6 | 1 | 5 | 51 |\n",
       "\n"
      ],
      "text/plain": [
       "  dice1 dice2 result1\n",
       "1 1     4     41     \n",
       "2 1     2     21     \n",
       "3 5     3     53     \n",
       "4 6     2     62     \n",
       "5 3     3     33     \n",
       "6 1     5     51     "
      ]
     },
     "metadata": {},
     "output_type": "display_data"
    }
   ],
   "source": [
    "# 결과 확인\n",
    "head(two_dice)"
   ]
  },
  {
   "cell_type": "code",
   "execution_count": 6,
   "id": "f93a3d36-a200-4950-96b0-1feed8a4437c",
   "metadata": {
    "vscode": {
     "languageId": "r"
    }
   },
   "outputs": [
    {
     "data": {
      "text/html": [
       "45241257"
      ],
      "text/latex": [
       "45241257"
      ],
      "text/markdown": [
       "45241257"
      ],
      "text/plain": [
       "[1] 45241257"
      ]
     },
     "metadata": {},
     "output_type": "display_data"
    }
   ],
   "source": [
    "# 총점수\n",
    "sum(two_dice$result1)"
   ]
  },
  {
   "cell_type": "code",
   "execution_count": 7,
   "id": "e162d32f-19c6-4301-8575-190e4ee60eb0",
   "metadata": {
    "vscode": {
     "languageId": "r"
    }
   },
   "outputs": [
    {
     "data": {
      "text/html": [
       "45.241257"
      ],
      "text/latex": [
       "45.241257"
      ],
      "text/markdown": [
       "45.241257"
      ],
      "text/plain": [
       "[1] 45.24126"
      ]
     },
     "metadata": {},
     "output_type": "display_data"
    }
   ],
   "source": [
    "# 평균\n",
    "mean(two_dice$result1)"
   ]
  },
  {
   "cell_type": "markdown",
   "id": "d3bea3ca-b2d9-4f63-b1bc-f9ad3e3801be",
   "metadata": {},
   "source": [
    "### 전략 2"
   ]
  },
  {
   "cell_type": "code",
   "execution_count": 8,
   "id": "951a03ee-c2ad-434c-bf81-de5b203ad571",
   "metadata": {
    "vscode": {
     "languageId": "r"
    }
   },
   "outputs": [],
   "source": [
    "# dice1이 4 이하이면 dice2를 10의 자리로, 5 이상이면 dice1을 10의 자리로 배치\n",
    "two_dice$result2 <- ifelse(two_dice$dice1 <= 4, two_dice$dice1 + two_dice$dice2 * 10, two_dice$dice1 * 10 + two_dice$dice2)"
   ]
  },
  {
   "cell_type": "code",
   "execution_count": 9,
   "id": "dcd481d5-4403-4e8a-b1c0-e21e0b02c808",
   "metadata": {
    "vscode": {
     "languageId": "r"
    }
   },
   "outputs": [
    {
     "data": {
      "text/html": [
       "<table class=\"dataframe\">\n",
       "<caption>A data.frame: 6 × 4</caption>\n",
       "<thead>\n",
       "\t<tr><th></th><th scope=col>dice1</th><th scope=col>dice2</th><th scope=col>result1</th><th scope=col>result2</th></tr>\n",
       "\t<tr><th></th><th scope=col>&lt;int&gt;</th><th scope=col>&lt;int&gt;</th><th scope=col>&lt;dbl&gt;</th><th scope=col>&lt;dbl&gt;</th></tr>\n",
       "</thead>\n",
       "<tbody>\n",
       "\t<tr><th scope=row>1</th><td>1</td><td>4</td><td>41</td><td>41</td></tr>\n",
       "\t<tr><th scope=row>2</th><td>1</td><td>2</td><td>21</td><td>21</td></tr>\n",
       "\t<tr><th scope=row>3</th><td>5</td><td>3</td><td>53</td><td>53</td></tr>\n",
       "\t<tr><th scope=row>4</th><td>6</td><td>2</td><td>62</td><td>62</td></tr>\n",
       "\t<tr><th scope=row>5</th><td>3</td><td>3</td><td>33</td><td>33</td></tr>\n",
       "\t<tr><th scope=row>6</th><td>1</td><td>5</td><td>51</td><td>51</td></tr>\n",
       "</tbody>\n",
       "</table>\n"
      ],
      "text/latex": [
       "A data.frame: 6 × 4\n",
       "\\begin{tabular}{r|llll}\n",
       "  & dice1 & dice2 & result1 & result2\\\\\n",
       "  & <int> & <int> & <dbl> & <dbl>\\\\\n",
       "\\hline\n",
       "\t1 & 1 & 4 & 41 & 41\\\\\n",
       "\t2 & 1 & 2 & 21 & 21\\\\\n",
       "\t3 & 5 & 3 & 53 & 53\\\\\n",
       "\t4 & 6 & 2 & 62 & 62\\\\\n",
       "\t5 & 3 & 3 & 33 & 33\\\\\n",
       "\t6 & 1 & 5 & 51 & 51\\\\\n",
       "\\end{tabular}\n"
      ],
      "text/markdown": [
       "\n",
       "A data.frame: 6 × 4\n",
       "\n",
       "| <!--/--> | dice1 &lt;int&gt; | dice2 &lt;int&gt; | result1 &lt;dbl&gt; | result2 &lt;dbl&gt; |\n",
       "|---|---|---|---|---|\n",
       "| 1 | 1 | 4 | 41 | 41 |\n",
       "| 2 | 1 | 2 | 21 | 21 |\n",
       "| 3 | 5 | 3 | 53 | 53 |\n",
       "| 4 | 6 | 2 | 62 | 62 |\n",
       "| 5 | 3 | 3 | 33 | 33 |\n",
       "| 6 | 1 | 5 | 51 | 51 |\n",
       "\n"
      ],
      "text/plain": [
       "  dice1 dice2 result1 result2\n",
       "1 1     4     41      41     \n",
       "2 1     2     21      21     \n",
       "3 5     3     53      53     \n",
       "4 6     2     62      62     \n",
       "5 3     3     33      33     \n",
       "6 1     5     51      51     "
      ]
     },
     "metadata": {},
     "output_type": "display_data"
    }
   ],
   "source": [
    "# 결과 확인\n",
    "head(two_dice)"
   ]
  },
  {
   "cell_type": "code",
   "execution_count": 10,
   "id": "efe09add-d6e8-4bd4-92ca-53b5e5588db1",
   "metadata": {
    "vscode": {
     "languageId": "r"
    }
   },
   "outputs": [
    {
     "data": {
      "text/html": [
       "44482521"
      ],
      "text/latex": [
       "44482521"
      ],
      "text/markdown": [
       "44482521"
      ],
      "text/plain": [
       "[1] 44482521"
      ]
     },
     "metadata": {},
     "output_type": "display_data"
    }
   ],
   "source": [
    "# 총점수\n",
    "sum(two_dice$result2)"
   ]
  },
  {
   "cell_type": "code",
   "execution_count": 11,
   "id": "aa6062ee-4bff-427f-b160-79dff813e0da",
   "metadata": {
    "vscode": {
     "languageId": "r"
    }
   },
   "outputs": [
    {
     "data": {
      "text/html": [
       "44.482521"
      ],
      "text/latex": [
       "44.482521"
      ],
      "text/markdown": [
       "44.482521"
      ],
      "text/plain": [
       "[1] 44.48252"
      ]
     },
     "metadata": {},
     "output_type": "display_data"
    }
   ],
   "source": [
    "# 평균\n",
    "mean(two_dice$result2)"
   ]
  },
  {
   "cell_type": "markdown",
   "id": "301c22fb-a7c5-402c-839a-6bcf5862dd1d",
   "metadata": {},
   "source": [
    "### 전략 3"
   ]
  },
  {
   "cell_type": "code",
   "execution_count": 12,
   "id": "886cfe1b-bf7b-4aef-b9dd-7ad2e2099680",
   "metadata": {
    "vscode": {
     "languageId": "r"
    }
   },
   "outputs": [],
   "source": [
    "# dice1이 2 이하이면 dice2를 10의 자리로, 3 이상이면 dice1을 10의 자리로 배치\n",
    "two_dice$result3 <- ifelse(two_dice$dice1 <= 2, two_dice$dice1 + two_dice$dice2 * 10, two_dice$dice1 * 10 + two_dice$dice2)"
   ]
  },
  {
   "cell_type": "code",
   "execution_count": 13,
   "id": "c80967db-cbee-4b1e-8a04-406eebd870ba",
   "metadata": {
    "vscode": {
     "languageId": "r"
    }
   },
   "outputs": [
    {
     "data": {
      "text/html": [
       "<table class=\"dataframe\">\n",
       "<caption>A data.frame: 6 × 5</caption>\n",
       "<thead>\n",
       "\t<tr><th></th><th scope=col>dice1</th><th scope=col>dice2</th><th scope=col>result1</th><th scope=col>result2</th><th scope=col>result3</th></tr>\n",
       "\t<tr><th></th><th scope=col>&lt;int&gt;</th><th scope=col>&lt;int&gt;</th><th scope=col>&lt;dbl&gt;</th><th scope=col>&lt;dbl&gt;</th><th scope=col>&lt;dbl&gt;</th></tr>\n",
       "</thead>\n",
       "<tbody>\n",
       "\t<tr><th scope=row>1</th><td>1</td><td>4</td><td>41</td><td>41</td><td>41</td></tr>\n",
       "\t<tr><th scope=row>2</th><td>1</td><td>2</td><td>21</td><td>21</td><td>21</td></tr>\n",
       "\t<tr><th scope=row>3</th><td>5</td><td>3</td><td>53</td><td>53</td><td>53</td></tr>\n",
       "\t<tr><th scope=row>4</th><td>6</td><td>2</td><td>62</td><td>62</td><td>62</td></tr>\n",
       "\t<tr><th scope=row>5</th><td>3</td><td>3</td><td>33</td><td>33</td><td>33</td></tr>\n",
       "\t<tr><th scope=row>6</th><td>1</td><td>5</td><td>51</td><td>51</td><td>51</td></tr>\n",
       "</tbody>\n",
       "</table>\n"
      ],
      "text/latex": [
       "A data.frame: 6 × 5\n",
       "\\begin{tabular}{r|lllll}\n",
       "  & dice1 & dice2 & result1 & result2 & result3\\\\\n",
       "  & <int> & <int> & <dbl> & <dbl> & <dbl>\\\\\n",
       "\\hline\n",
       "\t1 & 1 & 4 & 41 & 41 & 41\\\\\n",
       "\t2 & 1 & 2 & 21 & 21 & 21\\\\\n",
       "\t3 & 5 & 3 & 53 & 53 & 53\\\\\n",
       "\t4 & 6 & 2 & 62 & 62 & 62\\\\\n",
       "\t5 & 3 & 3 & 33 & 33 & 33\\\\\n",
       "\t6 & 1 & 5 & 51 & 51 & 51\\\\\n",
       "\\end{tabular}\n"
      ],
      "text/markdown": [
       "\n",
       "A data.frame: 6 × 5\n",
       "\n",
       "| <!--/--> | dice1 &lt;int&gt; | dice2 &lt;int&gt; | result1 &lt;dbl&gt; | result2 &lt;dbl&gt; | result3 &lt;dbl&gt; |\n",
       "|---|---|---|---|---|---|\n",
       "| 1 | 1 | 4 | 41 | 41 | 41 |\n",
       "| 2 | 1 | 2 | 21 | 21 | 21 |\n",
       "| 3 | 5 | 3 | 53 | 53 | 53 |\n",
       "| 4 | 6 | 2 | 62 | 62 | 62 |\n",
       "| 5 | 3 | 3 | 33 | 33 | 33 |\n",
       "| 6 | 1 | 5 | 51 | 51 | 51 |\n",
       "\n"
      ],
      "text/plain": [
       "  dice1 dice2 result1 result2 result3\n",
       "1 1     4     41      41      41     \n",
       "2 1     2     21      21      21     \n",
       "3 5     3     53      53      53     \n",
       "4 6     2     62      62      62     \n",
       "5 3     3     33      33      33     \n",
       "6 1     5     51      51      51     "
      ]
     },
     "metadata": {},
     "output_type": "display_data"
    }
   ],
   "source": [
    "# 결과 확인\n",
    "head(two_dice)"
   ]
  },
  {
   "cell_type": "code",
   "execution_count": 14,
   "id": "3676efbf-c235-4886-96a1-eb84a555c4c7",
   "metadata": {
    "vscode": {
     "languageId": "r"
    }
   },
   "outputs": [
    {
     "data": {
      "text/html": [
       "44494923"
      ],
      "text/latex": [
       "44494923"
      ],
      "text/markdown": [
       "44494923"
      ],
      "text/plain": [
       "[1] 44494923"
      ]
     },
     "metadata": {},
     "output_type": "display_data"
    }
   ],
   "source": [
    "# 총점수\n",
    "sum(two_dice$result3)"
   ]
  },
  {
   "cell_type": "code",
   "execution_count": 15,
   "id": "93352d88-5277-4e3b-8501-332a6bbc16d7",
   "metadata": {
    "vscode": {
     "languageId": "r"
    }
   },
   "outputs": [
    {
     "data": {
      "text/html": [
       "44.494923"
      ],
      "text/latex": [
       "44.494923"
      ],
      "text/markdown": [
       "44.494923"
      ],
      "text/plain": [
       "[1] 44.49492"
      ]
     },
     "metadata": {},
     "output_type": "display_data"
    }
   ],
   "source": [
    "# 평균\n",
    "mean(two_dice$result3)"
   ]
  },
  {
   "cell_type": "markdown",
   "id": "96a8eb04-78ad-4de9-8bfd-5f4e333d2c51",
   "metadata": {},
   "source": [
    "### 결론"
   ]
  },
  {
   "cell_type": "code",
   "execution_count": 16,
   "id": "0e52bd16-79bc-4f25-be7d-16cf1e9fd232",
   "metadata": {
    "vscode": {
     "languageId": "r"
    }
   },
   "outputs": [
    {
     "data": {
      "text/html": [
       "<style>\n",
       ".dl-inline {width: auto; margin:0; padding: 0}\n",
       ".dl-inline>dt, .dl-inline>dd {float: none; width: auto; display: inline-block}\n",
       ".dl-inline>dt::after {content: \":\\0020\"; padding-right: .5ex}\n",
       ".dl-inline>dt:not(:first-of-type) {padding-left: .5ex}\n",
       "</style><dl class=dl-inline><dt>result1</dt><dd>45.241257</dd><dt>result2</dt><dd>44.482521</dd><dt>result3</dt><dd>44.494923</dd></dl>\n"
      ],
      "text/latex": [
       "\\begin{description*}\n",
       "\\item[result1] 45.241257\n",
       "\\item[result2] 44.482521\n",
       "\\item[result3] 44.494923\n",
       "\\end{description*}\n"
      ],
      "text/markdown": [
       "result1\n",
       ":   45.241257result2\n",
       ":   44.482521result3\n",
       ":   44.494923\n",
       "\n"
      ],
      "text/plain": [
       " result1  result2  result3 \n",
       "45.24126 44.48252 44.49492 "
      ]
     },
     "metadata": {},
     "output_type": "display_data"
    }
   ],
   "source": [
    "# 열 평균 계산 및 비교\n",
    "colMeans(two_dice[c(\"result1\", \"result2\", \"result3\")])"
   ]
  },
  {
   "cell_type": "markdown",
   "id": "8c833e0b-8ed9-4812-8012-61b5ae3fd30c",
   "metadata": {},
   "source": [
    "- 전략 1의 평균이 제일 높아 가장 좋은 전략으로 생각은 되나 확실하지 않음\n",
    "- 전략 2의 평균보다 전략 3의 평균이 높음"
   ]
  },
  {
   "cell_type": "markdown",
   "id": "f01cfac0-c93b-4263-b102-9cacb7299238",
   "metadata": {},
   "source": [
    "## 2."
   ]
  },
  {
   "cell_type": "markdown",
   "id": "a35cbac9-9e92-402b-9dc5-717d40f0e483",
   "metadata": {},
   "source": [
    "최선의 전략일 때 확률분포를 구하고 그래프로 그려라."
   ]
  },
  {
   "cell_type": "code",
   "execution_count": 18,
   "id": "9cbf80c5-0420-44bd-b90e-d2d94504f448",
   "metadata": {
    "vscode": {
     "languageId": "r"
    }
   },
   "outputs": [],
   "source": [
    "# 패키지 로드\n",
    "library(ggplot2)\n",
    "library(dplyr)"
   ]
  },
  {
   "cell_type": "markdown",
   "id": "ae002e97-79b9-43d8-bfd8-3303c4b30e6c",
   "metadata": {},
   "source": [
    "### 전략 1"
   ]
  },
  {
   "cell_type": "code",
   "execution_count": 19,
   "id": "532e4d87-e8e4-40d3-90a9-39538ed37283",
   "metadata": {
    "vscode": {
     "languageId": "r"
    }
   },
   "outputs": [],
   "source": [
    "# 모든 가능한 주사위 값 조합 (36개)\n",
    "d2 <- expand.grid(dice1 = 1:6, dice2 = 1:6)"
   ]
  },
  {
   "cell_type": "code",
   "execution_count": 20,
   "id": "75ec066c-8fce-4159-ae8f-a081f3bc7bb8",
   "metadata": {
    "vscode": {
     "languageId": "r"
    }
   },
   "outputs": [],
   "source": [
    "# 두 자리 숫자(result1) 계산\n",
    "d2 <- d2 %>%\n",
    "  mutate(result1 = ifelse(dice1 <= 3, dice1 + dice2 * 10, dice1 * 10 + dice2))"
   ]
  },
  {
   "cell_type": "code",
   "execution_count": 21,
   "id": "b1934c89-69a9-4515-912d-5bab5f18b545",
   "metadata": {
    "vscode": {
     "languageId": "r"
    }
   },
   "outputs": [],
   "source": [
    "# 각 result1이 나올 확률 계산 (각 조합은 1/36 확률)\n",
    "prob_d2_1 <- d2 %>%\n",
    "  group_by(result1) %>%\n",
    "  summarise(probability = n() / 36)"
   ]
  },
  {
   "cell_type": "code",
   "execution_count": 22,
   "id": "eb65c020-4c4e-4cf8-9c14-2bc620687ce1",
   "metadata": {
    "vscode": {
     "languageId": "r"
    }
   },
   "outputs": [
    {
     "name": "stdout",
     "output_type": "stream",
     "text": [
      "\u001b[90m# A tibble: 27 × 2\u001b[39m\n",
      "   result1 probability\n",
      "     \u001b[3m\u001b[90m<dbl>\u001b[39m\u001b[23m       \u001b[3m\u001b[90m<dbl>\u001b[39m\u001b[23m\n",
      "\u001b[90m 1\u001b[39m      11      0.027\u001b[4m8\u001b[24m\n",
      "\u001b[90m 2\u001b[39m      12      0.027\u001b[4m8\u001b[24m\n",
      "\u001b[90m 3\u001b[39m      13      0.027\u001b[4m8\u001b[24m\n",
      "\u001b[90m 4\u001b[39m      21      0.027\u001b[4m8\u001b[24m\n",
      "\u001b[90m 5\u001b[39m      22      0.027\u001b[4m8\u001b[24m\n",
      "\u001b[90m 6\u001b[39m      23      0.027\u001b[4m8\u001b[24m\n",
      "\u001b[90m 7\u001b[39m      31      0.027\u001b[4m8\u001b[24m\n",
      "\u001b[90m 8\u001b[39m      32      0.027\u001b[4m8\u001b[24m\n",
      "\u001b[90m 9\u001b[39m      33      0.027\u001b[4m8\u001b[24m\n",
      "\u001b[90m10\u001b[39m      41      0.055\u001b[4m6\u001b[24m\n",
      "\u001b[90m# ℹ 17 more rows\u001b[39m\n"
     ]
    }
   ],
   "source": [
    "# 데이터프레임 확인\n",
    "print(prob_d2_1)"
   ]
  },
  {
   "cell_type": "code",
   "execution_count": 24,
   "id": "05b5e2a2-6f36-434b-a3f6-24c30ee48a5f",
   "metadata": {
    "vscode": {
     "languageId": "r"
    }
   },
   "outputs": [
    {
     "data": {
      "text/html": [
       "27"
      ],
      "text/latex": [
       "27"
      ],
      "text/markdown": [
       "27"
      ],
      "text/plain": [
       "[1] 27"
      ]
     },
     "metadata": {},
     "output_type": "display_data"
    }
   ],
   "source": [
    "# 결과로 생긴 두자리 수의 총 개수\n",
    "length(prob_d2_1$result1)"
   ]
  },
  {
   "cell_type": "code",
   "execution_count": 25,
   "id": "e0797685-9b92-4d5f-bf5e-18c4e1c8f12a",
   "metadata": {
    "vscode": {
     "languageId": "r"
    }
   },
   "outputs": [
    {
     "data": {
      "text/html": [
       "1"
      ],
      "text/latex": [
       "1"
      ],
      "text/markdown": [
       "1"
      ],
      "text/plain": [
       "[1] 1"
      ]
     },
     "metadata": {},
     "output_type": "display_data"
    }
   ],
   "source": [
    "# 확률의 합 = 1 확인\n",
    "sum(prob_d2_1$probability)"
   ]
  },
  {
   "cell_type": "code",
   "execution_count": 26,
   "id": "870e0be3-0b64-456e-8982-bca1e50a1026",
   "metadata": {
    "vscode": {
     "languageId": "r"
    }
   },
   "outputs": [
    {
     "data": {
      "text/plain": [
       "\n",
       "0.0277777777777778 0.0555555555555556 \n",
       "                18                  9 "
      ]
     },
     "metadata": {},
     "output_type": "display_data"
    }
   ],
   "source": [
    "# 확률별 빈도수 확인\n",
    "table(prob_d2_1$probability)"
   ]
  },
  {
   "cell_type": "code",
   "execution_count": 27,
   "id": "e79c46ca-066a-45ab-9c2d-633be62ba8b3",
   "metadata": {
    "vscode": {
     "languageId": "r"
    }
   },
   "outputs": [
    {
     "data": {
      "image/png": "[encoded data removed]",
      "text/plain": [
       "plot without title"
      ]
     },
     "metadata": {
      "image/png": {
       "height": 420,
       "width": 420
      }
     },
     "output_type": "display_data"
    }
   ],
   "source": [
    "# 확률 분포 그래프 그리기 (확률값 표시 포함)\n",
    "ggplot(prob_d2_1, aes(x = factor(result1), y = probability)) +\n",
    "  geom_bar(stat = \"identity\", fill = \"blue\", alpha = 0.7) +\n",
    "  geom_text(aes(label = sprintf(\"%.3f\", probability)), vjust = -0.3, size = 2) + # 확률값 표시 (소수점 3자리)\n",
    "  labs(title = \"Two-digit Number Probability Distribution (Strategy 1)\",\n",
    "       x = \"Result\",\n",
    "       y = \"Probability\") +\n",
    "  theme_minimal()"
   ]
  },
  {
   "cell_type": "markdown",
   "id": "cb6379c6-2efe-4f3d-a188-5270a71d98d2",
   "metadata": {},
   "source": [
    "### 전략 2"
   ]
  },
  {
   "cell_type": "code",
   "execution_count": 28,
   "id": "4dc6db72-d687-4c05-95f6-0442f90fdb16",
   "metadata": {
    "vscode": {
     "languageId": "r"
    }
   },
   "outputs": [],
   "source": [
    "# 두 자리 숫자(result2) 계산\n",
    "d2 <- d2 %>%\n",
    "  mutate(result2 = ifelse(dice1 <= 4, dice1 + dice2 * 10, dice1 * 10 + dice2))"
   ]
  },
  {
   "cell_type": "code",
   "execution_count": 29,
   "id": "4d42bcd7-b9e2-4eaf-af73-bf876b80478b",
   "metadata": {
    "vscode": {
     "languageId": "r"
    }
   },
   "outputs": [],
   "source": [
    "# 각 result2이 나올 확률 계산 (각 조합은 1/36 확률)\n",
    "prob_d2_2 <- d2 %>%\n",
    "  group_by(result2) %>%\n",
    "  summarise(probability = n() / 36)"
   ]
  },
  {
   "cell_type": "code",
   "execution_count": 30,
   "id": "e92e52bb-1ada-4fbb-9789-120bfce870db",
   "metadata": {
    "vscode": {
     "languageId": "r"
    }
   },
   "outputs": [
    {
     "name": "stdout",
     "output_type": "stream",
     "text": [
      "\u001b[90m# A tibble: 28 × 2\u001b[39m\n",
      "   result2 probability\n",
      "     \u001b[3m\u001b[90m<dbl>\u001b[39m\u001b[23m       \u001b[3m\u001b[90m<dbl>\u001b[39m\u001b[23m\n",
      "\u001b[90m 1\u001b[39m      11      0.027\u001b[4m8\u001b[24m\n",
      "\u001b[90m 2\u001b[39m      12      0.027\u001b[4m8\u001b[24m\n",
      "\u001b[90m 3\u001b[39m      13      0.027\u001b[4m8\u001b[24m\n",
      "\u001b[90m 4\u001b[39m      14      0.027\u001b[4m8\u001b[24m\n",
      "\u001b[90m 5\u001b[39m      21      0.027\u001b[4m8\u001b[24m\n",
      "\u001b[90m 6\u001b[39m      22      0.027\u001b[4m8\u001b[24m\n",
      "\u001b[90m 7\u001b[39m      23      0.027\u001b[4m8\u001b[24m\n",
      "\u001b[90m 8\u001b[39m      24      0.027\u001b[4m8\u001b[24m\n",
      "\u001b[90m 9\u001b[39m      31      0.027\u001b[4m8\u001b[24m\n",
      "\u001b[90m10\u001b[39m      32      0.027\u001b[4m8\u001b[24m\n",
      "\u001b[90m# ℹ 18 more rows\u001b[39m\n"
     ]
    }
   ],
   "source": [
    "# 데이터프레임 확인\n",
    "print(prob_d2_2)"
   ]
  },
  {
   "cell_type": "code",
   "execution_count": 31,
   "id": "356e6e9f-e80d-4c10-b2ed-b3808a118b8c",
   "metadata": {
    "vscode": {
     "languageId": "r"
    }
   },
   "outputs": [
    {
     "data": {
      "text/html": [
       "28"
      ],
      "text/latex": [
       "28"
      ],
      "text/markdown": [
       "28"
      ],
      "text/plain": [
       "[1] 28"
      ]
     },
     "metadata": {},
     "output_type": "display_data"
    }
   ],
   "source": [
    "# 결과로 생긴 두자리 수의 총 개수\n",
    "length(prob_d2_2$result2)"
   ]
  },
  {
   "cell_type": "code",
   "execution_count": 32,
   "id": "9142c81f-2b16-42ab-b97d-f885f2d00b18",
   "metadata": {
    "vscode": {
     "languageId": "r"
    }
   },
   "outputs": [
    {
     "data": {
      "text/html": [
       "1"
      ],
      "text/latex": [
       "1"
      ],
      "text/markdown": [
       "1"
      ],
      "text/plain": [
       "[1] 1"
      ]
     },
     "metadata": {},
     "output_type": "display_data"
    }
   ],
   "source": [
    "# 확률의 합 = 1 확인\n",
    "sum(prob_d2_2$probability)"
   ]
  },
  {
   "cell_type": "code",
   "execution_count": 33,
   "id": "1590ce7d-ad47-46d5-9bb8-a578d1c7b982",
   "metadata": {
    "vscode": {
     "languageId": "r"
    }
   },
   "outputs": [
    {
     "data": {
      "text/plain": [
       "\n",
       "0.0277777777777778 0.0555555555555556 \n",
       "                20                  8 "
      ]
     },
     "metadata": {},
     "output_type": "display_data"
    }
   ],
   "source": [
    "# 확률별 빈도수 확인\n",
    "table(prob_d2_2$probability)"
   ]
  },
  {
   "cell_type": "code",
   "execution_count": 34,
   "id": "8b86d764-cab4-4a0a-913f-eb44cb1f1d97",
   "metadata": {
    "vscode": {
     "languageId": "r"
    }
   },
   "outputs": [
    {
     "data": {
      "image/png": "[encoded data removed]",
      "text/plain": [
       "plot without title"
      ]
     },
     "metadata": {
      "image/png": {
       "height": 420,
       "width": 420
      }
     },
     "output_type": "display_data"
    }
   ],
   "source": [
    "# 확률 분포 그래프 그리기 (확률값 표시 포함)\n",
    "ggplot(prob_d2_2, aes(x = factor(result2), y = probability)) +\n",
    "  geom_bar(stat = \"identity\", fill = \"blue\", alpha = 0.7) +\n",
    "  geom_text(aes(label = sprintf(\"%.3f\", probability)), vjust = -0.3, size = 2) + # 확률값 표시 (소수점 3자리)\n",
    "  labs(title = \"Two-digit Number Probability Distribution (Strategy 2)\",\n",
    "       x = \"Result\",\n",
    "       y = \"Probability\") +\n",
    "  theme_minimal()"
   ]
  },
  {
   "cell_type": "markdown",
   "id": "92589d85-8ec0-45d9-a45c-bfedce72cf8b",
   "metadata": {},
   "source": [
    "### 전략 3"
   ]
  },
  {
   "cell_type": "code",
   "execution_count": 35,
   "id": "db2408d6-85a2-4490-a33e-2e6fe5898d90",
   "metadata": {
    "vscode": {
     "languageId": "r"
    }
   },
   "outputs": [],
   "source": [
    "# 두 자리 숫자(result3) 계산\n",
    "d2 <- d2 %>%\n",
    "  mutate(result3 = ifelse(dice1 <= 2, dice1 + dice2 * 10, dice1 * 10 + dice2))"
   ]
  },
  {
   "cell_type": "code",
   "execution_count": 36,
   "id": "58f4d496-9ead-4ead-a376-a62521fe879c",
   "metadata": {
    "vscode": {
     "languageId": "r"
    }
   },
   "outputs": [],
   "source": [
    "# 각 result3이 나올 확률 계산 (각 조합은 1/36 확률)\n",
    "prob_d2_3 <- d2 %>%\n",
    "  group_by(result3) %>%\n",
    "  summarise(probability = n() / 36)"
   ]
  },
  {
   "cell_type": "code",
   "execution_count": 37,
   "id": "bbf8d546-000c-49b4-b292-c251f8114d4e",
   "metadata": {
    "vscode": {
     "languageId": "r"
    }
   },
   "outputs": [
    {
     "name": "stdout",
     "output_type": "stream",
     "text": [
      "\u001b[90m# A tibble: 28 × 2\u001b[39m\n",
      "   result3 probability\n",
      "     \u001b[3m\u001b[90m<dbl>\u001b[39m\u001b[23m       \u001b[3m\u001b[90m<dbl>\u001b[39m\u001b[23m\n",
      "\u001b[90m 1\u001b[39m      11      0.027\u001b[4m8\u001b[24m\n",
      "\u001b[90m 2\u001b[39m      12      0.027\u001b[4m8\u001b[24m\n",
      "\u001b[90m 3\u001b[39m      21      0.027\u001b[4m8\u001b[24m\n",
      "\u001b[90m 4\u001b[39m      22      0.027\u001b[4m8\u001b[24m\n",
      "\u001b[90m 5\u001b[39m      31      0.055\u001b[4m6\u001b[24m\n",
      "\u001b[90m 6\u001b[39m      32      0.055\u001b[4m6\u001b[24m\n",
      "\u001b[90m 7\u001b[39m      33      0.027\u001b[4m8\u001b[24m\n",
      "\u001b[90m 8\u001b[39m      34      0.027\u001b[4m8\u001b[24m\n",
      "\u001b[90m 9\u001b[39m      35      0.027\u001b[4m8\u001b[24m\n",
      "\u001b[90m10\u001b[39m      36      0.027\u001b[4m8\u001b[24m\n",
      "\u001b[90m# ℹ 18 more rows\u001b[39m\n"
     ]
    }
   ],
   "source": [
    "# 데이터프레임 확인\n",
    "print(prob_d2_3)"
   ]
  },
  {
   "cell_type": "code",
   "execution_count": 38,
   "id": "9fdbc24b-4be3-4d35-a4f8-e22a921871ca",
   "metadata": {
    "vscode": {
     "languageId": "r"
    }
   },
   "outputs": [
    {
     "data": {
      "text/html": [
       "28"
      ],
      "text/latex": [
       "28"
      ],
      "text/markdown": [
       "28"
      ],
      "text/plain": [
       "[1] 28"
      ]
     },
     "metadata": {},
     "output_type": "display_data"
    }
   ],
   "source": [
    "# 결과로 생긴 두자리 수의 총 개수\n",
    "length(prob_d2_3$result3)"
   ]
  },
  {
   "cell_type": "code",
   "execution_count": 39,
   "id": "db516304-c0df-4bc5-b009-6389b99601bf",
   "metadata": {
    "vscode": {
     "languageId": "r"
    }
   },
   "outputs": [
    {
     "data": {
      "text/html": [
       "1"
      ],
      "text/latex": [
       "1"
      ],
      "text/markdown": [
       "1"
      ],
      "text/plain": [
       "[1] 1"
      ]
     },
     "metadata": {},
     "output_type": "display_data"
    }
   ],
   "source": [
    "# 확률의 합 = 1 확인\n",
    "sum(prob_d2_3$probability)"
   ]
  },
  {
   "cell_type": "code",
   "execution_count": 40,
   "id": "6da6bacd-38ec-44fd-8f22-2bdba5122aae",
   "metadata": {
    "vscode": {
     "languageId": "r"
    }
   },
   "outputs": [
    {
     "data": {
      "text/plain": [
       "\n",
       "0.0277777777777778 0.0555555555555556 \n",
       "                20                  8 "
      ]
     },
     "metadata": {},
     "output_type": "display_data"
    }
   ],
   "source": [
    "# 확률별 빈도수 확인\n",
    "table(prob_d2_3$probability)"
   ]
  },
  {
   "cell_type": "code",
   "execution_count": 41,
   "id": "cadfb586-6c87-4ca5-9c24-f53d1e6146e3",
   "metadata": {
    "vscode": {
     "languageId": "r"
    }
   },
   "outputs": [
    {
     "data": {
      "image/png": "[encoded data removed]",
      "text/plain": [
       "plot without title"
      ]
     },
     "metadata": {
      "image/png": {
       "height": 420,
       "width": 420
      }
     },
     "output_type": "display_data"
    }
   ],
   "source": [
    "# 확률 분포 그래프 그리기 (확률값 표시 포함)\n",
    "ggplot(prob_d2_3, aes(x = factor(result3), y = probability)) +\n",
    "  geom_bar(stat = \"identity\", fill = \"blue\", alpha = 0.7) +\n",
    "  geom_text(aes(label = sprintf(\"%.3f\", probability)), vjust = -0.3, size = 2) + # 확률값 표시 (소수점 3자리)\n",
    "  labs(title = \"Two-digit Number Probability Distribution (Strategy 3)\",\n",
    "       x = \"Result\",\n",
    "       y = \"Probability\") +\n",
    "  theme_minimal()"
   ]
  },
  {
   "cell_type": "markdown",
   "id": "df3b632a-dede-4ab1-93dc-9348c1861383",
   "metadata": {},
   "source": [
    "### 결론"
   ]
  },
  {
   "cell_type": "markdown",
   "id": "d97d1dc8-9924-4bcb-9173-f07843401d2d",
   "metadata": {},
   "source": [
    "- 각 전략 별로 확률 분포가 다르게 나옴\n",
    "- 확률 분포만 보면 높은 숫자의 확률이 높은 전략 2가 좋아보이기도 함"
   ]
  },
  {
   "cell_type": "markdown",
   "id": "e41de6e8-2585-43f1-858c-4b072ac6c8dd",
   "metadata": {},
   "source": [
    "## 3."
   ]
  },
  {
   "cell_type": "markdown",
   "id": "990eb115-de3c-4be2-9a2f-68a6ebe9b476",
   "metadata": {},
   "source": [
    "최선의 전략에서 기대 점수"
   ]
  },
  {
   "cell_type": "markdown",
   "id": "d9bc29c1-6220-46c7-a413-50887af510cc",
   "metadata": {},
   "source": [
    "### 전략 1"
   ]
  },
  {
   "cell_type": "code",
   "execution_count": 42,
   "id": "94aadcea-3fa9-451c-a958-431d24da5838",
   "metadata": {
    "vscode": {
     "languageId": "r"
    }
   },
   "outputs": [
    {
     "data": {
      "text/html": [
       "45.25"
      ],
      "text/latex": [
       "45.25"
      ],
      "text/markdown": [
       "45.25"
      ],
      "text/plain": [
       "[1] 45.25"
      ]
     },
     "metadata": {},
     "output_type": "display_data"
    }
   ],
   "source": [
    "sum(prob_d2_1$result1 * prob_d2_1$probability)"
   ]
  },
  {
   "cell_type": "markdown",
   "id": "b010e529-3425-45d1-a477-a61c1628819f",
   "metadata": {},
   "source": [
    "### 전략 2"
   ]
  },
  {
   "cell_type": "code",
   "execution_count": 43,
   "id": "87d279d0-3d0c-4bcc-a176-b899a7e0d0bf",
   "metadata": {
    "vscode": {
     "languageId": "r"
    }
   },
   "outputs": [
    {
     "data": {
      "text/html": [
       "44.5"
      ],
      "text/latex": [
       "44.5"
      ],
      "text/markdown": [
       "44.5"
      ],
      "text/plain": [
       "[1] 44.5"
      ]
     },
     "metadata": {},
     "output_type": "display_data"
    }
   ],
   "source": [
    "sum(prob_d2_2$result2 * prob_d2_2$probability)"
   ]
  },
  {
   "cell_type": "markdown",
   "id": "e501917b-ebba-4c98-89f4-76fdda6a355c",
   "metadata": {},
   "source": [
    "### 전략 3"
   ]
  },
  {
   "cell_type": "code",
   "execution_count": 44,
   "id": "dd5b3586-5e03-49d3-a470-52f48d695961",
   "metadata": {
    "vscode": {
     "languageId": "r"
    }
   },
   "outputs": [
    {
     "data": {
      "text/html": [
       "44.5"
      ],
      "text/latex": [
       "44.5"
      ],
      "text/markdown": [
       "44.5"
      ],
      "text/plain": [
       "[1] 44.5"
      ]
     },
     "metadata": {},
     "output_type": "display_data"
    }
   ],
   "source": [
    "sum(prob_d2_3$result3 * prob_d2_3$probability)"
   ]
  },
  {
   "cell_type": "markdown",
   "id": "16f3397b-4a5e-43f3-95c4-6ff396bdab58",
   "metadata": {},
   "source": [
    "### 결론"
   ]
  },
  {
   "cell_type": "markdown",
   "id": "429f58c7-10cb-4f42-9489-0785cd2ab24c",
   "metadata": {},
   "source": [
    "- 전략 1의 기대 점수가 제일 높으므로 전략 1,2,3 중 최선의 전략은 전략 1이라고 할 수 있음\n",
    "- 전략 2와 전략 3의 기대 점수는 동일함"
   ]
  },
  {
   "cell_type": "markdown",
   "id": "c395feec-6d45-450d-9a38-52c8a766aeca",
   "metadata": {},
   "source": [
    "## 이론적 증명"
   ]
  },
  {
   "cell_type": "markdown",
   "id": "83621c8c-7e7e-492d-a6d3-3baed8b5abf3",
   "metadata": {},
   "source": [
    "공정한 주사위를 1개 던져서 나오는 결과를 $k$라고 할 때\n",
    "\n",
    "$$P(X = k) = \\frac{1}{6}, \\quad k \\in \\{1, 2, 3, 4, 5, 6\\}$$\n",
    "\n",
    "$$E[X] = \\frac{1 + 2 + 3 + 4 + 5 + 6}{6} = \\frac{21}{6} = 3.5$$\n"
   ]
  },
  {
   "cell_type": "markdown",
   "id": "a9407866-6a1b-4bbf-9ae9-a253d4838569",
   "metadata": {},
   "source": [
    "첫 번째 주사위를 던져서 나온 결과를 $d$ , 이후에 던질 두 번째 주사위의 결과를 $Y$라고 할 때"
   ]
  },
  {
   "cell_type": "markdown",
   "id": "361b8077-e8e3-497d-931f-534603c7cc4b",
   "metadata": {},
   "source": [
    "- $d$를 10의 자리에 둘 경우"
   ]
  },
  {
   "cell_type": "markdown",
   "id": "18dcd69c-5399-4ac8-9e49-93150fffd55e",
   "metadata": {},
   "source": [
    "$$E[10d + Y] = 10d + E[Y] = 10d + 3.5$$"
   ]
  },
  {
   "cell_type": "markdown",
   "id": "2c5f8256-62d6-4946-9d2b-9cfbd27972a4",
   "metadata": {},
   "source": [
    "- $d$를 1의 자리에 둘 경우"
   ]
  },
  {
   "cell_type": "markdown",
   "id": "a71addcf-b772-4fc7-9621-123a0375f912",
   "metadata": {},
   "source": [
    "$$E[10Y + d] = 10E[Y] + d = 10*3.5 + d = 35 + d$$"
   ]
  },
  {
   "cell_type": "markdown",
   "id": "78a45180-a582-4b07-bf8f-404f038d95f2",
   "metadata": {},
   "source": [
    "$d$를 어느 자리에 두는 것이 유리한지 비교해보기 위해 두 경우 기대값의 차를 구하면"
   ]
  },
  {
   "cell_type": "markdown",
   "id": "58cb9958-83c3-4b23-8a03-39a471c7869a",
   "metadata": {},
   "source": [
    "$$E[10d + Y] - E[10Y + d] = (10d + 3.5) - (35 + d) = 9d - 31.5$$"
   ]
  },
  {
   "cell_type": "markdown",
   "id": "279ba59d-6aee-471b-a0b2-8a7d9d7f42a7",
   "metadata": {},
   "source": [
    "이 차가 양수이면 10의 자리에 d를 넣는 것이 유리하고 음수이면 1의 자리에 d를 넣는 것이 유리함 [기대값이 큼]"
   ]
  },
  {
   "cell_type": "markdown",
   "id": "e6aa847c-87b4-4555-924b-04b360664465",
   "metadata": {},
   "source": [
    "- 차가 양수일 때 $d \\in \\{4, 5, 6\\}$\n",
    "- 차가 음수일 때 $d \\in \\{1, 2, 3\\}$"
   ]
  },
  {
   "cell_type": "markdown",
   "id": "6966cae5-4780-41a4-9690-74218adc4734",
   "metadata": {},
   "source": [
    "- 전략 2의 경우 $d = 4$일 때, 잘못된 선택을 하게 되어 기대값이 낮아짐\n",
    "- 전략 3의 경우 $d = 3$일 때, 잘못된 선택을 하게 되어 기대값이 낮아짐"
   ]
  },
  {
   "cell_type": "markdown",
   "id": "ccae05f9-bf74-4c64-a317-d8f97f8caad1",
   "metadata": {},
   "source": [
    "# 과제 1.2"
   ]
  },
  {
   "cell_type": "markdown",
   "id": "4bd7dcc4-29b0-4082-b421-93495d250008",
   "metadata": {},
   "source": [
    "주사위 3개를 굴려서 나온 눈의 수를 사용해서 세자리 숫자를 가장 크게 만드는 사람이 이기는 게임이다.\n",
    "주사위를 처음 굴려서 나온 눈의 수를 세자리 숫자에서 어느 곳에 사용할 지 먼저 결정한다. 그런 다음 두 번째로 굴린 주사위에서 나온 눈의 수는 남은 두자리의 숫자 중 하나로 결정한다. 세 번째 나온 주사위 눈수는 자동으로 남은 숫자로 사용된다.\n",
    "\n",
    "예를 들어, 첫 번째 주사위가 3인데 10의 자리로 결정했고, 두 번째 6이 나와 100의 자리 숫자에 사용하고, 세 번째 주사위 눈수가 1이면 결과는 631이 된다. \n",
    "\n",
    "어떤 전략이 최선의 전략인가?"
   ]
  },
  {
   "cell_type": "markdown",
   "id": "bbf02fe5-f02d-4107-813e-7c3b0075739b",
   "metadata": {},
   "source": [
    "## 1."
   ]
  },
  {
   "cell_type": "markdown",
   "id": "6af18cae-2494-4f6a-85ea-7cc2d8427bf7",
   "metadata": {},
   "source": [
    "최선이라고 선택한 전략의 \"three_dice.csv\" 파일 총점수 및 평균"
   ]
  },
  {
   "cell_type": "code",
   "execution_count": 46,
   "id": "01d0d619-f555-473e-902c-9c6558a13721",
   "metadata": {
    "vscode": {
     "languageId": "r"
    }
   },
   "outputs": [],
   "source": [
    "# data 불러오기\n",
    "three_dice <- read.csv(\"https://raw.githubusercontent.com/sw1kwon/Capstone1/refs/heads/main/three_dice.csv\", header=TRUE)"
   ]
  },
  {
   "cell_type": "code",
   "execution_count": 53,
   "id": "69742243-e798-45ec-8d6d-af116d5e2f2a",
   "metadata": {
    "vscode": {
     "languageId": "r"
    }
   },
   "outputs": [
    {
     "data": {
      "text/html": [
       "<table class=\"dataframe\">\n",
       "<caption>A data.frame: 6 × 3</caption>\n",
       "<thead>\n",
       "\t<tr><th></th><th scope=col>dice1</th><th scope=col>dice2</th><th scope=col>dice3</th></tr>\n",
       "\t<tr><th></th><th scope=col>&lt;int&gt;</th><th scope=col>&lt;int&gt;</th><th scope=col>&lt;int&gt;</th></tr>\n",
       "</thead>\n",
       "<tbody>\n",
       "\t<tr><th scope=row>1</th><td>5</td><td>2</td><td>4</td></tr>\n",
       "\t<tr><th scope=row>2</th><td>4</td><td>2</td><td>3</td></tr>\n",
       "\t<tr><th scope=row>3</th><td>4</td><td>2</td><td>5</td></tr>\n",
       "\t<tr><th scope=row>4</th><td>2</td><td>5</td><td>4</td></tr>\n",
       "\t<tr><th scope=row>5</th><td>5</td><td>5</td><td>5</td></tr>\n",
       "\t<tr><th scope=row>6</th><td>1</td><td>1</td><td>6</td></tr>\n",
       "</tbody>\n",
       "</table>\n"
      ],
      "text/latex": [
       "A data.frame: 6 × 3\n",
       "\\begin{tabular}{r|lll}\n",
       "  & dice1 & dice2 & dice3\\\\\n",
       "  & <int> & <int> & <int>\\\\\n",
       "\\hline\n",
       "\t1 & 5 & 2 & 4\\\\\n",
       "\t2 & 4 & 2 & 3\\\\\n",
       "\t3 & 4 & 2 & 5\\\\\n",
       "\t4 & 2 & 5 & 4\\\\\n",
       "\t5 & 5 & 5 & 5\\\\\n",
       "\t6 & 1 & 1 & 6\\\\\n",
       "\\end{tabular}\n"
      ],
      "text/markdown": [
       "\n",
       "A data.frame: 6 × 3\n",
       "\n",
       "| <!--/--> | dice1 &lt;int&gt; | dice2 &lt;int&gt; | dice3 &lt;int&gt; |\n",
       "|---|---|---|---|\n",
       "| 1 | 5 | 2 | 4 |\n",
       "| 2 | 4 | 2 | 3 |\n",
       "| 3 | 4 | 2 | 5 |\n",
       "| 4 | 2 | 5 | 4 |\n",
       "| 5 | 5 | 5 | 5 |\n",
       "| 6 | 1 | 1 | 6 |\n",
       "\n"
      ],
      "text/plain": [
       "  dice1 dice2 dice3\n",
       "1 5     2     4    \n",
       "2 4     2     3    \n",
       "3 4     2     5    \n",
       "4 2     5     4    \n",
       "5 5     5     5    \n",
       "6 1     1     6    "
      ]
     },
     "metadata": {},
     "output_type": "display_data"
    }
   ],
   "source": [
    "head(three_dice) # data 형태"
   ]
  },
  {
   "cell_type": "code",
   "execution_count": 54,
   "id": "5e7c3b62-b55e-4d17-83b7-0681c594e57f",
   "metadata": {
    "vscode": {
     "languageId": "r"
    }
   },
   "outputs": [
    {
     "data": {
      "text/html": [
       "1000000"
      ],
      "text/latex": [
       "1000000"
      ],
      "text/markdown": [
       "1000000"
      ],
      "text/plain": [
       "[1] 1000000"
      ]
     },
     "metadata": {},
     "output_type": "display_data"
    }
   ],
   "source": [
    "nrow(three_dice) # data 길이"
   ]
  },
  {
   "cell_type": "markdown",
   "id": "57946e55-7402-4e7c-b066-cd4a8a890a39",
   "metadata": {},
   "source": [
    "- 전략 1: 문제를 보자마자 떠오른 전략\n",
    "  - 첫 번째 주사위가 1,2 면 1의 자리, 3,4 이면 10의 자리, 5,6 이면 100의 자리에 배치\n",
    "  - 두 번째 주사위는 3 이하일 때 둘 중 낮은 자리, 4 이상일 때 둘 중 높은 자리에 배치\n",
    "  - 이유: 주사위 눈이 총 6개이고 주사위를 총 3번 던지므로 1에서 6까지 3등분하면 괜찮을 것 같음"
   ]
  },
  {
   "cell_type": "markdown",
   "id": "0da6094f-a787-4f8a-9ad6-73901941f3bf",
   "metadata": {},
   "source": [
    "- 전략 2\n",
    "  - 첫 번째 주사위가 3 이하면 1의 자리, 4 이상이면 100의 자리에 배치\n",
    "  - 첫 번째 주사위가 3 이하일 때\n",
    "    - 두 번째 주사위가 3 이하이면 10의 자리, 4 이상이면 100의 자리\n",
    "  - 첫 번째 주사위가 4 이상일 때\n",
    "    - 두 번재 주사위가 3 이하이면 1의 자리, 4 이상이면 10의 자리"
   ]
  },
  {
   "cell_type": "markdown",
   "id": "3a61cbd1-cbae-4698-88fd-2da74e31e230",
   "metadata": {},
   "source": [
    "- 전략 3\n",
    "  - 첫 번째 주사위가 3 이하면 1의 자리, 4 이상이면 10의 자리에 배치\n",
    "  - 첫 번째 주사위가 3 이하일 때\n",
    "    - 두 번째 주사위가 3 이하이면 10의 자리, 4 이상이면 100의 자리\n",
    "  - 첫 번째 주사위가 4 이상일 때\n",
    "    - 두 번재 주사위가 3 이하이면 1의 자리, 4 이상이면 100의 자리"
   ]
  },
  {
   "cell_type": "markdown",
   "id": "d517f245-65d0-4d8b-9d32-971ab733767c",
   "metadata": {},
   "source": [
    "### 전략 1"
   ]
  },
  {
   "cell_type": "code",
   "execution_count": 55,
   "id": "7e733ae0-b251-447f-a09d-ea2816918e4b",
   "metadata": {
    "vscode": {
     "languageId": "r"
    }
   },
   "outputs": [],
   "source": [
    "three_dice$result1 <- ifelse(three_dice$dice1 %in% c(1,2),\n",
    "                   # 첫 번째 주사위가 1 또는 2 → dice1는 1의 자리, 남은 자리는 tens와 hundreds\n",
    "                   ifelse(three_dice$dice2 <= 3,\n",
    "                          # 두 번째 주사위가 3 이하 → 낮은 자리: tens, 남은 높은 자리: hundreds\n",
    "                          three_dice$dice3 * 100 + three_dice$dice2 * 10 + three_dice$dice1,\n",
    "                          # 두 번째 주사위가 4 이상 → 높은 자리: hundreds, 남은 낮은 자리: tens\n",
    "                          three_dice$dice2 * 100 + three_dice$dice3 * 10 + three_dice$dice1),\n",
    "                   ifelse(three_dice$dice1 %in% c(3,4),\n",
    "                          # 첫 번째 주사위가 3 또는 4 → dice1는 10의 자리, 남은 자리는 hundreds와 ones\n",
    "                          ifelse(three_dice$dice2 <= 3,\n",
    "                                 # 두 번째 주사위가 3 이하 → 낮은 자리: ones, 남은 높은 자리: hundreds\n",
    "                                 three_dice$dice3 * 100 + three_dice$dice1 * 10 + three_dice$dice2,\n",
    "                                 # 두 번째 주사위가 4 이상 → 높은 자리: hundreds, 남은 낮은 자리: ones\n",
    "                                 three_dice$dice2 * 100 + three_dice$dice1 * 10 + three_dice$dice3),\n",
    "                          # 첫 번째 주사위가 5 또는 6 → dice1는 100의 자리, 남은 자리는 tens와 ones\n",
    "                          ifelse(three_dice$dice2 <= 3,\n",
    "                                 # 두 번째 주사위가 3 이하 → 낮은 자리: ones, 남은 높은 자리: tens\n",
    "                                 three_dice$dice1 * 100 + three_dice$dice3 * 10 + three_dice$dice2,\n",
    "                                 # 두 번째 주사위가 4 이상 → 높은 자리: tens, 남은 낮은 자리: ones\n",
    "                                 three_dice$dice1 * 100 + three_dice$dice2 * 10 + three_dice$dice3)))"
   ]
  },
  {
   "cell_type": "code",
   "execution_count": 56,
   "id": "cb7964df-8fcd-4259-be4b-28f9d5b0d97c",
   "metadata": {
    "vscode": {
     "languageId": "r"
    }
   },
   "outputs": [
    {
     "data": {
      "text/html": [
       "<table class=\"dataframe\">\n",
       "<caption>A data.frame: 6 × 4</caption>\n",
       "<thead>\n",
       "\t<tr><th></th><th scope=col>dice1</th><th scope=col>dice2</th><th scope=col>dice3</th><th scope=col>result1</th></tr>\n",
       "\t<tr><th></th><th scope=col>&lt;int&gt;</th><th scope=col>&lt;int&gt;</th><th scope=col>&lt;int&gt;</th><th scope=col>&lt;dbl&gt;</th></tr>\n",
       "</thead>\n",
       "<tbody>\n",
       "\t<tr><th scope=row>1</th><td>5</td><td>2</td><td>4</td><td>542</td></tr>\n",
       "\t<tr><th scope=row>2</th><td>4</td><td>2</td><td>3</td><td>342</td></tr>\n",
       "\t<tr><th scope=row>3</th><td>4</td><td>2</td><td>5</td><td>542</td></tr>\n",
       "\t<tr><th scope=row>4</th><td>2</td><td>5</td><td>4</td><td>542</td></tr>\n",
       "\t<tr><th scope=row>5</th><td>5</td><td>5</td><td>5</td><td>555</td></tr>\n",
       "\t<tr><th scope=row>6</th><td>1</td><td>1</td><td>6</td><td>611</td></tr>\n",
       "</tbody>\n",
       "</table>\n"
      ],
      "text/latex": [
       "A data.frame: 6 × 4\n",
       "\\begin{tabular}{r|llll}\n",
       "  & dice1 & dice2 & dice3 & result1\\\\\n",
       "  & <int> & <int> & <int> & <dbl>\\\\\n",
       "\\hline\n",
       "\t1 & 5 & 2 & 4 & 542\\\\\n",
       "\t2 & 4 & 2 & 3 & 342\\\\\n",
       "\t3 & 4 & 2 & 5 & 542\\\\\n",
       "\t4 & 2 & 5 & 4 & 542\\\\\n",
       "\t5 & 5 & 5 & 5 & 555\\\\\n",
       "\t6 & 1 & 1 & 6 & 611\\\\\n",
       "\\end{tabular}\n"
      ],
      "text/markdown": [
       "\n",
       "A data.frame: 6 × 4\n",
       "\n",
       "| <!--/--> | dice1 &lt;int&gt; | dice2 &lt;int&gt; | dice3 &lt;int&gt; | result1 &lt;dbl&gt; |\n",
       "|---|---|---|---|---|\n",
       "| 1 | 5 | 2 | 4 | 542 |\n",
       "| 2 | 4 | 2 | 3 | 342 |\n",
       "| 3 | 4 | 2 | 5 | 542 |\n",
       "| 4 | 2 | 5 | 4 | 542 |\n",
       "| 5 | 5 | 5 | 5 | 555 |\n",
       "| 6 | 1 | 1 | 6 | 611 |\n",
       "\n"
      ],
      "text/plain": [
       "  dice1 dice2 dice3 result1\n",
       "1 5     2     4     542    \n",
       "2 4     2     3     342    \n",
       "3 4     2     5     542    \n",
       "4 2     5     4     542    \n",
       "5 5     5     5     555    \n",
       "6 1     1     6     611    "
      ]
     },
     "metadata": {},
     "output_type": "display_data"
    }
   ],
   "source": [
    "# 결과 확인\n",
    "head(three_dice)"
   ]
  },
  {
   "cell_type": "code",
   "execution_count": 57,
   "id": "daa1bffb-e923-4083-b95c-ad7c96b780d0",
   "metadata": {
    "vscode": {
     "languageId": "r"
    }
   },
   "outputs": [
    {
     "data": {
      "text/html": [
       "503895228"
      ],
      "text/latex": [
       "503895228"
      ],
      "text/markdown": [
       "503895228"
      ],
      "text/plain": [
       "[1] 503895228"
      ]
     },
     "metadata": {},
     "output_type": "display_data"
    }
   ],
   "source": [
    "# 총점수\n",
    "sum(three_dice$result1)"
   ]
  },
  {
   "cell_type": "code",
   "execution_count": 58,
   "id": "f60245b1-8b10-4467-a0a7-0f52ee5e4568",
   "metadata": {
    "vscode": {
     "languageId": "r"
    }
   },
   "outputs": [
    {
     "data": {
      "text/html": [
       "503.895228"
      ],
      "text/latex": [
       "503.895228"
      ],
      "text/markdown": [
       "503.895228"
      ],
      "text/plain": [
       "[1] 503.8952"
      ]
     },
     "metadata": {},
     "output_type": "display_data"
    }
   ],
   "source": [
    "# 평균\n",
    "mean(three_dice$result1)"
   ]
  },
  {
   "cell_type": "markdown",
   "id": "6db6779b-33a2-4fcc-8be0-854197343149",
   "metadata": {},
   "source": [
    "### 전략 2"
   ]
  },
  {
   "cell_type": "code",
   "execution_count": 59,
   "id": "e96710d1-7c26-4340-844c-1ad51b1efa18",
   "metadata": {
    "vscode": {
     "languageId": "r"
    }
   },
   "outputs": [],
   "source": [
    "three_dice$result2 <- ifelse(\n",
    "  three_dice$dice1 <= 3,  # dice1이 3 이하면 일의 자리\n",
    "  ifelse(three_dice$dice2 <= 3,  # dice2가 3 이하면 십의 자리, 4 이상이면 백의 자리\n",
    "         three_dice$dice1 + three_dice$dice2 * 10 + three_dice$dice3 * 100,  # dice2가 십의 자리, dice3가 백의 자리\n",
    "         three_dice$dice1 + three_dice$dice3 * 10 + three_dice$dice2 * 100), # dice2가 백의 자리, dice3가 십의 자리\n",
    "  ifelse(three_dice$dice2 <= 3,  # dice1이 4 이상이면 백의 자리, dice2가 3 이하면 일의 자리\n",
    "         three_dice$dice2 + three_dice$dice3 * 10 + three_dice$dice1 * 100,  # dice2가 일의 자리, dice3가 십의 자리 \n",
    "         three_dice$dice3 + three_dice$dice2 * 10 + three_dice$dice1 * 100)  # dice2가 십의 자리, dice3가 일의 자리 \n",
    ")"
   ]
  },
  {
   "cell_type": "code",
   "execution_count": 60,
   "id": "19868ca5-97d2-4c51-8c91-f5862e968953",
   "metadata": {
    "vscode": {
     "languageId": "r"
    }
   },
   "outputs": [
    {
     "data": {
      "text/html": [
       "<table class=\"dataframe\">\n",
       "<caption>A data.frame: 6 × 5</caption>\n",
       "<thead>\n",
       "\t<tr><th></th><th scope=col>dice1</th><th scope=col>dice2</th><th scope=col>dice3</th><th scope=col>result1</th><th scope=col>result2</th></tr>\n",
       "\t<tr><th></th><th scope=col>&lt;int&gt;</th><th scope=col>&lt;int&gt;</th><th scope=col>&lt;int&gt;</th><th scope=col>&lt;dbl&gt;</th><th scope=col>&lt;dbl&gt;</th></tr>\n",
       "</thead>\n",
       "<tbody>\n",
       "\t<tr><th scope=row>1</th><td>5</td><td>2</td><td>4</td><td>542</td><td>542</td></tr>\n",
       "\t<tr><th scope=row>2</th><td>4</td><td>2</td><td>3</td><td>342</td><td>432</td></tr>\n",
       "\t<tr><th scope=row>3</th><td>4</td><td>2</td><td>5</td><td>542</td><td>452</td></tr>\n",
       "\t<tr><th scope=row>4</th><td>2</td><td>5</td><td>4</td><td>542</td><td>542</td></tr>\n",
       "\t<tr><th scope=row>5</th><td>5</td><td>5</td><td>5</td><td>555</td><td>555</td></tr>\n",
       "\t<tr><th scope=row>6</th><td>1</td><td>1</td><td>6</td><td>611</td><td>611</td></tr>\n",
       "</tbody>\n",
       "</table>\n"
      ],
      "text/latex": [
       "A data.frame: 6 × 5\n",
       "\\begin{tabular}{r|lllll}\n",
       "  & dice1 & dice2 & dice3 & result1 & result2\\\\\n",
       "  & <int> & <int> & <int> & <dbl> & <dbl>\\\\\n",
       "\\hline\n",
       "\t1 & 5 & 2 & 4 & 542 & 542\\\\\n",
       "\t2 & 4 & 2 & 3 & 342 & 432\\\\\n",
       "\t3 & 4 & 2 & 5 & 542 & 452\\\\\n",
       "\t4 & 2 & 5 & 4 & 542 & 542\\\\\n",
       "\t5 & 5 & 5 & 5 & 555 & 555\\\\\n",
       "\t6 & 1 & 1 & 6 & 611 & 611\\\\\n",
       "\\end{tabular}\n"
      ],
      "text/markdown": [
       "\n",
       "A data.frame: 6 × 5\n",
       "\n",
       "| <!--/--> | dice1 &lt;int&gt; | dice2 &lt;int&gt; | dice3 &lt;int&gt; | result1 &lt;dbl&gt; | result2 &lt;dbl&gt; |\n",
       "|---|---|---|---|---|---|\n",
       "| 1 | 5 | 2 | 4 | 542 | 542 |\n",
       "| 2 | 4 | 2 | 3 | 342 | 432 |\n",
       "| 3 | 4 | 2 | 5 | 542 | 452 |\n",
       "| 4 | 2 | 5 | 4 | 542 | 542 |\n",
       "| 5 | 5 | 5 | 5 | 555 | 555 |\n",
       "| 6 | 1 | 1 | 6 | 611 | 611 |\n",
       "\n"
      ],
      "text/plain": [
       "  dice1 dice2 dice3 result1 result2\n",
       "1 5     2     4     542     542    \n",
       "2 4     2     3     342     432    \n",
       "3 4     2     5     542     452    \n",
       "4 2     5     4     542     542    \n",
       "5 5     5     5     555     555    \n",
       "6 1     1     6     611     611    "
      ]
     },
     "metadata": {},
     "output_type": "display_data"
    }
   ],
   "source": [
    "# 결과 확인\n",
    "head(three_dice)"
   ]
  },
  {
   "cell_type": "code",
   "execution_count": 61,
   "id": "d1eef206-c369-44b6-bca2-c5c38ee88911",
   "metadata": {
    "vscode": {
     "languageId": "r"
    }
   },
   "outputs": [
    {
     "data": {
      "text/html": [
       "499792560"
      ],
      "text/latex": [
       "499792560"
      ],
      "text/markdown": [
       "499792560"
      ],
      "text/plain": [
       "[1] 499792560"
      ]
     },
     "metadata": {},
     "output_type": "display_data"
    }
   ],
   "source": [
    "# 총점수\n",
    "sum(three_dice$result2)"
   ]
  },
  {
   "cell_type": "code",
   "execution_count": 62,
   "id": "97c50c4c-f4a4-45c5-9456-56fd9df8bd35",
   "metadata": {
    "vscode": {
     "languageId": "r"
    }
   },
   "outputs": [
    {
     "data": {
      "text/html": [
       "499.79256"
      ],
      "text/latex": [
       "499.79256"
      ],
      "text/markdown": [
       "499.79256"
      ],
      "text/plain": [
       "[1] 499.7926"
      ]
     },
     "metadata": {},
     "output_type": "display_data"
    }
   ],
   "source": [
    "# 평균\n",
    "mean(three_dice$result2)"
   ]
  },
  {
   "cell_type": "markdown",
   "id": "2dd4dfc4-e731-49ee-9d93-4597905501f4",
   "metadata": {},
   "source": [
    "### 전략 3"
   ]
  },
  {
   "cell_type": "code",
   "execution_count": 63,
   "id": "c1155482-dcdc-4ebe-a14d-5e61c3f2a8a0",
   "metadata": {
    "vscode": {
     "languageId": "r"
    }
   },
   "outputs": [],
   "source": [
    "three_dice$result3 <- ifelse(\n",
    "  three_dice$dice1 <= 3,  # dice1이 3 이하면 일의 자리\n",
    "  ifelse(three_dice$dice2 <= 3,  # dice2가 3 이하면 십의 자리, 4 이상이면 백의 자리\n",
    "         three_dice$dice1 + three_dice$dice2 * 10 + three_dice$dice3 * 100,  # dice2가 십의 자리, dice3가 백의 자리\n",
    "         three_dice$dice1 + three_dice$dice3 * 10 + three_dice$dice2 * 100), # dice2가 백의 자리, dice3가 십의 자리\n",
    "  ifelse(three_dice$dice2 <= 3,  # dice1이 4 이상이면 십의 자리, dice2가 3 이하면 일의 자리\n",
    "         three_dice$dice2 + three_dice$dice1 * 10 + three_dice$dice3 * 100,  # dice2가 일의 자리, dice3가 백의 자리 \n",
    "         three_dice$dice3 + three_dice$dice1 * 10 + three_dice$dice2 * 100)  # dice2가 백의 자리, dice3가 일의 자리 \n",
    ")"
   ]
  },
  {
   "cell_type": "code",
   "execution_count": 64,
   "id": "980fe8a0-0ffc-49be-9954-ce75fdf35e11",
   "metadata": {
    "vscode": {
     "languageId": "r"
    }
   },
   "outputs": [
    {
     "data": {
      "text/html": [
       "<table class=\"dataframe\">\n",
       "<caption>A data.frame: 6 × 6</caption>\n",
       "<thead>\n",
       "\t<tr><th></th><th scope=col>dice1</th><th scope=col>dice2</th><th scope=col>dice3</th><th scope=col>result1</th><th scope=col>result2</th><th scope=col>result3</th></tr>\n",
       "\t<tr><th></th><th scope=col>&lt;int&gt;</th><th scope=col>&lt;int&gt;</th><th scope=col>&lt;int&gt;</th><th scope=col>&lt;dbl&gt;</th><th scope=col>&lt;dbl&gt;</th><th scope=col>&lt;dbl&gt;</th></tr>\n",
       "</thead>\n",
       "<tbody>\n",
       "\t<tr><th scope=row>1</th><td>5</td><td>2</td><td>4</td><td>542</td><td>542</td><td>452</td></tr>\n",
       "\t<tr><th scope=row>2</th><td>4</td><td>2</td><td>3</td><td>342</td><td>432</td><td>342</td></tr>\n",
       "\t<tr><th scope=row>3</th><td>4</td><td>2</td><td>5</td><td>542</td><td>452</td><td>542</td></tr>\n",
       "\t<tr><th scope=row>4</th><td>2</td><td>5</td><td>4</td><td>542</td><td>542</td><td>542</td></tr>\n",
       "\t<tr><th scope=row>5</th><td>5</td><td>5</td><td>5</td><td>555</td><td>555</td><td>555</td></tr>\n",
       "\t<tr><th scope=row>6</th><td>1</td><td>1</td><td>6</td><td>611</td><td>611</td><td>611</td></tr>\n",
       "</tbody>\n",
       "</table>\n"
      ],
      "text/latex": [
       "A data.frame: 6 × 6\n",
       "\\begin{tabular}{r|llllll}\n",
       "  & dice1 & dice2 & dice3 & result1 & result2 & result3\\\\\n",
       "  & <int> & <int> & <int> & <dbl> & <dbl> & <dbl>\\\\\n",
       "\\hline\n",
       "\t1 & 5 & 2 & 4 & 542 & 542 & 452\\\\\n",
       "\t2 & 4 & 2 & 3 & 342 & 432 & 342\\\\\n",
       "\t3 & 4 & 2 & 5 & 542 & 452 & 542\\\\\n",
       "\t4 & 2 & 5 & 4 & 542 & 542 & 542\\\\\n",
       "\t5 & 5 & 5 & 5 & 555 & 555 & 555\\\\\n",
       "\t6 & 1 & 1 & 6 & 611 & 611 & 611\\\\\n",
       "\\end{tabular}\n"
      ],
      "text/markdown": [
       "\n",
       "A data.frame: 6 × 6\n",
       "\n",
       "| <!--/--> | dice1 &lt;int&gt; | dice2 &lt;int&gt; | dice3 &lt;int&gt; | result1 &lt;dbl&gt; | result2 &lt;dbl&gt; | result3 &lt;dbl&gt; |\n",
       "|---|---|---|---|---|---|---|\n",
       "| 1 | 5 | 2 | 4 | 542 | 542 | 452 |\n",
       "| 2 | 4 | 2 | 3 | 342 | 432 | 342 |\n",
       "| 3 | 4 | 2 | 5 | 542 | 452 | 542 |\n",
       "| 4 | 2 | 5 | 4 | 542 | 542 | 542 |\n",
       "| 5 | 5 | 5 | 5 | 555 | 555 | 555 |\n",
       "| 6 | 1 | 1 | 6 | 611 | 611 | 611 |\n",
       "\n"
      ],
      "text/plain": [
       "  dice1 dice2 dice3 result1 result2 result3\n",
       "1 5     2     4     542     542     452    \n",
       "2 4     2     3     342     432     342    \n",
       "3 4     2     5     542     452     542    \n",
       "4 2     5     4     542     542     542    \n",
       "5 5     5     5     555     555     555    \n",
       "6 1     1     6     611     611     611    "
      ]
     },
     "metadata": {},
     "output_type": "display_data"
    }
   ],
   "source": [
    "# 결과 확인\n",
    "head(three_dice)"
   ]
  },
  {
   "cell_type": "code",
   "execution_count": 65,
   "id": "28519e82-1b7f-42f0-a104-54f75d4f5aa7",
   "metadata": {
    "vscode": {
     "languageId": "r"
    }
   },
   "outputs": [
    {
     "data": {
      "text/html": [
       "466002330"
      ],
      "text/latex": [
       "466002330"
      ],
      "text/markdown": [
       "466002330"
      ],
      "text/plain": [
       "[1] 466002330"
      ]
     },
     "metadata": {},
     "output_type": "display_data"
    }
   ],
   "source": [
    "# 총점수\n",
    "sum(three_dice$result3)"
   ]
  },
  {
   "cell_type": "code",
   "execution_count": 66,
   "id": "5ac76ff9-25b3-4cc8-bc65-c347c33ec9de",
   "metadata": {
    "vscode": {
     "languageId": "r"
    }
   },
   "outputs": [
    {
     "data": {
      "text/html": [
       "466.00233"
      ],
      "text/latex": [
       "466.00233"
      ],
      "text/markdown": [
       "466.00233"
      ],
      "text/plain": [
       "[1] 466.0023"
      ]
     },
     "metadata": {},
     "output_type": "display_data"
    }
   ],
   "source": [
    "# 평균\n",
    "mean(three_dice$result3)"
   ]
  },
  {
   "cell_type": "markdown",
   "id": "731ec7ed-88de-469f-85bf-30a6d43a801f",
   "metadata": {},
   "source": [
    "### 결론"
   ]
  },
  {
   "cell_type": "code",
   "execution_count": 67,
   "id": "73c5195d-a027-4b85-96de-f49b8905d5f5",
   "metadata": {
    "vscode": {
     "languageId": "r"
    }
   },
   "outputs": [
    {
     "data": {
      "text/html": [
       "<style>\n",
       ".dl-inline {width: auto; margin:0; padding: 0}\n",
       ".dl-inline>dt, .dl-inline>dd {float: none; width: auto; display: inline-block}\n",
       ".dl-inline>dt::after {content: \":\\0020\"; padding-right: .5ex}\n",
       ".dl-inline>dt:not(:first-of-type) {padding-left: .5ex}\n",
       "</style><dl class=dl-inline><dt>result1</dt><dd>503.895228</dd><dt>result2</dt><dd>499.79256</dd><dt>result3</dt><dd>466.00233</dd></dl>\n"
      ],
      "text/latex": [
       "\\begin{description*}\n",
       "\\item[result1] 503.895228\n",
       "\\item[result2] 499.79256\n",
       "\\item[result3] 466.00233\n",
       "\\end{description*}\n"
      ],
      "text/markdown": [
       "result1\n",
       ":   503.895228result2\n",
       ":   499.79256result3\n",
       ":   466.00233\n",
       "\n"
      ],
      "text/plain": [
       " result1  result2  result3 \n",
       "503.8952 499.7926 466.0023 "
      ]
     },
     "metadata": {},
     "output_type": "display_data"
    }
   ],
   "source": [
    "# 열 평균 계산 및 비교\n",
    "colMeans(three_dice[c(\"result1\", \"result2\", \"result3\")])"
   ]
  },
  {
   "cell_type": "markdown",
   "id": "93d61c78-03ad-4308-a97b-b0967b92c42c",
   "metadata": {},
   "source": [
    "- 전략 1의 평균이 제일 높아 가장 좋은 전략으로 생각은 되나 확실하지 않음\n",
    "- 전략 3의 평균은 다른 전략들에 비해 많이 떨어짐"
   ]
  },
  {
   "cell_type": "markdown",
   "id": "cb7bddde-7018-4746-b9fe-847c0e5ce2ad",
   "metadata": {},
   "source": [
    "## 2."
   ]
  },
  {
   "cell_type": "markdown",
   "id": "ccfb2011-1d65-4f5b-8861-8380ca94aafb",
   "metadata": {},
   "source": [
    "최선의 전략일 때 확률분포를 구하고 그래프로 그려라."
   ]
  },
  {
   "cell_type": "code",
   "execution_count": 18,
   "id": "d6e1bdfc-84cb-4965-9fb3-2fb70cb442fb",
   "metadata": {
    "vscode": {
     "languageId": "r"
    }
   },
   "outputs": [],
   "source": [
    "# 패키지 로드\n",
    "library(ggplot2)\n",
    "library(dplyr)"
   ]
  },
  {
   "cell_type": "markdown",
   "id": "742ba511-4172-47fc-b3f5-7b4230d76258",
   "metadata": {},
   "source": [
    "### 전략 1"
   ]
  },
  {
   "cell_type": "code",
   "execution_count": 68,
   "id": "15d45ac0-7062-4a8b-89ca-5c865da3b68b",
   "metadata": {
    "vscode": {
     "languageId": "r"
    }
   },
   "outputs": [],
   "source": [
    "# 모든 가능한 주사위 값 조합 (216개)\n",
    "d3 <- expand.grid(dice1 = 1:6, dice2 = 1:6, dice3 = 1:6)"
   ]
  },
  {
   "cell_type": "code",
   "execution_count": 70,
   "id": "2b39feb5-b6cd-4107-8afc-cff196707390",
   "metadata": {
    "vscode": {
     "languageId": "r"
    }
   },
   "outputs": [],
   "source": [
    "# 세 자리 숫자(result) 계산\n",
    "d3 <- d3 %>%\n",
    "  mutate(result1 = ifelse(d3$dice1 %in% c(1,2),\n",
    "                   # 첫 번째 주사위가 1 또는 2 → dice1는 1의 자리, 남은 자리는 tens와 hundreds\n",
    "                   ifelse(d3$dice2 <= 3,\n",
    "                          # 두 번째 주사위가 3 이하 → 낮은 자리: tens, 남은 높은 자리: hundreds\n",
    "                          d3$dice3 * 100 + d3$dice2 * 10 + d3$dice1,\n",
    "                          # 두 번째 주사위가 4 이상 → 높은 자리: hundreds, 남은 낮은 자리: tens\n",
    "                          d3$dice2 * 100 + d3$dice3 * 10 + d3$dice1),\n",
    "                   ifelse(d3$dice1 %in% c(3,4),\n",
    "                          # 첫 번째 주사위가 3 또는 4 → dice1는 10의 자리, 남은 자리는 hundreds와 ones\n",
    "                          ifelse(d3$dice2 <= 3,\n",
    "                                 # 두 번째 주사위가 3 이하 → 낮은 자리: ones, 남은 높은 자리: hundreds\n",
    "                                 d3$dice3 * 100 + d3$dice1 * 10 + d3$dice2,\n",
    "                                 # 두 번째 주사위가 4 이상 → 높은 자리: hundreds, 남은 낮은 자리: ones\n",
    "                                 d3$dice2 * 100 + d3$dice1 * 10 + d3$dice3),\n",
    "                          # 첫 번째 주사위가 5 또는 6 → dice1는 100의 자리, 남은 자리는 tens와 ones\n",
    "                          ifelse(d3$dice2 <= 3,\n",
    "                                 # 두 번째 주사위가 3 이하 → 낮은 자리: ones, 남은 높은 자리: tens\n",
    "                                 d3$dice1 * 100 + d3$dice3 * 10 + d3$dice2,\n",
    "                                 # 두 번째 주사위가 4 이상 → 높은 자리: tens, 남은 낮은 자리: ones\n",
    "                                 d3$dice1 * 100 + d3$dice2 * 10 + d3$dice3)))\n",
    "        )"
   ]
  },
  {
   "cell_type": "code",
   "execution_count": 71,
   "id": "43790f36-5988-4c41-8a87-447612c3c54e",
   "metadata": {
    "vscode": {
     "languageId": "r"
    }
   },
   "outputs": [],
   "source": [
    "# 각 result가 나올 확률 계산 (각 조합은 1/216 확률)\n",
    "prob_d3_1 <- d3 %>%\n",
    "  group_by(result1) %>%\n",
    "  summarise(probability = n() / 216)"
   ]
  },
  {
   "cell_type": "code",
   "execution_count": 72,
   "id": "6aef6277-9957-4853-b654-243245a49973",
   "metadata": {
    "vscode": {
     "languageId": "r"
    }
   },
   "outputs": [
    {
     "name": "stdout",
     "output_type": "stream",
     "text": [
      "\u001b[90m# A tibble: 110 × 2\u001b[39m\n",
      "   result1 probability\n",
      "     \u001b[3m\u001b[90m<dbl>\u001b[39m\u001b[23m       \u001b[3m\u001b[90m<dbl>\u001b[39m\u001b[23m\n",
      "\u001b[90m 1\u001b[39m     111     0.004\u001b[4m6\u001b[24m\u001b[4m3\u001b[24m\n",
      "\u001b[90m 2\u001b[39m     112     0.004\u001b[4m6\u001b[24m\u001b[4m3\u001b[24m\n",
      "\u001b[90m 3\u001b[39m     121     0.004\u001b[4m6\u001b[24m\u001b[4m3\u001b[24m\n",
      "\u001b[90m 4\u001b[39m     122     0.004\u001b[4m6\u001b[24m\u001b[4m3\u001b[24m\n",
      "\u001b[90m 5\u001b[39m     131     0.009\u001b[4m2\u001b[24m\u001b[4m6\u001b[24m\n",
      "\u001b[90m 6\u001b[39m     132     0.009\u001b[4m2\u001b[24m\u001b[4m6\u001b[24m\n",
      "\u001b[90m 7\u001b[39m     133     0.004\u001b[4m6\u001b[24m\u001b[4m3\u001b[24m\n",
      "\u001b[90m 8\u001b[39m     141     0.004\u001b[4m6\u001b[24m\u001b[4m3\u001b[24m\n",
      "\u001b[90m 9\u001b[39m     142     0.004\u001b[4m6\u001b[24m\u001b[4m3\u001b[24m\n",
      "\u001b[90m10\u001b[39m     143     0.004\u001b[4m6\u001b[24m\u001b[4m3\u001b[24m\n",
      "\u001b[90m# ℹ 100 more rows\u001b[39m\n"
     ]
    }
   ],
   "source": [
    "# 데이터프레임 확인\n",
    "print(prob_d3_1)"
   ]
  },
  {
   "cell_type": "code",
   "execution_count": 73,
   "id": "f30ce2ef-b6ce-4dec-9500-bec3583af40a",
   "metadata": {
    "vscode": {
     "languageId": "r"
    }
   },
   "outputs": [
    {
     "data": {
      "text/html": [
       "110"
      ],
      "text/latex": [
       "110"
      ],
      "text/markdown": [
       "110"
      ],
      "text/plain": [
       "[1] 110"
      ]
     },
     "metadata": {},
     "output_type": "display_data"
    }
   ],
   "source": [
    "# 결과로 생긴 두자리 수의 총 개수\n",
    "length(prob_d3_1$result1)"
   ]
  },
  {
   "cell_type": "code",
   "execution_count": 74,
   "id": "67662e31-82a6-48b9-a693-29a5335523d5",
   "metadata": {
    "vscode": {
     "languageId": "r"
    }
   },
   "outputs": [
    {
     "data": {
      "text/html": [
       "1"
      ],
      "text/latex": [
       "1"
      ],
      "text/markdown": [
       "1"
      ],
      "text/plain": [
       "[1] 1"
      ]
     },
     "metadata": {},
     "output_type": "display_data"
    }
   ],
   "source": [
    "# 확률의 합 = 1 확인\n",
    "sum(prob_d3_1$probability)"
   ]
  },
  {
   "cell_type": "code",
   "execution_count": 75,
   "id": "63d75349-a715-4c70-a1f5-af15e97da307",
   "metadata": {
    "vscode": {
     "languageId": "r"
    }
   },
   "outputs": [
    {
     "data": {
      "text/plain": [
       "\n",
       "0.00462962962962963 0.00925925925925926  0.0138888888888889  0.0185185185185185 \n",
       "                 56                  22                  20                   4 \n",
       " 0.0231481481481481 \n",
       "                  8 "
      ]
     },
     "metadata": {},
     "output_type": "display_data"
    }
   ],
   "source": [
    "# 확률별 빈도수 확인\n",
    "table(prob_d3_1$probability)"
   ]
  },
  {
   "cell_type": "code",
   "execution_count": 80,
   "id": "8bc65104-e1fd-469a-a3a7-65cc2beb70c6",
   "metadata": {
    "vscode": {
     "languageId": "r"
    }
   },
   "outputs": [],
   "source": [
    "# 그래프 크기 설정\n",
    "options(repr.plot.width = 12, repr.plot.height = 8)"
   ]
  },
  {
   "cell_type": "code",
   "execution_count": 82,
   "id": "779ec131-eb49-4d6e-93df-5bff9ca2fa4e",
   "metadata": {
    "vscode": {
     "languageId": "r"
    }
   },
   "outputs": [
    {
     "data": {
      "image/png": "[encoded data removed]",
      "text/plain": [
       "plot without title"
      ]
     },
     "metadata": {
      "image/png": {
       "height": 480,
       "width": 720
      }
     },
     "output_type": "display_data"
    }
   ],
   "source": [
    "# 확률 분포 그래프 그리기 (확률값 표시 포함)\n",
    "ggplot(prob_d3_1, aes(x = factor(result1), y = probability)) +\n",
    "  geom_bar(stat = \"identity\", fill = \"blue\", alpha = 0.7) +\n",
    "  geom_text(aes(label = sprintf(\"%.3f\", probability)), vjust = -0.3, size = 1) + # 확률값 표시 (소수점 3자리)\n",
    "  labs(title = \"Three-digit Number Probability Distribution (Strategy 1)\",\n",
    "       x = \"Result\",\n",
    "       y = \"Probability\") +\n",
    "  theme_minimal() +\n",
    "  theme(axis.text.x = element_text(size=4, angle = 90, hjust = 1)) + # x축 글자 크기 작게 설정\n",
    "  scale_y_continuous(breaks = sort(unique(prob_d3_1$probability)))"
   ]
  },
  {
   "cell_type": "markdown",
   "id": "985cf0f8-1cd2-42be-a377-93039d2b213a",
   "metadata": {},
   "source": [
    "### 전략 2"
   ]
  },
  {
   "cell_type": "code",
   "execution_count": 83,
   "id": "6ed69e7e-2e5b-4afa-9245-268c70f15bf8",
   "metadata": {
    "vscode": {
     "languageId": "r"
    }
   },
   "outputs": [],
   "source": [
    "# 세 자리 숫자(result) 계산\n",
    "d3 <- d3 %>%\n",
    "  mutate(result2 = ifelse(\n",
    "    d3$dice1 <= 3,  # dice1이 3 이하면 일의 자리\n",
    "    ifelse(d3$dice2 <= 3,  # dice2가 3 이하면 십의 자리, 4 이상이면 백의 자리\n",
    "         d3$dice1 + d3$dice2 * 10 + d3$dice3 * 100,  # dice2가 십의 자리, dice3가 백의 자리\n",
    "         d3$dice1 + d3$dice3 * 10 + d3$dice2 * 100), # dice2가 백의 자리, dice3가 십의 자리\n",
    "    ifelse(d3$dice2 <= 3,  # dice1이 4 이상이면 백의 자리, dice2가 3 이하면 일의 자리\n",
    "         d3$dice2 + d3$dice3 * 10 + d3$dice1 * 100,  # dice2가 일의 자리, dice3가 십의 자리 \n",
    "         d3$dice3 + d3$dice2 * 10 + d3$dice1 * 100)  # dice2가 십의 자리, dice3가 일의 자리 \n",
    ")\n",
    "        )"
   ]
  },
  {
   "cell_type": "code",
   "execution_count": 84,
   "id": "0519bbb9-edbb-42cf-9cdc-9b99d7a65ba2",
   "metadata": {
    "vscode": {
     "languageId": "r"
    }
   },
   "outputs": [],
   "source": [
    "# 각 result가 나올 확률 계산 (각 조합은 1/216 확률)\n",
    "prob_d3_2 <- d3 %>%\n",
    "  group_by(result2) %>%\n",
    "  summarise(probability = n() / 216)"
   ]
  },
  {
   "cell_type": "code",
   "execution_count": 85,
   "id": "09eb06c6-348b-4fcb-9d82-49ff77459249",
   "metadata": {
    "vscode": {
     "languageId": "r"
    }
   },
   "outputs": [
    {
     "name": "stdout",
     "output_type": "stream",
     "text": [
      "\u001b[90m# A tibble: 108 × 2\u001b[39m\n",
      "   result2 probability\n",
      "     \u001b[3m\u001b[90m<dbl>\u001b[39m\u001b[23m       \u001b[3m\u001b[90m<dbl>\u001b[39m\u001b[23m\n",
      "\u001b[90m 1\u001b[39m     111     0.004\u001b[4m6\u001b[24m\u001b[4m3\u001b[24m\n",
      "\u001b[90m 2\u001b[39m     112     0.004\u001b[4m6\u001b[24m\u001b[4m3\u001b[24m\n",
      "\u001b[90m 3\u001b[39m     113     0.004\u001b[4m6\u001b[24m\u001b[4m3\u001b[24m\n",
      "\u001b[90m 4\u001b[39m     121     0.004\u001b[4m6\u001b[24m\u001b[4m3\u001b[24m\n",
      "\u001b[90m 5\u001b[39m     122     0.004\u001b[4m6\u001b[24m\u001b[4m3\u001b[24m\n",
      "\u001b[90m 6\u001b[39m     123     0.004\u001b[4m6\u001b[24m\u001b[4m3\u001b[24m\n",
      "\u001b[90m 7\u001b[39m     131     0.004\u001b[4m6\u001b[24m\u001b[4m3\u001b[24m\n",
      "\u001b[90m 8\u001b[39m     132     0.004\u001b[4m6\u001b[24m\u001b[4m3\u001b[24m\n",
      "\u001b[90m 9\u001b[39m     133     0.004\u001b[4m6\u001b[24m\u001b[4m3\u001b[24m\n",
      "\u001b[90m10\u001b[39m     211     0.004\u001b[4m6\u001b[24m\u001b[4m3\u001b[24m\n",
      "\u001b[90m# ℹ 98 more rows\u001b[39m\n"
     ]
    }
   ],
   "source": [
    "# 데이터프레임 확인\n",
    "print(prob_d3_2)"
   ]
  },
  {
   "cell_type": "code",
   "execution_count": 86,
   "id": "16916b26-5edd-4558-9b99-c9201670ae74",
   "metadata": {
    "vscode": {
     "languageId": "r"
    }
   },
   "outputs": [
    {
     "data": {
      "text/html": [
       "108"
      ],
      "text/latex": [
       "108"
      ],
      "text/markdown": [
       "108"
      ],
      "text/plain": [
       "[1] 108"
      ]
     },
     "metadata": {},
     "output_type": "display_data"
    }
   ],
   "source": [
    "# 결과로 생긴 두자리 수의 총 개수\n",
    "length(prob_d3_2$result2)"
   ]
  },
  {
   "cell_type": "code",
   "execution_count": 87,
   "id": "e103505c-4cb8-499c-aba7-c779f7968ea5",
   "metadata": {
    "vscode": {
     "languageId": "r"
    }
   },
   "outputs": [
    {
     "data": {
      "text/html": [
       "1"
      ],
      "text/latex": [
       "1"
      ],
      "text/markdown": [
       "1"
      ],
      "text/plain": [
       "[1] 1"
      ]
     },
     "metadata": {},
     "output_type": "display_data"
    }
   ],
   "source": [
    "# 확률의 합 = 1 확인\n",
    "sum(prob_d3_2$probability)"
   ]
  },
  {
   "cell_type": "code",
   "execution_count": 88,
   "id": "a15b87a9-3dd6-43eb-ad29-99efc1c95d0c",
   "metadata": {
    "vscode": {
     "languageId": "r"
    }
   },
   "outputs": [
    {
     "data": {
      "text/plain": [
       "\n",
       "0.00462962962962963  0.0138888888888889 \n",
       "                 54                  54 "
      ]
     },
     "metadata": {},
     "output_type": "display_data"
    }
   ],
   "source": [
    "# 확률별 빈도수 확인\n",
    "table(prob_d3_2$probability)"
   ]
  },
  {
   "cell_type": "code",
   "execution_count": 89,
   "id": "5851a6b4-8319-4cc9-9c5a-fb37a4c069c8",
   "metadata": {
    "vscode": {
     "languageId": "r"
    }
   },
   "outputs": [],
   "source": [
    "# 그래프 크기 설정\n",
    "options(repr.plot.width = 12, repr.plot.height = 8)"
   ]
  },
  {
   "cell_type": "code",
   "execution_count": 90,
   "id": "8b91993c-6720-4dc5-aa52-ef0f44e21988",
   "metadata": {
    "vscode": {
     "languageId": "r"
    }
   },
   "outputs": [
    {
     "data": {
      "image/png": "[encoded data removed]",
      "text/plain": [
       "plot without title"
      ]
     },
     "metadata": {
      "image/png": {
       "height": 480,
       "width": 720
      }
     },
     "output_type": "display_data"
    }
   ],
   "source": [
    "# 확률 분포 그래프 그리기 (확률값 표시 포함)\n",
    "ggplot(prob_d3_2, aes(x = factor(result2), y = probability)) +\n",
    "  geom_bar(stat = \"identity\", fill = \"blue\", alpha = 0.7) +\n",
    "  geom_text(aes(label = sprintf(\"%.3f\", probability)), vjust = -0.3, size = 1) + # 확률값 표시 (소수점 3자리)\n",
    "  labs(title = \"Three-digit Number Probability Distribution (Strategy 2)\",\n",
    "       x = \"Result\",\n",
    "       y = \"Probability\") +\n",
    "  theme_minimal() +\n",
    "  theme(axis.text.x = element_text(size=4, angle = 90, hjust = 1)) + # x축 글자 크기 작게 설정\n",
    "  scale_y_continuous(breaks = sort(unique(prob_d3_2$probability)))"
   ]
  },
  {
   "cell_type": "markdown",
   "id": "88561ce3-c4ed-43c6-b31a-aabf3e1fc3c1",
   "metadata": {},
   "source": [
    "### 전략 3"
   ]
  },
  {
   "cell_type": "code",
   "execution_count": 91,
   "id": "2137b033-485d-44b5-a4e6-6029c86f829d",
   "metadata": {
    "vscode": {
     "languageId": "r"
    }
   },
   "outputs": [],
   "source": [
    "# 세 자리 숫자(result) 계산\n",
    "d3 <- d3 %>%\n",
    "  mutate(result3 = ifelse(\n",
    "      d3$dice1 <= 3,  # dice1이 3 이하면 일의 자리\n",
    "      ifelse(d3$dice2 <= 3,  # dice2가 3 이하면 십의 자리, 4 이상이면 백의 자리\n",
    "             d3$dice1 + d3$dice2 * 10 + d3$dice3 * 100,  # dice2가 십의 자리, dice3가 백의 자리\n",
    "             d3$dice1 + d3$dice3 * 10 + d3$dice2 * 100), # dice2가 백의 자리, dice3가 십의 자리\n",
    "      ifelse(d3$dice2 <= 3,  # dice1이 4 이상이면 십의 자리, dice2가 3 이하면 일의 자리\n",
    "             d3$dice2 + d3$dice1 * 10 + d3$dice3 * 100,  # dice2가 일의 자리, dice3가 백의 자리 \n",
    "             d3$dice3 + d3$dice1 * 10 + d3$dice2 * 100)  # dice2가 백의 자리, dice3가 일의 자리 \n",
    ")\n",
    "        )"
   ]
  },
  {
   "cell_type": "code",
   "execution_count": 92,
   "id": "cf733a98-f143-4d6f-ab02-1b12c97abf45",
   "metadata": {
    "vscode": {
     "languageId": "r"
    }
   },
   "outputs": [],
   "source": [
    "# 각 result가 나올 확률 계산 (각 조합은 1/216 확률)\n",
    "prob_d3_3 <- d3 %>%\n",
    "  group_by(result3) %>%\n",
    "  summarise(probability = n() / 216)"
   ]
  },
  {
   "cell_type": "code",
   "execution_count": 93,
   "id": "341dded5-6e8d-4dca-82fa-babd202d26f9",
   "metadata": {
    "vscode": {
     "languageId": "r"
    }
   },
   "outputs": [
    {
     "name": "stdout",
     "output_type": "stream",
     "text": [
      "\u001b[90m# A tibble: 135 × 2\u001b[39m\n",
      "   result3 probability\n",
      "     \u001b[3m\u001b[90m<dbl>\u001b[39m\u001b[23m       \u001b[3m\u001b[90m<dbl>\u001b[39m\u001b[23m\n",
      "\u001b[90m 1\u001b[39m     111     0.004\u001b[4m6\u001b[24m\u001b[4m3\u001b[24m\n",
      "\u001b[90m 2\u001b[39m     112     0.004\u001b[4m6\u001b[24m\u001b[4m3\u001b[24m\n",
      "\u001b[90m 3\u001b[39m     113     0.004\u001b[4m6\u001b[24m\u001b[4m3\u001b[24m\n",
      "\u001b[90m 4\u001b[39m     121     0.004\u001b[4m6\u001b[24m\u001b[4m3\u001b[24m\n",
      "\u001b[90m 5\u001b[39m     122     0.004\u001b[4m6\u001b[24m\u001b[4m3\u001b[24m\n",
      "\u001b[90m 6\u001b[39m     123     0.004\u001b[4m6\u001b[24m\u001b[4m3\u001b[24m\n",
      "\u001b[90m 7\u001b[39m     131     0.004\u001b[4m6\u001b[24m\u001b[4m3\u001b[24m\n",
      "\u001b[90m 8\u001b[39m     132     0.004\u001b[4m6\u001b[24m\u001b[4m3\u001b[24m\n",
      "\u001b[90m 9\u001b[39m     133     0.004\u001b[4m6\u001b[24m\u001b[4m3\u001b[24m\n",
      "\u001b[90m10\u001b[39m     141     0.004\u001b[4m6\u001b[24m\u001b[4m3\u001b[24m\n",
      "\u001b[90m# ℹ 125 more rows\u001b[39m\n"
     ]
    }
   ],
   "source": [
    "# 데이터프레임 확인\n",
    "print(prob_d3_3)"
   ]
  },
  {
   "cell_type": "code",
   "execution_count": 94,
   "id": "400f4a73-97aa-4e68-bc26-ad2151ee33dc",
   "metadata": {
    "vscode": {
     "languageId": "r"
    }
   },
   "outputs": [
    {
     "data": {
      "text/html": [
       "135"
      ],
      "text/latex": [
       "135"
      ],
      "text/markdown": [
       "135"
      ],
      "text/plain": [
       "[1] 135"
      ]
     },
     "metadata": {},
     "output_type": "display_data"
    }
   ],
   "source": [
    "# 결과로 생긴 두자리 수의 총 개수\n",
    "length(prob_d3_3$result3)"
   ]
  },
  {
   "cell_type": "code",
   "execution_count": 95,
   "id": "e12b19b9-18e6-498a-928c-fa78f9d74115",
   "metadata": {
    "vscode": {
     "languageId": "r"
    }
   },
   "outputs": [
    {
     "data": {
      "text/html": [
       "1"
      ],
      "text/latex": [
       "1"
      ],
      "text/markdown": [
       "1"
      ],
      "text/plain": [
       "[1] 1"
      ]
     },
     "metadata": {},
     "output_type": "display_data"
    }
   ],
   "source": [
    "# 확률의 합 = 1 확인\n",
    "sum(prob_d3_3$probability)"
   ]
  },
  {
   "cell_type": "code",
   "execution_count": 96,
   "id": "56532809-105b-43e9-b242-1771b0e615fb",
   "metadata": {
    "vscode": {
     "languageId": "r"
    }
   },
   "outputs": [
    {
     "data": {
      "text/plain": [
       "\n",
       "0.00462962962962963 0.00925925925925926  0.0138888888888889 \n",
       "                 81                  27                  27 "
      ]
     },
     "metadata": {},
     "output_type": "display_data"
    }
   ],
   "source": [
    "# 확률별 빈도수 확인\n",
    "table(prob_d3_3$probability)"
   ]
  },
  {
   "cell_type": "code",
   "execution_count": 97,
   "id": "da75fcf7-57ed-483c-adb4-4cfa1c2677e5",
   "metadata": {
    "vscode": {
     "languageId": "r"
    }
   },
   "outputs": [],
   "source": [
    "# 그래프 크기 설정\n",
    "options(repr.plot.width = 12, repr.plot.height = 8)"
   ]
  },
  {
   "cell_type": "code",
   "execution_count": 98,
   "id": "c367fb06-da1c-48e2-98e7-649ed5f9f4de",
   "metadata": {
    "vscode": {
     "languageId": "r"
    }
   },
   "outputs": [
    {
     "data": {
      "image/png": "[encoded data removed]",
      "text/plain": [
       "plot without title"
      ]
     },
     "metadata": {
      "image/png": {
       "height": 480,
       "width": 720
      }
     },
     "output_type": "display_data"
    }
   ],
   "source": [
    "# 확률 분포 그래프 그리기 (확률값 표시 포함)\n",
    "ggplot(prob_d3_3, aes(x = factor(result3), y = probability)) +\n",
    "  geom_bar(stat = \"identity\", fill = \"blue\", alpha = 0.7) +\n",
    "  geom_text(aes(label = sprintf(\"%.3f\", probability)), vjust = -0.3, size = 1) + # 확률값 표시 (소수점 3자리)\n",
    "  labs(title = \"Three-digit Number Probability Distribution (Strategy 3)\",\n",
    "       x = \"Result\",\n",
    "       y = \"Probability\") +\n",
    "  theme_minimal() +\n",
    "  theme(axis.text.x = element_text(size=4, angle = 90, hjust = 1)) + # x축 글자 크기 작게 설정\n",
    "  scale_y_continuous(breaks = sort(unique(prob_d3_3$probability)))"
   ]
  },
  {
   "cell_type": "markdown",
   "id": "177b4839-1f80-46d6-9cc5-3c29a82a5b13",
   "metadata": {},
   "source": [
    "### 결론"
   ]
  },
  {
   "cell_type": "markdown",
   "id": "4a4a2f6b-2a68-46ac-85c5-e0d7023c4cad",
   "metadata": {},
   "source": [
    "- 각 전략 별로 확률 분포가 다르게 나옴\n",
    "- 전략 1만 유일하게 0.0139 이상의 확률을 가짐"
   ]
  },
  {
   "cell_type": "markdown",
   "id": "255a29d2-4395-45f5-b38e-e2b706f4973c",
   "metadata": {},
   "source": [
    "## 3."
   ]
  },
  {
   "cell_type": "markdown",
   "id": "27f4f7d8-bcac-4f8a-a590-a926a7f3353b",
   "metadata": {},
   "source": [
    "최선의 전략에서 기대 점수"
   ]
  },
  {
   "cell_type": "markdown",
   "id": "b6b1b50e-2905-4ef7-91ea-9b64729824fe",
   "metadata": {},
   "source": [
    "### 전략 1"
   ]
  },
  {
   "cell_type": "code",
   "execution_count": 102,
   "id": "39eac29c-4e80-4ddf-b0e2-a9ea7f0a561c",
   "metadata": {
    "vscode": {
     "languageId": "r"
    }
   },
   "outputs": [
    {
     "data": {
      "text/html": [
       "504"
      ],
      "text/latex": [
       "504"
      ],
      "text/markdown": [
       "504"
      ],
      "text/plain": [
       "[1] 504"
      ]
     },
     "metadata": {},
     "output_type": "display_data"
    }
   ],
   "source": [
    "sum(prob_d3_1$result1 * prob_d3_1$probability)"
   ]
  },
  {
   "cell_type": "markdown",
   "id": "4c931d70-0fca-4fb5-86ca-53f95819799c",
   "metadata": {},
   "source": [
    "### 전략 2"
   ]
  },
  {
   "cell_type": "code",
   "execution_count": 103,
   "id": "344d322c-823c-4eec-ad2c-fd16f0a89492",
   "metadata": {
    "vscode": {
     "languageId": "r"
    }
   },
   "outputs": [
    {
     "data": {
      "text/html": [
       "499.875"
      ],
      "text/latex": [
       "499.875"
      ],
      "text/markdown": [
       "499.875"
      ],
      "text/plain": [
       "[1] 499.875"
      ]
     },
     "metadata": {},
     "output_type": "display_data"
    }
   ],
   "source": [
    "sum(prob_d3_2$result2 * prob_d3_2$probability)"
   ]
  },
  {
   "cell_type": "markdown",
   "id": "900a296c-9640-40ea-8454-a0203dd0cbae",
   "metadata": {},
   "source": [
    "### 전략 3"
   ]
  },
  {
   "cell_type": "code",
   "execution_count": 104,
   "id": "6cdcd684-a6b9-47ba-a59c-e5174bb63bcb",
   "metadata": {
    "vscode": {
     "languageId": "r"
    }
   },
   "outputs": [
    {
     "data": {
      "text/html": [
       "466.125"
      ],
      "text/latex": [
       "466.125"
      ],
      "text/markdown": [
       "466.125"
      ],
      "text/plain": [
       "[1] 466.125"
      ]
     },
     "metadata": {},
     "output_type": "display_data"
    }
   ],
   "source": [
    "sum(prob_d3_3$result3 * prob_d3_3$probability)"
   ]
  },
  {
   "cell_type": "markdown",
   "id": "96f7baf3-3830-4bbe-863e-0c263a27cb95",
   "metadata": {},
   "source": [
    "### 결론"
   ]
  },
  {
   "cell_type": "markdown",
   "id": "380f6c7e-94cf-4fd5-ad1e-6d275ff91b8d",
   "metadata": {},
   "source": [
    "- 전략 1의 기대 점수가 제일 높으므로 전략 1,2,3 중 최선의 전략은 전략 1이라고 할 수 있음\n",
    "- 전략 3의 기대 점수는 다른 전략에 비해 많이 낮음"
   ]
  },
  {
   "cell_type": "markdown",
   "id": "f8f3268e-fad6-43c8-9fe3-44704a4f998f",
   "metadata": {},
   "source": [
    "## 4."
   ]
  },
  {
   "cell_type": "markdown",
   "id": "933746f6-0c7e-42d0-b3c9-07887c7caa22",
   "metadata": {},
   "source": [
    "이 게임에서 얻을 수 있는 일상생활이나 삶의 교훈 (자신의 경험 기반)"
   ]
  },
  {
   "cell_type": "markdown",
   "id": "3a30e066-4945-47d6-857b-dfb73b879e14",
   "metadata": {},
   "source": [
    "- 이번 경험을 통해 인간의 직관이 때때로 놀라울 정도로 정확할 수 있다는 점을 다시금 실감했다. 위의 풀이가 모든 경우의 수를 고려한 최적의 해법임을 수학적으로 엄밀하게 증명할 수 있었지만, 흥미로웠던 것은 그 최선의 전략이 직관적으로 즉각 떠올랐다는 점이다. 이는 복잡한 계산을 거친 결과라기보다는 대칭과 균형을 고려하는 과정에서 자연스럽게 도출된 결론이었다. 자연이나 반복되는 일상 속에서도 이러한 직관이 예상보다 정확하게 작용하는 경우를 종종 경험한다.\n",
    "\n",
    "- 그러나 직관만을 절대적으로 신뢰할 수는 없다. 예컨대, 1.1번 문제의 확률 분포를 살펴봤을 때, 전략 2가 전략 1보다 우월해 보였지만, 기대값을 실제로 계산해본 결과 정반대의 결론이 도출되었다. 현실이 언제나 기대값대로 움직이는 것은 아니지만, 통계적 분석은 인간이 제시할 수 있는 근거 중 가장 객관적이고 신뢰할 만한 도구임을 부정할 수 없다. 결국, 직관과 수리적 분석이 조화를 이룰 때 보다 정교한 판단이 가능해진다는 점을 다시 한번 깨닫게 되었다."
   ]
  },
  {
   "cell_type": "markdown",
   "id": "d423cf45-f7b6-475c-9698-29486d5466a0",
   "metadata": {},
   "source": [
    "## 이론적 증명"
   ]
  },
  {
   "cell_type": "markdown",
   "id": "b305d499-292b-4737-a45f-cfddd23ed015",
   "metadata": {},
   "source": [
    "공정한 주사위를 1개 던져서 나오는 결과를 $k$라고 할 때\n",
    "\n",
    "$$P(X = k) = \\frac{1}{6}, \\quad k \\in \\{1, 2, 3, 4, 5, 6\\}$$\n",
    "\n",
    "$$E[X] = \\frac{1 + 2 + 3 + 4 + 5 + 6}{6} = \\frac{21}{6} = 3.5$$\n"
   ]
  },
  {
   "cell_type": "markdown",
   "id": "f732f244-4396-48ee-bbf7-9ad92c8e1048",
   "metadata": {},
   "source": [
    "위의 1.1 주사위 문제에서 만들 수 있는 최대 두자리 수의 이론적 기대값은 42.5"
   ]
  },
  {
   "cell_type": "markdown",
   "id": "d3c66e2b-ae06-4997-9e74-4165d4bd777b",
   "metadata": {},
   "source": [
    "이 문제는 처음 던진 주사위를 일의 자리, 십의 자리, 백의 자리 중 어느 곳에 넣는 것이 좋을지 고려해야한다."
   ]
  },
  {
   "cell_type": "markdown",
   "id": "4fa0af7d-f225-4846-9d11-6b6be0adf8c5",
   "metadata": {},
   "source": [
    "첫 번째 주사위를 던져서 나온 결과를 $d$라고 할 때"
   ]
  },
  {
   "cell_type": "markdown",
   "id": "9f7d0f6f-65b3-4e23-b007-9b9559adf2d6",
   "metadata": {},
   "source": [
    "- $d$를 1의 자리에 둘 경우"
   ]
  }
 ],
 "metadata": {
  "kernelspec": {
   "display_name": "R",
   "language": "R",
   "name": "ir"
  },
  "language_info": {
   "codemirror_mode": "r",
   "file_extension": ".r",
   "mimetype": "text/x-r-source",
   "name": "R",
   "pygments_lexer": "r",
   "version": "4.3.1"
  }
 },
 "nbformat": 4,
 "nbformat_minor": 5
}
